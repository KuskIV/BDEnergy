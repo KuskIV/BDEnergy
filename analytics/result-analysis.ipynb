{
 "cells": [
  {
   "cell_type": "code",
   "execution_count": 1,
   "metadata": {},
   "outputs": [],
   "source": [
    "from utils.database_connection import DatabaseConnection\n",
    "import utils.results_repository as rep\n",
    "import pandas as pd\n",
    "import numpy as np\n",
    "from utils.column_name_utils import *\n",
    "import utils.query_utils as query\n",
    "import matplotlib.pyplot as plot\n",
    "import utils.dataframe_utils as df_util\n",
    "import utils.path_utils as path_util\n",
    "import utils.math_utils as math_util\n",
    "import math\n",
    "import utils.latex_utils as tex\n",
    "from scipy import stats\n",
    "import utils.time_series_utils as ts_util\n",
    "import json\n",
    "import utils.measurement_utils as m_util"
   ]
  },
  {
   "cell_type": "code",
   "execution_count": 2,
   "metadata": {},
   "outputs": [
    {
     "name": "stdout",
     "output_type": "stream",
     "text": [
      "Connected to MySQL Server version  8.0.32-24\n"
     ]
    }
   ],
   "source": [
    "db = DatabaseConnection()"
   ]
  },
  {
   "cell_type": "code",
   "execution_count": 3,
   "metadata": {},
   "outputs": [],
   "source": [
    "measurements_used = 10000\n",
    "time_series_used = 50\n",
    "# energy_per_time = 1000\n",
    "generate_graphs = True\n",
    "show_plots = True\n",
    "\n",
    "get_timeseries = False\n",
    "get_measurements = True"
   ]
  },
  {
   "cell_type": "code",
   "execution_count": 4,
   "metadata": {},
   "outputs": [],
   "source": [
    "# exp_name = \"compiler\"\n",
    "exp_name = \"p-vs-e-core\"\n",
    "# exp_name = \"measuring_instrument\"\n",
    "# exp_name = \"app\"\n",
    "# exp_name = \"run-many-times\"\n",
    "# exp_name = \"cores\""
   ]
  },
  {
   "cell_type": "code",
   "execution_count": 5,
   "metadata": {},
   "outputs": [],
   "source": [
    "used_dut_name = [\n",
    "    'workstationtwo',\n",
    "    # 'workstationone',\n",
    "]\n",
    "\n",
    "idle_case_config = -1\n",
    "\n",
    "used_dut_name.sort()\n",
    "\n",
    "used_dut_env = 'prod'\n",
    "\n",
    "windows = \"win32nt\"\n",
    "linux = \"unix\"\n",
    "\n",
    "# used_os_names = [\n",
    "#     windows, \n",
    "#     linux\n",
    "# ]\n",
    "\n",
    "used_test_case_names = [\n",
    "    # 'fannkuch-redux.exe',\n",
    "    'mandelbrot.exe',\n",
    "    # 'idle-case.exe'\n",
    "]\n",
    "\n",
    "used_test_case_names.sort()\n",
    "\n",
    "used_thread = [\n",
    "    'multi-threaded'\n",
    "]\n",
    "\n",
    "used_thread.sort()\n",
    "\n",
    "used_test_case_name = 'idle-case.exe'\n",
    "\n",
    "ipg = \"ipg\"\n",
    "lhm = \"lhm\"\n",
    "rapl = \"rapl\"\n",
    "clamp = \"clamp\"\n",
    "plug = \"plug\"\n",
    "scaphandre = \"scaphandre\"\n",
    "\n",
    "windows_mi = [\n",
    "    ipg, lhm, clamp, plug, scaphandre\n",
    "]\n",
    "\n",
    "linux_mi = [\n",
    "    rapl, clamp, plug\n",
    "]\n",
    "\n",
    "used_mi_names = [\n",
    "    clamp, ipg ##ipg, lhm, ipg, clamp, plug #, scaphandre, # plug, rapl\n",
    "]\n",
    "\n",
    "ipg_sample_rate = 100\n",
    "lhm_sample_rate = 100\n",
    "rapl_sample_rate = 100\n",
    "clamp_sample_rate = 100\n",
    "plug_sample_rate = 200\n",
    "scaphandre_sample_rate = 100\n",
    "\n",
    "used_min_temp = 0\n",
    "used_max_temp = 200\n",
    "used_burn_in = 1\n",
    "used_allocated_cores = [\n",
    "    []\n",
    "]\n",
    "\n",
    "used_allocated_cores.sort()"
   ]
  },
  {
   "cell_type": "code",
   "execution_count": 6,
   "metadata": {},
   "outputs": [],
   "source": [
    "if exp_name == \"compiler\":\n",
    "    experiment_name = \"same-cpp-multi-core-micro-benchmark-different-compiler\"\n",
    "    experiment_number = 1\n",
    "    \n",
    "    used_os_names = [\n",
    "        windows, \n",
    "    ]\n",
    "    \n",
    "    used_mi_names = [\n",
    "        ipg\n",
    "    ]\n",
    "    \n",
    "    used_compilers = [\n",
    "        'clang', 'intel-one-api', 'min-gw', 'msvc'\n",
    "    ]\n",
    "    \n",
    "    test_case_parameters = [\"\", \"12\", \"16000\"]\n",
    "\n",
    "if exp_name == \"measuring_instrument\":\n",
    "    experiment_name = \"same-one-api-compiler-different-measuring-instruments-post-update-and-watt\"\n",
    "    experiment_number = 2\n",
    "    \n",
    "    used_os_names = [\n",
    "        windows, \n",
    "        linux\n",
    "    ]\n",
    "    \n",
    "    used_mi_names = [\n",
    "        ipg, scaphandre, lhm, plug, rapl, clamp, rapl\n",
    "        # ipg\n",
    "        # rapl\n",
    "        # clamp\n",
    "        # ipg, clamp, plug, lhm, rapl #, lhm, scaphandre, # plug, rapl\n",
    "        # lhm#, plug\n",
    "        # lhm #clamp\n",
    "        # rapl, plug\n",
    "    ]\n",
    "    \n",
    "    used_compilers = [\n",
    "        'intel-one-api'\n",
    "    ]\n",
    "    \n",
    "    test_case_parameters = [\"\", \"12\", \"64000\"]\n",
    "    \n",
    "if exp_name == \"run-many-times\":\n",
    "    experiment_name = \"run-clamp-many-times-exp\"\n",
    "    experiment_number = 2\n",
    "    \n",
    "    used_os_names = [\n",
    "        windows, \n",
    "    ]\n",
    "    \n",
    "    used_dut_name = [\n",
    "        'workstationtwo',\n",
    "    ]\n",
    "    \n",
    "    used_test_case_names = [\n",
    "        'mandelbrot.exe',\n",
    "    ]\n",
    "    \n",
    "    used_mi_names = [\n",
    "        clamp\n",
    "    ]\n",
    "    \n",
    "    used_compilers = [\n",
    "        'intel-one-api'\n",
    "    ]\n",
    "    \n",
    "    test_case_parameters = [\"\", \"12\", \"64000\"]\n",
    "\n",
    "if exp_name == 'cores':\n",
    "    experiment_name = \"same-one-api-compiler-different-cores\"\n",
    "    experiment_number = 3\n",
    "    \n",
    "    used_os_names = [\n",
    "        windows, \n",
    "    ]\n",
    "    \n",
    "    used_mi_names = [\n",
    "        ipg #, clamp\n",
    "    ]\n",
    "    \n",
    "    used_dut_name = [\n",
    "        'workstationtwo',\n",
    "        # 'workstationone',\n",
    "    ]\n",
    "    \n",
    "    used_compilers = [\n",
    "        'intel-one-api'\n",
    "    ]\n",
    "    \n",
    "    used_test_case_names = [\n",
    "        'nbody.exe',\n",
    "        # 'spectral-norm.exe',\n",
    "        # 'idle-case.exe'\n",
    "    ]\n",
    "    \n",
    "    used_thread = [\n",
    "        'single-threaded'\n",
    "    ]\n",
    "    \n",
    "    used_allocated_cores = [\n",
    "        ['0'], \n",
    "        ['1'], \n",
    "        ['2'],\n",
    "        ['3'],\n",
    "        ['4'],\n",
    "        ['5'],\n",
    "        ['6'],\n",
    "        ['7'],\n",
    "        ['8'],\n",
    "        ['9'],\n",
    "    ]\n",
    "    \n",
    "    used_os_names = [\n",
    "        windows\n",
    "    ]   \n",
    "    \n",
    "    test_case_parameters = [\"\", \"180000000\", \"18000\"]\n",
    "\n",
    "if exp_name == \"p-vs-e-core\":\n",
    "    experiment_name = \"compare-p-and-e-cores-on-pcmark-with-boost-update\"\n",
    "    # experiment_name = \"compare-p-and-e-cores-on-pcmark-without-boost\"\n",
    "    experiment_number = 3\n",
    "    used_burn_in = 0\n",
    "    \n",
    "    used_dut_name = [\n",
    "        'workstationtwo',\n",
    "    ]\n",
    "    \n",
    "    used_mi_names = [\n",
    "        ipg\n",
    "    ]\n",
    "    \n",
    "    used_compilers = [\n",
    "        'unkown'\n",
    "    ]\n",
    "    \n",
    "    used_test_case_names = [\n",
    "        'pc-mark-10.exe'\n",
    "    ]\n",
    "    \n",
    "    used_thread = [\n",
    "        'multi-threaded'\n",
    "    ]\n",
    "    \n",
    "    used_allocated_cores = [\n",
    "        ['4', '3', '2', '1'],\n",
    "        ['8', '7', '6', '9'],\n",
    "        ['8', '7', '4', '3']\n",
    "    ]\n",
    "    \n",
    "    idle_case_config = 2\n",
    "    \n",
    "    used_os_names = [\n",
    "        windows\n",
    "    ]   \n",
    "    \n",
    "    test_case_parameters = [\"\"]\n",
    "    \n",
    "    used_test_case_name = 'idle.exe'\n",
    "\n",
    "if exp_name == 'app':\n",
    "    experiment_name = \"same-mi-different-application-post-config-update\"\n",
    "    experiment_number = 3\n",
    "    used_burn_in = 0\n",
    "    \n",
    "\n",
    "    \n",
    "    used_test_case_name = 'idle.exe'\n",
    "    \n",
    "    used_os_names = [\n",
    "        windows, \n",
    "    ]\n",
    "    \n",
    "    used_mi_names = [\n",
    "        ipg, \n",
    "        # clamp\n",
    "    ]\n",
    "    \n",
    "    used_compilers = [\n",
    "        'unkown'\n",
    "    ]\n",
    "    \n",
    "    used_test_case_names = [\n",
    "        '3d-mark.exe',\n",
    "        # 'pc-mark-10.exe',\n",
    "        # 'idle.exe'\n",
    "    ]\n",
    "    \n",
    "    used_thread = [\n",
    "        'multi-threaded'\n",
    "    ]\n",
    "    \n",
    "    used_allocated_cores = [\n",
    "        ['4'],\n",
    "        ['4', '3'],\n",
    "        ['4', '3', '2'],\n",
    "        ['4', '3', '2', '1'],\n",
    "        ['4', '3', '2', '1', '5'],\n",
    "        ['4', '3', '2', '1', '5', '0'],\n",
    "        ['4', '3', '2', '1', '5', '0', '8'],\n",
    "        ['4', '3', '2', '1', '5', '0', '8', '7'],\n",
    "        ['4', '3', '2', '1', '5', '0', '8', '7', '6'],\n",
    "        ['4', '3', '2', '1', '5', '0', '8', '7', '6', '9'],\n",
    "        \n",
    "        # ['0'],\n",
    "        # ['0', '5'],\n",
    "        # ['0', '5', '6'],\n",
    "        # ['0', '5', '6', '2'],\n",
    "        # ['0', '5', '6', '2', '4'],\n",
    "        # ['0', '5', '6', '2', '4', '3'],\n",
    "        # ['0', '5', '6', '2', '4', '3', '1'],\n",
    "        # ['0', '1', '2', '3', '4', '5', '6', '7'],\n",
    "    ]\n",
    "    \n",
    "    idle_case_config = 2\n",
    "    \n",
    "    used_os_names = [\n",
    "        windows\n",
    "    ]   \n",
    "    \n",
    "    test_case_parameters = [\"\"]\n",
    "\n",
    "\n",
    "used_mi_names.sort()\n",
    "used_compilers.sort()"
   ]
  },
  {
   "cell_type": "code",
   "execution_count": 7,
   "metadata": {},
   "outputs": [
    {
     "data": {
      "text/plain": [
       "['pc-mark-10.exe']"
      ]
     },
     "execution_count": 7,
     "metadata": {},
     "output_type": "execute_result"
    }
   ],
   "source": [
    "used_test_case_names"
   ]
  },
  {
   "attachments": {},
   "cell_type": "markdown",
   "metadata": {},
   "source": [
    "### DUTs"
   ]
  },
  {
   "cell_type": "code",
   "execution_count": 8,
   "metadata": {},
   "outputs": [],
   "source": [
    "used_dut_name_str = \"','\".join(used_dut_name)\n",
    "used_os_name_str = \"','\".join(used_os_names)"
   ]
  },
  {
   "cell_type": "code",
   "execution_count": 9,
   "metadata": {},
   "outputs": [
    {
     "data": {
      "text/plain": [
       "(9, 4)"
      ]
     },
     "execution_count": 9,
     "metadata": {},
     "output_type": "execute_result"
    }
   ],
   "source": [
    "dut = rep.get_devices_under_test(db)\n",
    "dut.shape"
   ]
  },
  {
   "cell_type": "code",
   "execution_count": 10,
   "metadata": {},
   "outputs": [
    {
     "data": {
      "text/plain": [
       "(1, 4)"
      ]
     },
     "execution_count": 10,
     "metadata": {},
     "output_type": "execute_result"
    }
   ],
   "source": [
    "used_dut = dut.query(f\"{ENV} == '{used_dut_env}' and {NAME} in ('{used_dut_name_str}') and Os in ('{used_os_name_str}')\")\n",
    "\n",
    "used_dut.shape"
   ]
  },
  {
   "attachments": {},
   "cell_type": "markdown",
   "metadata": {},
   "source": [
    "### Test Cases"
   ]
  },
  {
   "cell_type": "code",
   "execution_count": 11,
   "metadata": {},
   "outputs": [
    {
     "data": {
      "text/plain": [
       "(36, 8)"
      ]
     },
     "execution_count": 11,
     "metadata": {},
     "output_type": "execute_result"
    }
   ],
   "source": [
    "tc = rep.get_test_cases(db)\n",
    "\n",
    "tc.shape"
   ]
  },
  {
   "cell_type": "code",
   "execution_count": 12,
   "metadata": {},
   "outputs": [],
   "source": [
    "used_test_case_name_str = \"','\".join(used_test_case_names)\n",
    "used_compiler_str = \"','\".join(used_compilers)\n",
    "used_thread_str = \"','\".join(used_thread)\n",
    "used_test_case_parameters = \"','\".join(test_case_parameters)\n",
    "\n",
    "used_tc = tc.query(f\"{COMPILER} in ('{used_compiler_str}') and {NAME} in ('{used_test_case_name_str}') and {THREADS} in ('{used_thread_str}') and Parameter in ('{used_test_case_parameters}')\")"
   ]
  },
  {
   "cell_type": "code",
   "execution_count": 13,
   "metadata": {},
   "outputs": [],
   "source": [
    "used_idle_case = tc.query(f\"{COMPILER} in ('{used_compiler_str}') and {NAME} == '{used_test_case_name}' and {THREADS} in ('{used_thread_str}')\")"
   ]
  },
  {
   "cell_type": "code",
   "execution_count": 14,
   "metadata": {},
   "outputs": [
    {
     "data": {
      "text/plain": [
       "''"
      ]
     },
     "execution_count": 14,
     "metadata": {},
     "output_type": "execute_result"
    }
   ],
   "source": [
    "used_test_case_parameters"
   ]
  },
  {
   "attachments": {},
   "cell_type": "markdown",
   "metadata": {},
   "source": [
    "### Measuring Instruments"
   ]
  },
  {
   "cell_type": "code",
   "execution_count": 15,
   "metadata": {},
   "outputs": [
    {
     "data": {
      "text/plain": [
       "(15, 3)"
      ]
     },
     "execution_count": 15,
     "metadata": {},
     "output_type": "execute_result"
    }
   ],
   "source": [
    "mi = rep.get_measuring_instruments(db)\n",
    "\n",
    "mi.shape"
   ]
  },
  {
   "cell_type": "code",
   "execution_count": 16,
   "metadata": {},
   "outputs": [],
   "source": [
    "used_mi_query_list =  query.get_mi_query(\n",
    "    used_mi_names,\n",
    "    ipg,\n",
    "    lhm,\n",
    "    rapl,\n",
    "    plug,\n",
    "    clamp,\n",
    "    scaphandre,\n",
    "    ipg_sample_rate,\n",
    "    lhm_sample_rate,\n",
    "    rapl_sample_rate,\n",
    "    plug_sample_rate,\n",
    "    clamp_sample_rate,\n",
    "    scaphandre_sample_rate,\n",
    ")\n",
    "\n",
    "used_mi = mi.query(\" or \".join(used_mi_query_list))"
   ]
  },
  {
   "attachments": {},
   "cell_type": "markdown",
   "metadata": {},
   "source": [
    "### Configurations"
   ]
  },
  {
   "cell_type": "code",
   "execution_count": 17,
   "metadata": {},
   "outputs": [],
   "source": [
    "used_allocated_cores_str = \",\".join([str(x) for x in used_allocated_cores])\n",
    "used_allocated_cores_str = used_allocated_cores_str.replace(\"'\", '')\n",
    "used_allocated_cores_str = used_allocated_cores_str.replace(\"[\", \"'[\")\n",
    "used_allocated_cores_str = used_allocated_cores_str.replace(\"]\", \"]'\")"
   ]
  },
  {
   "cell_type": "code",
   "execution_count": 18,
   "metadata": {},
   "outputs": [
    {
     "data": {
      "text/plain": [
       "(34, 5)"
      ]
     },
     "execution_count": 18,
     "metadata": {},
     "output_type": "execute_result"
    }
   ],
   "source": [
    "config = rep.get_configurations(db)\n",
    "\n",
    "config.shape"
   ]
  },
  {
   "cell_type": "code",
   "execution_count": 19,
   "metadata": {},
   "outputs": [
    {
     "data": {
      "text/plain": [
       "(34, 5)"
      ]
     },
     "execution_count": 19,
     "metadata": {},
     "output_type": "execute_result"
    }
   ],
   "source": [
    "config.shape"
   ]
  },
  {
   "cell_type": "code",
   "execution_count": 20,
   "metadata": {},
   "outputs": [
    {
     "data": {
      "text/html": [
       "<div>\n",
       "<style scoped>\n",
       "    .dataframe tbody tr th:only-of-type {\n",
       "        vertical-align: middle;\n",
       "    }\n",
       "\n",
       "    .dataframe tbody tr th {\n",
       "        vertical-align: top;\n",
       "    }\n",
       "\n",
       "    .dataframe thead th {\n",
       "        text-align: right;\n",
       "    }\n",
       "</style>\n",
       "<table border=\"1\" class=\"dataframe\">\n",
       "  <thead>\n",
       "    <tr style=\"text-align: right;\">\n",
       "      <th></th>\n",
       "      <th>Id</th>\n",
       "      <th>MinTemp</th>\n",
       "      <th>MaxTemp</th>\n",
       "      <th>Burnin</th>\n",
       "      <th>AllocatedCores</th>\n",
       "    </tr>\n",
       "  </thead>\n",
       "  <tbody>\n",
       "    <tr>\n",
       "      <th>0</th>\n",
       "      <td>1</td>\n",
       "      <td>0</td>\n",
       "      <td>200</td>\n",
       "      <td>1</td>\n",
       "      <td>[]</td>\n",
       "    </tr>\n",
       "    <tr>\n",
       "      <th>1</th>\n",
       "      <td>2</td>\n",
       "      <td>0</td>\n",
       "      <td>200</td>\n",
       "      <td>0</td>\n",
       "      <td>[1]</td>\n",
       "    </tr>\n",
       "    <tr>\n",
       "      <th>2</th>\n",
       "      <td>3</td>\n",
       "      <td>0</td>\n",
       "      <td>200</td>\n",
       "      <td>0</td>\n",
       "      <td>[0, 1, 2, 3]</td>\n",
       "    </tr>\n",
       "    <tr>\n",
       "      <th>3</th>\n",
       "      <td>4</td>\n",
       "      <td>0</td>\n",
       "      <td>200</td>\n",
       "      <td>0</td>\n",
       "      <td>[0, 1, 2, 3, 4, 5, 6, 7]</td>\n",
       "    </tr>\n",
       "    <tr>\n",
       "      <th>4</th>\n",
       "      <td>5</td>\n",
       "      <td>0</td>\n",
       "      <td>100</td>\n",
       "      <td>0</td>\n",
       "      <td>[0, 1]</td>\n",
       "    </tr>\n",
       "    <tr>\n",
       "      <th>5</th>\n",
       "      <td>6</td>\n",
       "      <td>0</td>\n",
       "      <td>200</td>\n",
       "      <td>1</td>\n",
       "      <td>[0]</td>\n",
       "    </tr>\n",
       "    <tr>\n",
       "      <th>6</th>\n",
       "      <td>7</td>\n",
       "      <td>0</td>\n",
       "      <td>200</td>\n",
       "      <td>1</td>\n",
       "      <td>[1]</td>\n",
       "    </tr>\n",
       "    <tr>\n",
       "      <th>7</th>\n",
       "      <td>8</td>\n",
       "      <td>0</td>\n",
       "      <td>200</td>\n",
       "      <td>1</td>\n",
       "      <td>[2]</td>\n",
       "    </tr>\n",
       "    <tr>\n",
       "      <th>8</th>\n",
       "      <td>9</td>\n",
       "      <td>0</td>\n",
       "      <td>200</td>\n",
       "      <td>1</td>\n",
       "      <td>[3]</td>\n",
       "    </tr>\n",
       "    <tr>\n",
       "      <th>9</th>\n",
       "      <td>10</td>\n",
       "      <td>0</td>\n",
       "      <td>200</td>\n",
       "      <td>1</td>\n",
       "      <td>[4]</td>\n",
       "    </tr>\n",
       "    <tr>\n",
       "      <th>10</th>\n",
       "      <td>11</td>\n",
       "      <td>0</td>\n",
       "      <td>200</td>\n",
       "      <td>1</td>\n",
       "      <td>[5]</td>\n",
       "    </tr>\n",
       "    <tr>\n",
       "      <th>11</th>\n",
       "      <td>12</td>\n",
       "      <td>0</td>\n",
       "      <td>200</td>\n",
       "      <td>1</td>\n",
       "      <td>[6]</td>\n",
       "    </tr>\n",
       "    <tr>\n",
       "      <th>12</th>\n",
       "      <td>13</td>\n",
       "      <td>0</td>\n",
       "      <td>200</td>\n",
       "      <td>1</td>\n",
       "      <td>[7]</td>\n",
       "    </tr>\n",
       "    <tr>\n",
       "      <th>13</th>\n",
       "      <td>14</td>\n",
       "      <td>0</td>\n",
       "      <td>200</td>\n",
       "      <td>1</td>\n",
       "      <td>[8]</td>\n",
       "    </tr>\n",
       "    <tr>\n",
       "      <th>14</th>\n",
       "      <td>15</td>\n",
       "      <td>0</td>\n",
       "      <td>200</td>\n",
       "      <td>1</td>\n",
       "      <td>[9]</td>\n",
       "    </tr>\n",
       "    <tr>\n",
       "      <th>15</th>\n",
       "      <td>16</td>\n",
       "      <td>0</td>\n",
       "      <td>200</td>\n",
       "      <td>0</td>\n",
       "      <td>[4, 3, 2, 1, 5, 0, 8]</td>\n",
       "    </tr>\n",
       "    <tr>\n",
       "      <th>16</th>\n",
       "      <td>17</td>\n",
       "      <td>0</td>\n",
       "      <td>200</td>\n",
       "      <td>0</td>\n",
       "      <td>[4, 3, 2, 1, 5, 0, 8, 7]</td>\n",
       "    </tr>\n",
       "    <tr>\n",
       "      <th>17</th>\n",
       "      <td>18</td>\n",
       "      <td>0</td>\n",
       "      <td>200</td>\n",
       "      <td>0</td>\n",
       "      <td>[4, 3, 2, 1, 5, 0, 8, 7, 6]</td>\n",
       "    </tr>\n",
       "    <tr>\n",
       "      <th>18</th>\n",
       "      <td>19</td>\n",
       "      <td>0</td>\n",
       "      <td>200</td>\n",
       "      <td>0</td>\n",
       "      <td>[4, 3, 2, 1, 5, 0, 8, 7, 6, 9]</td>\n",
       "    </tr>\n",
       "    <tr>\n",
       "      <th>19</th>\n",
       "      <td>20</td>\n",
       "      <td>0</td>\n",
       "      <td>200</td>\n",
       "      <td>0</td>\n",
       "      <td>[4]</td>\n",
       "    </tr>\n",
       "    <tr>\n",
       "      <th>20</th>\n",
       "      <td>21</td>\n",
       "      <td>0</td>\n",
       "      <td>200</td>\n",
       "      <td>0</td>\n",
       "      <td>[4, 3]</td>\n",
       "    </tr>\n",
       "    <tr>\n",
       "      <th>21</th>\n",
       "      <td>22</td>\n",
       "      <td>0</td>\n",
       "      <td>200</td>\n",
       "      <td>0</td>\n",
       "      <td>[4, 3, 2]</td>\n",
       "    </tr>\n",
       "    <tr>\n",
       "      <th>22</th>\n",
       "      <td>23</td>\n",
       "      <td>0</td>\n",
       "      <td>200</td>\n",
       "      <td>0</td>\n",
       "      <td>[4, 3, 2, 1]</td>\n",
       "    </tr>\n",
       "    <tr>\n",
       "      <th>23</th>\n",
       "      <td>24</td>\n",
       "      <td>0</td>\n",
       "      <td>200</td>\n",
       "      <td>0</td>\n",
       "      <td>[4, 3, 2, 1, 5]</td>\n",
       "    </tr>\n",
       "    <tr>\n",
       "      <th>24</th>\n",
       "      <td>25</td>\n",
       "      <td>0</td>\n",
       "      <td>200</td>\n",
       "      <td>0</td>\n",
       "      <td>[4, 3, 2, 1, 5, 0]</td>\n",
       "    </tr>\n",
       "    <tr>\n",
       "      <th>25</th>\n",
       "      <td>26</td>\n",
       "      <td>0</td>\n",
       "      <td>200</td>\n",
       "      <td>0</td>\n",
       "      <td>[0]</td>\n",
       "    </tr>\n",
       "    <tr>\n",
       "      <th>26</th>\n",
       "      <td>27</td>\n",
       "      <td>0</td>\n",
       "      <td>200</td>\n",
       "      <td>0</td>\n",
       "      <td>[0, 5]</td>\n",
       "    </tr>\n",
       "    <tr>\n",
       "      <th>27</th>\n",
       "      <td>28</td>\n",
       "      <td>0</td>\n",
       "      <td>200</td>\n",
       "      <td>0</td>\n",
       "      <td>[0, 5, 6]</td>\n",
       "    </tr>\n",
       "    <tr>\n",
       "      <th>28</th>\n",
       "      <td>29</td>\n",
       "      <td>0</td>\n",
       "      <td>200</td>\n",
       "      <td>0</td>\n",
       "      <td>[0, 5, 6, 2]</td>\n",
       "    </tr>\n",
       "    <tr>\n",
       "      <th>29</th>\n",
       "      <td>30</td>\n",
       "      <td>0</td>\n",
       "      <td>200</td>\n",
       "      <td>0</td>\n",
       "      <td>[0, 5, 6, 2, 4]</td>\n",
       "    </tr>\n",
       "    <tr>\n",
       "      <th>30</th>\n",
       "      <td>31</td>\n",
       "      <td>0</td>\n",
       "      <td>200</td>\n",
       "      <td>0</td>\n",
       "      <td>[0, 5, 6, 2, 4, 3]</td>\n",
       "    </tr>\n",
       "    <tr>\n",
       "      <th>31</th>\n",
       "      <td>32</td>\n",
       "      <td>0</td>\n",
       "      <td>200</td>\n",
       "      <td>0</td>\n",
       "      <td>[0, 5, 6, 2, 4, 3, 1]</td>\n",
       "    </tr>\n",
       "    <tr>\n",
       "      <th>32</th>\n",
       "      <td>33</td>\n",
       "      <td>0</td>\n",
       "      <td>200</td>\n",
       "      <td>0</td>\n",
       "      <td>[8, 7, 6, 9]</td>\n",
       "    </tr>\n",
       "    <tr>\n",
       "      <th>33</th>\n",
       "      <td>34</td>\n",
       "      <td>0</td>\n",
       "      <td>200</td>\n",
       "      <td>0</td>\n",
       "      <td>[8, 7, 4, 3]</td>\n",
       "    </tr>\n",
       "  </tbody>\n",
       "</table>\n",
       "</div>"
      ],
      "text/plain": [
       "    Id  MinTemp  MaxTemp  Burnin                  AllocatedCores\n",
       "0    1        0      200       1                              []\n",
       "1    2        0      200       0                             [1]\n",
       "2    3        0      200       0                    [0, 1, 2, 3]\n",
       "3    4        0      200       0        [0, 1, 2, 3, 4, 5, 6, 7]\n",
       "4    5        0      100       0                          [0, 1]\n",
       "5    6        0      200       1                             [0]\n",
       "6    7        0      200       1                             [1]\n",
       "7    8        0      200       1                             [2]\n",
       "8    9        0      200       1                             [3]\n",
       "9   10        0      200       1                             [4]\n",
       "10  11        0      200       1                             [5]\n",
       "11  12        0      200       1                             [6]\n",
       "12  13        0      200       1                             [7]\n",
       "13  14        0      200       1                             [8]\n",
       "14  15        0      200       1                             [9]\n",
       "15  16        0      200       0           [4, 3, 2, 1, 5, 0, 8]\n",
       "16  17        0      200       0        [4, 3, 2, 1, 5, 0, 8, 7]\n",
       "17  18        0      200       0     [4, 3, 2, 1, 5, 0, 8, 7, 6]\n",
       "18  19        0      200       0  [4, 3, 2, 1, 5, 0, 8, 7, 6, 9]\n",
       "19  20        0      200       0                             [4]\n",
       "20  21        0      200       0                          [4, 3]\n",
       "21  22        0      200       0                       [4, 3, 2]\n",
       "22  23        0      200       0                    [4, 3, 2, 1]\n",
       "23  24        0      200       0                 [4, 3, 2, 1, 5]\n",
       "24  25        0      200       0              [4, 3, 2, 1, 5, 0]\n",
       "25  26        0      200       0                             [0]\n",
       "26  27        0      200       0                          [0, 5]\n",
       "27  28        0      200       0                       [0, 5, 6]\n",
       "28  29        0      200       0                    [0, 5, 6, 2]\n",
       "29  30        0      200       0                 [0, 5, 6, 2, 4]\n",
       "30  31        0      200       0              [0, 5, 6, 2, 4, 3]\n",
       "31  32        0      200       0           [0, 5, 6, 2, 4, 3, 1]\n",
       "32  33        0      200       0                    [8, 7, 6, 9]\n",
       "33  34        0      200       0                    [8, 7, 4, 3]"
      ]
     },
     "execution_count": 20,
     "metadata": {},
     "output_type": "execute_result"
    }
   ],
   "source": [
    "config"
   ]
  },
  {
   "cell_type": "code",
   "execution_count": 21,
   "metadata": {},
   "outputs": [
    {
     "data": {
      "text/plain": [
       "\"'[4, 3, 2, 1]','[8, 7, 6, 9]','[8, 7, 4, 3]'\""
      ]
     },
     "execution_count": 21,
     "metadata": {},
     "output_type": "execute_result"
    }
   ],
   "source": [
    "used_allocated_cores_str"
   ]
  },
  {
   "cell_type": "code",
   "execution_count": 22,
   "metadata": {},
   "outputs": [
    {
     "data": {
      "text/html": [
       "<div>\n",
       "<style scoped>\n",
       "    .dataframe tbody tr th:only-of-type {\n",
       "        vertical-align: middle;\n",
       "    }\n",
       "\n",
       "    .dataframe tbody tr th {\n",
       "        vertical-align: top;\n",
       "    }\n",
       "\n",
       "    .dataframe thead th {\n",
       "        text-align: right;\n",
       "    }\n",
       "</style>\n",
       "<table border=\"1\" class=\"dataframe\">\n",
       "  <thead>\n",
       "    <tr style=\"text-align: right;\">\n",
       "      <th></th>\n",
       "      <th>Id</th>\n",
       "      <th>MinTemp</th>\n",
       "      <th>MaxTemp</th>\n",
       "      <th>Burnin</th>\n",
       "      <th>AllocatedCores</th>\n",
       "    </tr>\n",
       "  </thead>\n",
       "  <tbody>\n",
       "    <tr>\n",
       "      <th>22</th>\n",
       "      <td>23</td>\n",
       "      <td>0</td>\n",
       "      <td>200</td>\n",
       "      <td>0</td>\n",
       "      <td>[4, 3, 2, 1]</td>\n",
       "    </tr>\n",
       "    <tr>\n",
       "      <th>32</th>\n",
       "      <td>33</td>\n",
       "      <td>0</td>\n",
       "      <td>200</td>\n",
       "      <td>0</td>\n",
       "      <td>[8, 7, 6, 9]</td>\n",
       "    </tr>\n",
       "    <tr>\n",
       "      <th>33</th>\n",
       "      <td>34</td>\n",
       "      <td>0</td>\n",
       "      <td>200</td>\n",
       "      <td>0</td>\n",
       "      <td>[8, 7, 4, 3]</td>\n",
       "    </tr>\n",
       "  </tbody>\n",
       "</table>\n",
       "</div>"
      ],
      "text/plain": [
       "    Id  MinTemp  MaxTemp  Burnin AllocatedCores\n",
       "22  23        0      200       0   [4, 3, 2, 1]\n",
       "32  33        0      200       0   [8, 7, 6, 9]\n",
       "33  34        0      200       0   [8, 7, 4, 3]"
      ]
     },
     "execution_count": 22,
     "metadata": {},
     "output_type": "execute_result"
    }
   ],
   "source": [
    "used_configs = config.query(f\"{MIN_TEMP} == {used_min_temp} and \" +\n",
    "                            f\"{MAX_TEMP} == {used_max_temp} and \" +\n",
    "                            f\"{BURN_IN} == {used_burn_in} and \" +\n",
    "                            # f\"{ALLOCATED_CORES} in ('[1]')\")\n",
    "                            f\"{ALLOCATED_CORES} in ({used_allocated_cores_str})\")\n",
    "                            # f\"CAST({ALLOCATED_CORES} as CHAR) = [{used_allocated_cores_str}]\")\n",
    "used_configs"
   ]
  },
  {
   "attachments": {},
   "cell_type": "markdown",
   "metadata": {},
   "source": [
    "### Experiment Names"
   ]
  },
  {
   "cell_type": "code",
   "execution_count": 23,
   "metadata": {},
   "outputs": [
    {
     "data": {
      "text/plain": [
       "(15, 2)"
      ]
     },
     "execution_count": 23,
     "metadata": {},
     "output_type": "execute_result"
    }
   ],
   "source": [
    "exp = rep.get_distinct_experiments(db)\n",
    "\n",
    "exp.shape"
   ]
  },
  {
   "attachments": {},
   "cell_type": "markdown",
   "metadata": {},
   "source": [
    "## Used Things"
   ]
  },
  {
   "cell_type": "code",
   "execution_count": 24,
   "metadata": {},
   "outputs": [
    {
     "data": {
      "text/html": [
       "<div>\n",
       "<style scoped>\n",
       "    .dataframe tbody tr th:only-of-type {\n",
       "        vertical-align: middle;\n",
       "    }\n",
       "\n",
       "    .dataframe tbody tr th {\n",
       "        vertical-align: top;\n",
       "    }\n",
       "\n",
       "    .dataframe thead th {\n",
       "        text-align: right;\n",
       "    }\n",
       "</style>\n",
       "<table border=\"1\" class=\"dataframe\">\n",
       "  <thead>\n",
       "    <tr style=\"text-align: right;\">\n",
       "      <th></th>\n",
       "      <th>Id</th>\n",
       "      <th>Name</th>\n",
       "      <th>Os</th>\n",
       "      <th>Env</th>\n",
       "    </tr>\n",
       "  </thead>\n",
       "  <tbody>\n",
       "    <tr>\n",
       "      <th>4</th>\n",
       "      <td>5</td>\n",
       "      <td>workstationtwo</td>\n",
       "      <td>win32nt</td>\n",
       "      <td>prod</td>\n",
       "    </tr>\n",
       "  </tbody>\n",
       "</table>\n",
       "</div>"
      ],
      "text/plain": [
       "   Id            Name       Os   Env\n",
       "4   5  workstationtwo  win32nt  prod"
      ]
     },
     "execution_count": 24,
     "metadata": {},
     "output_type": "execute_result"
    }
   ],
   "source": [
    "used_dut"
   ]
  },
  {
   "cell_type": "code",
   "execution_count": 25,
   "metadata": {},
   "outputs": [
    {
     "data": {
      "text/html": [
       "<div>\n",
       "<style scoped>\n",
       "    .dataframe tbody tr th:only-of-type {\n",
       "        vertical-align: middle;\n",
       "    }\n",
       "\n",
       "    .dataframe tbody tr th {\n",
       "        vertical-align: top;\n",
       "    }\n",
       "\n",
       "    .dataframe thead th {\n",
       "        text-align: right;\n",
       "    }\n",
       "</style>\n",
       "<table border=\"1\" class=\"dataframe\">\n",
       "  <thead>\n",
       "    <tr style=\"text-align: right;\">\n",
       "      <th></th>\n",
       "      <th>Id</th>\n",
       "      <th>Name</th>\n",
       "      <th>Compiler</th>\n",
       "      <th>Language</th>\n",
       "      <th>Optimizations</th>\n",
       "      <th>TestCaseSize</th>\n",
       "      <th>Parameter</th>\n",
       "      <th>Threads</th>\n",
       "    </tr>\n",
       "  </thead>\n",
       "  <tbody>\n",
       "    <tr>\n",
       "      <th>32</th>\n",
       "      <td>36</td>\n",
       "      <td>pc-mark-10.exe</td>\n",
       "      <td>unkown</td>\n",
       "      <td>unknown</td>\n",
       "      <td></td>\n",
       "      <td>application</td>\n",
       "      <td></td>\n",
       "      <td>multi-threaded</td>\n",
       "    </tr>\n",
       "  </tbody>\n",
       "</table>\n",
       "</div>"
      ],
      "text/plain": [
       "    Id            Name Compiler Language Optimizations TestCaseSize Parameter  \\\n",
       "32  36  pc-mark-10.exe   unkown  unknown                application             \n",
       "\n",
       "           Threads  \n",
       "32  multi-threaded  "
      ]
     },
     "execution_count": 25,
     "metadata": {},
     "output_type": "execute_result"
    }
   ],
   "source": [
    "used_tc"
   ]
  },
  {
   "cell_type": "code",
   "execution_count": 26,
   "metadata": {},
   "outputs": [
    {
     "data": {
      "text/html": [
       "<div>\n",
       "<style scoped>\n",
       "    .dataframe tbody tr th:only-of-type {\n",
       "        vertical-align: middle;\n",
       "    }\n",
       "\n",
       "    .dataframe tbody tr th {\n",
       "        vertical-align: top;\n",
       "    }\n",
       "\n",
       "    .dataframe thead th {\n",
       "        text-align: right;\n",
       "    }\n",
       "</style>\n",
       "<table border=\"1\" class=\"dataframe\">\n",
       "  <thead>\n",
       "    <tr style=\"text-align: right;\">\n",
       "      <th></th>\n",
       "      <th>Id</th>\n",
       "      <th>Name</th>\n",
       "      <th>SampleRate</th>\n",
       "    </tr>\n",
       "  </thead>\n",
       "  <tbody>\n",
       "    <tr>\n",
       "      <th>0</th>\n",
       "      <td>1</td>\n",
       "      <td>ipg</td>\n",
       "      <td>100</td>\n",
       "    </tr>\n",
       "  </tbody>\n",
       "</table>\n",
       "</div>"
      ],
      "text/plain": [
       "   Id Name  SampleRate\n",
       "0   1  ipg         100"
      ]
     },
     "execution_count": 26,
     "metadata": {},
     "output_type": "execute_result"
    }
   ],
   "source": [
    "used_mi"
   ]
  },
  {
   "cell_type": "code",
   "execution_count": 27,
   "metadata": {},
   "outputs": [
    {
     "data": {
      "text/html": [
       "<div>\n",
       "<style scoped>\n",
       "    .dataframe tbody tr th:only-of-type {\n",
       "        vertical-align: middle;\n",
       "    }\n",
       "\n",
       "    .dataframe tbody tr th {\n",
       "        vertical-align: top;\n",
       "    }\n",
       "\n",
       "    .dataframe thead th {\n",
       "        text-align: right;\n",
       "    }\n",
       "</style>\n",
       "<table border=\"1\" class=\"dataframe\">\n",
       "  <thead>\n",
       "    <tr style=\"text-align: right;\">\n",
       "      <th></th>\n",
       "      <th>Id</th>\n",
       "      <th>Name</th>\n",
       "      <th>Compiler</th>\n",
       "      <th>Language</th>\n",
       "      <th>Optimizations</th>\n",
       "      <th>TestCaseSize</th>\n",
       "      <th>Parameter</th>\n",
       "      <th>Threads</th>\n",
       "    </tr>\n",
       "  </thead>\n",
       "  <tbody>\n",
       "    <tr>\n",
       "      <th>31</th>\n",
       "      <td>35</td>\n",
       "      <td>idle.exe</td>\n",
       "      <td>unkown</td>\n",
       "      <td>unknown</td>\n",
       "      <td></td>\n",
       "      <td>application</td>\n",
       "      <td></td>\n",
       "      <td>multi-threaded</td>\n",
       "    </tr>\n",
       "  </tbody>\n",
       "</table>\n",
       "</div>"
      ],
      "text/plain": [
       "    Id      Name Compiler Language Optimizations TestCaseSize Parameter  \\\n",
       "31  35  idle.exe   unkown  unknown                application             \n",
       "\n",
       "           Threads  \n",
       "31  multi-threaded  "
      ]
     },
     "execution_count": 27,
     "metadata": {},
     "output_type": "execute_result"
    }
   ],
   "source": [
    "used_idle_case"
   ]
  },
  {
   "cell_type": "code",
   "execution_count": 28,
   "metadata": {},
   "outputs": [
    {
     "data": {
      "text/html": [
       "<div>\n",
       "<style scoped>\n",
       "    .dataframe tbody tr th:only-of-type {\n",
       "        vertical-align: middle;\n",
       "    }\n",
       "\n",
       "    .dataframe tbody tr th {\n",
       "        vertical-align: top;\n",
       "    }\n",
       "\n",
       "    .dataframe thead th {\n",
       "        text-align: right;\n",
       "    }\n",
       "</style>\n",
       "<table border=\"1\" class=\"dataframe\">\n",
       "  <thead>\n",
       "    <tr style=\"text-align: right;\">\n",
       "      <th></th>\n",
       "      <th>Id</th>\n",
       "      <th>MinTemp</th>\n",
       "      <th>MaxTemp</th>\n",
       "      <th>Burnin</th>\n",
       "      <th>AllocatedCores</th>\n",
       "    </tr>\n",
       "  </thead>\n",
       "  <tbody>\n",
       "    <tr>\n",
       "      <th>22</th>\n",
       "      <td>23</td>\n",
       "      <td>0</td>\n",
       "      <td>200</td>\n",
       "      <td>0</td>\n",
       "      <td>[4, 3, 2, 1]</td>\n",
       "    </tr>\n",
       "    <tr>\n",
       "      <th>32</th>\n",
       "      <td>33</td>\n",
       "      <td>0</td>\n",
       "      <td>200</td>\n",
       "      <td>0</td>\n",
       "      <td>[8, 7, 6, 9]</td>\n",
       "    </tr>\n",
       "    <tr>\n",
       "      <th>33</th>\n",
       "      <td>34</td>\n",
       "      <td>0</td>\n",
       "      <td>200</td>\n",
       "      <td>0</td>\n",
       "      <td>[8, 7, 4, 3]</td>\n",
       "    </tr>\n",
       "  </tbody>\n",
       "</table>\n",
       "</div>"
      ],
      "text/plain": [
       "    Id  MinTemp  MaxTemp  Burnin AllocatedCores\n",
       "22  23        0      200       0   [4, 3, 2, 1]\n",
       "32  33        0      200       0   [8, 7, 6, 9]\n",
       "33  34        0      200       0   [8, 7, 4, 3]"
      ]
     },
     "execution_count": 28,
     "metadata": {},
     "output_type": "execute_result"
    }
   ],
   "source": [
    "used_configs"
   ]
  },
  {
   "cell_type": "code",
   "execution_count": 29,
   "metadata": {},
   "outputs": [],
   "source": [
    "time_series = {}\n",
    "\n",
    "if get_timeseries:\n",
    "    time_series = ts_util.get_time_series(\n",
    "        used_dut,\n",
    "        used_mi,\n",
    "        used_configs,\n",
    "        used_tc,\n",
    "        experiment_name,\n",
    "        experiment_number,\n",
    "        linux,\n",
    "        windows,\n",
    "        windows_mi,\n",
    "        linux_mi,\n",
    "        time_series_used,\n",
    "        db,\n",
    "        scaphandre\n",
    "    )"
   ]
  },
  {
   "cell_type": "code",
   "execution_count": 30,
   "metadata": {},
   "outputs": [],
   "source": [
    "# [x for x in time_series[0][\"fannkuch-redux.exe.rapl.workstationone.all.intel-one-api.unix\"].iterrows()]"
   ]
  },
  {
   "cell_type": "code",
   "execution_count": 31,
   "metadata": {},
   "outputs": [],
   "source": [
    "# key = list(time_series.keys())[0]\n",
    "# key"
   ]
  },
  {
   "cell_type": "code",
   "execution_count": 32,
   "metadata": {},
   "outputs": [],
   "source": [
    "# list(time_series[key][0]['AdditionalMetadata'])[0]##['GpuUtilization']\n",
    "# power = list(time_series[key][0]['ProcessorPowerInWatt'])\n",
    "# time = list(time_series[key][0]['ElapsedTime'])\n",
    "\n",
    "# power = list(time_series[key][1]['ProcessorPowerInWatt'])\n",
    "# time = list(time_series[key][1]['ElapsedTime'])"
   ]
  },
  {
   "cell_type": "code",
   "execution_count": null,
   "metadata": {},
   "outputs": [],
   "source": []
  },
  {
   "cell_type": "code",
   "execution_count": 33,
   "metadata": {},
   "outputs": [],
   "source": [
    "# i = 0\n",
    "# for a,b in zip(time, power):\n",
    "#     if a > 24:\n",
    "#         print(f'({a - 24}, {b})')\n",
    "#     # if a > 30:\n",
    "#     # if i % 1 == 0:\n",
    "#     #     print(f'({a}, {b})')\n",
    "#     # i += 1"
   ]
  },
  {
   "cell_type": "code",
   "execution_count": 34,
   "metadata": {},
   "outputs": [],
   "source": [
    "# time_series['3d-mark.exe.ipg.workstationone.[0, 1, 2, 3, 4, 5, 6, 7].unkown.win32nt'][0]"
   ]
  },
  {
   "cell_type": "code",
   "execution_count": 35,
   "metadata": {},
   "outputs": [],
   "source": [
    "def subtract_24(x):\n",
    "    return x - 24"
   ]
  },
  {
   "cell_type": "code",
   "execution_count": 36,
   "metadata": {},
   "outputs": [],
   "source": [
    "avg_table = {}\n",
    "sum_table = {}"
   ]
  },
  {
   "cell_type": "code",
   "execution_count": 37,
   "metadata": {},
   "outputs": [
    {
     "data": {
      "text/plain": [
       "[]"
      ]
     },
     "execution_count": 37,
     "metadata": {},
     "output_type": "execute_result"
    }
   ],
   "source": [
    "list(time_series.keys())"
   ]
  },
  {
   "cell_type": "code",
   "execution_count": 38,
   "metadata": {},
   "outputs": [],
   "source": [
    "# for table in time_series[list(time_series.keys())[0]]:\n",
    "#     for index, row in table.iterrows():\n",
    "#         if not index in avg_table:\n",
    "#             avg_table[index] = { \"time\" : [], \"cpu\" : [] }\n",
    "        \n",
    "#         avg_table[index]['time'].append(row['ElapsedTime'])\n",
    "#         avg_table[index]['cpu'].append(row['ProcessorPowerInWatt'])\n",
    "        "
   ]
  },
  {
   "cell_type": "code",
   "execution_count": 39,
   "metadata": {},
   "outputs": [],
   "source": [
    "# for key in avg_table.keys():\n",
    "    \n",
    "#     avg_time = sum(avg_table[key]['time']) / len(avg_table[key]['time'])\n",
    "#     avg_cou = sum(avg_table[key]['cpu']) / len(avg_table[key]['cpu'])\n",
    "    \n",
    "#     sum_table[key] = [key, avg_time, avg_cou]\n",
    "    \n",
    "#     # print(avg_time)\n",
    "#     # print(avg_cou)\n",
    "    \n",
    "#     # break"
   ]
  },
  {
   "cell_type": "code",
   "execution_count": 40,
   "metadata": {},
   "outputs": [],
   "source": [
    "# pd_sum = pd.DataFrame.from_dict(sum_table, orient='index', columns=['index', 'time', 'cpu'])"
   ]
  },
  {
   "cell_type": "code",
   "execution_count": 41,
   "metadata": {},
   "outputs": [],
   "source": [
    "# pd_sum_copy = pd_sum.copy()\n",
    "# pd_sum_copy = pd_sum_copy.drop(pd_sum_copy[pd_sum_copy.time < 24.8].index)\n",
    "# pd_sum_copy['time'] = pd_sum_copy['time'].apply(subtract_24)\n",
    "\n",
    "# pd_sum_copy.plot(x=\"time\", y=\"cpu\", figsize=(20,3))"
   ]
  },
  {
   "cell_type": "code",
   "execution_count": 42,
   "metadata": {},
   "outputs": [],
   "source": [
    "# for index, row in pd_sum_copy.iterrows():\n",
    "#     if index % 10 == 0:\n",
    "#         print(f\"({row['time']}, {row['cpu']})\")"
   ]
  },
  {
   "cell_type": "code",
   "execution_count": 43,
   "metadata": {},
   "outputs": [],
   "source": [
    "def subtract_24(x):\n",
    "    return x - 24"
   ]
  },
  {
   "cell_type": "code",
   "execution_count": 44,
   "metadata": {},
   "outputs": [],
   "source": [
    "for key in time_series.keys():\n",
    "    print(key)\n",
    "    for table in time_series[key]:\n",
    "        t = table.copy()\n",
    "        t = t.drop(t[t.ElapsedTime < 24.8].index)\n",
    "        t['ElapsedTime'] = t['ElapsedTime'].apply(subtract_24)\n",
    "        \n",
    "        \n",
    "        if \"clamp\" in key or \"plug\" in key or \"scaphandre\" in key or 'lhm' in key:\n",
    "            table.plot(x=\"ElapsedTime\", y=\"CpuEnergyInJoules\")\n",
    "        if \"ipg\" in key:\n",
    "            t.plot(x=\"ElapsedTime\", y=\"ProcessorPowerInWatt\", figsize=(20,3))\n",
    "            # table.plot(x=\"ElapsedTime\", y=\"PackageTemperature\", figsize=(20,3))\n",
    "        if \"rapl\" in key:\n",
    "            table['rapl_column'] = df_util.get_rapl_column(table, \"total_core\")\n",
    "            table.plot(x=\"ElapsedTime\", y=\"rapl_column\")\n",
    "        plot.show()"
   ]
  },
  {
   "cell_type": "code",
   "execution_count": 45,
   "metadata": {},
   "outputs": [
    {
     "data": {
      "text/plain": [
       "((3, 5), (1, 4), (1, 3), (1, 8), (1, 8))"
      ]
     },
     "execution_count": 45,
     "metadata": {},
     "output_type": "execute_result"
    }
   ],
   "source": [
    "used_configs.shape, used_dut.shape, used_mi.shape, used_tc.shape, used_idle_case.shape\n"
   ]
  },
  {
   "cell_type": "code",
   "execution_count": 46,
   "metadata": {},
   "outputs": [
    {
     "data": {
      "text/html": [
       "<div>\n",
       "<style scoped>\n",
       "    .dataframe tbody tr th:only-of-type {\n",
       "        vertical-align: middle;\n",
       "    }\n",
       "\n",
       "    .dataframe tbody tr th {\n",
       "        vertical-align: top;\n",
       "    }\n",
       "\n",
       "    .dataframe thead th {\n",
       "        text-align: right;\n",
       "    }\n",
       "</style>\n",
       "<table border=\"1\" class=\"dataframe\">\n",
       "  <thead>\n",
       "    <tr style=\"text-align: right;\">\n",
       "      <th></th>\n",
       "      <th>Id</th>\n",
       "      <th>MinTemp</th>\n",
       "      <th>MaxTemp</th>\n",
       "      <th>Burnin</th>\n",
       "      <th>AllocatedCores</th>\n",
       "    </tr>\n",
       "  </thead>\n",
       "  <tbody>\n",
       "    <tr>\n",
       "      <th>22</th>\n",
       "      <td>23</td>\n",
       "      <td>0</td>\n",
       "      <td>200</td>\n",
       "      <td>0</td>\n",
       "      <td>[4, 3, 2, 1]</td>\n",
       "    </tr>\n",
       "    <tr>\n",
       "      <th>32</th>\n",
       "      <td>33</td>\n",
       "      <td>0</td>\n",
       "      <td>200</td>\n",
       "      <td>0</td>\n",
       "      <td>[8, 7, 6, 9]</td>\n",
       "    </tr>\n",
       "    <tr>\n",
       "      <th>33</th>\n",
       "      <td>34</td>\n",
       "      <td>0</td>\n",
       "      <td>200</td>\n",
       "      <td>0</td>\n",
       "      <td>[8, 7, 4, 3]</td>\n",
       "    </tr>\n",
       "  </tbody>\n",
       "</table>\n",
       "</div>"
      ],
      "text/plain": [
       "    Id  MinTemp  MaxTemp  Burnin AllocatedCores\n",
       "22  23        0      200       0   [4, 3, 2, 1]\n",
       "32  33        0      200       0   [8, 7, 6, 9]\n",
       "33  34        0      200       0   [8, 7, 4, 3]"
      ]
     },
     "execution_count": 46,
     "metadata": {},
     "output_type": "execute_result"
    }
   ],
   "source": [
    "used_configs"
   ]
  },
  {
   "cell_type": "code",
   "execution_count": 47,
   "metadata": {},
   "outputs": [
    {
     "data": {
      "text/html": [
       "<div>\n",
       "<style scoped>\n",
       "    .dataframe tbody tr th:only-of-type {\n",
       "        vertical-align: middle;\n",
       "    }\n",
       "\n",
       "    .dataframe tbody tr th {\n",
       "        vertical-align: top;\n",
       "    }\n",
       "\n",
       "    .dataframe thead th {\n",
       "        text-align: right;\n",
       "    }\n",
       "</style>\n",
       "<table border=\"1\" class=\"dataframe\">\n",
       "  <thead>\n",
       "    <tr style=\"text-align: right;\">\n",
       "      <th></th>\n",
       "      <th>Id</th>\n",
       "      <th>Name</th>\n",
       "      <th>Compiler</th>\n",
       "      <th>Language</th>\n",
       "      <th>Optimizations</th>\n",
       "      <th>TestCaseSize</th>\n",
       "      <th>Parameter</th>\n",
       "      <th>Threads</th>\n",
       "    </tr>\n",
       "  </thead>\n",
       "  <tbody>\n",
       "    <tr>\n",
       "      <th>31</th>\n",
       "      <td>35</td>\n",
       "      <td>idle.exe</td>\n",
       "      <td>unkown</td>\n",
       "      <td>unknown</td>\n",
       "      <td></td>\n",
       "      <td>application</td>\n",
       "      <td></td>\n",
       "      <td>multi-threaded</td>\n",
       "    </tr>\n",
       "  </tbody>\n",
       "</table>\n",
       "</div>"
      ],
      "text/plain": [
       "    Id      Name Compiler Language Optimizations TestCaseSize Parameter  \\\n",
       "31  35  idle.exe   unkown  unknown                application             \n",
       "\n",
       "           Threads  \n",
       "31  multi-threaded  "
      ]
     },
     "execution_count": 47,
     "metadata": {},
     "output_type": "execute_result"
    }
   ],
   "source": [
    "used_idle_case"
   ]
  },
  {
   "cell_type": "code",
   "execution_count": 48,
   "metadata": {},
   "outputs": [
    {
     "data": {
      "text/html": [
       "<div>\n",
       "<style scoped>\n",
       "    .dataframe tbody tr th:only-of-type {\n",
       "        vertical-align: middle;\n",
       "    }\n",
       "\n",
       "    .dataframe tbody tr th {\n",
       "        vertical-align: top;\n",
       "    }\n",
       "\n",
       "    .dataframe thead th {\n",
       "        text-align: right;\n",
       "    }\n",
       "</style>\n",
       "<table border=\"1\" class=\"dataframe\">\n",
       "  <thead>\n",
       "    <tr style=\"text-align: right;\">\n",
       "      <th></th>\n",
       "      <th>Id</th>\n",
       "      <th>Name</th>\n",
       "      <th>Compiler</th>\n",
       "      <th>Language</th>\n",
       "      <th>Optimizations</th>\n",
       "      <th>TestCaseSize</th>\n",
       "      <th>Parameter</th>\n",
       "      <th>Threads</th>\n",
       "    </tr>\n",
       "  </thead>\n",
       "  <tbody>\n",
       "    <tr>\n",
       "      <th>32</th>\n",
       "      <td>36</td>\n",
       "      <td>pc-mark-10.exe</td>\n",
       "      <td>unkown</td>\n",
       "      <td>unknown</td>\n",
       "      <td></td>\n",
       "      <td>application</td>\n",
       "      <td></td>\n",
       "      <td>multi-threaded</td>\n",
       "    </tr>\n",
       "  </tbody>\n",
       "</table>\n",
       "</div>"
      ],
      "text/plain": [
       "    Id            Name Compiler Language Optimizations TestCaseSize Parameter  \\\n",
       "32  36  pc-mark-10.exe   unkown  unknown                application             \n",
       "\n",
       "           Threads  \n",
       "32  multi-threaded  "
      ]
     },
     "execution_count": 48,
     "metadata": {},
     "output_type": "execute_result"
    }
   ],
   "source": [
    "used_tc"
   ]
  },
  {
   "cell_type": "code",
   "execution_count": 49,
   "metadata": {},
   "outputs": [
    {
     "data": {
      "text/html": [
       "<div>\n",
       "<style scoped>\n",
       "    .dataframe tbody tr th:only-of-type {\n",
       "        vertical-align: middle;\n",
       "    }\n",
       "\n",
       "    .dataframe tbody tr th {\n",
       "        vertical-align: top;\n",
       "    }\n",
       "\n",
       "    .dataframe thead th {\n",
       "        text-align: right;\n",
       "    }\n",
       "</style>\n",
       "<table border=\"1\" class=\"dataframe\">\n",
       "  <thead>\n",
       "    <tr style=\"text-align: right;\">\n",
       "      <th></th>\n",
       "      <th>Id</th>\n",
       "      <th>Name</th>\n",
       "      <th>Compiler</th>\n",
       "      <th>Language</th>\n",
       "      <th>Optimizations</th>\n",
       "      <th>TestCaseSize</th>\n",
       "      <th>Parameter</th>\n",
       "      <th>Threads</th>\n",
       "    </tr>\n",
       "  </thead>\n",
       "  <tbody>\n",
       "    <tr>\n",
       "      <th>32</th>\n",
       "      <td>36</td>\n",
       "      <td>pc-mark-10.exe</td>\n",
       "      <td>unkown</td>\n",
       "      <td>unknown</td>\n",
       "      <td></td>\n",
       "      <td>application</td>\n",
       "      <td></td>\n",
       "      <td>multi-threaded</td>\n",
       "    </tr>\n",
       "  </tbody>\n",
       "</table>\n",
       "</div>"
      ],
      "text/plain": [
       "    Id            Name Compiler Language Optimizations TestCaseSize Parameter  \\\n",
       "32  36  pc-mark-10.exe   unkown  unknown                application             \n",
       "\n",
       "           Threads  \n",
       "32  multi-threaded  "
      ]
     },
     "execution_count": 49,
     "metadata": {},
     "output_type": "execute_result"
    }
   ],
   "source": [
    "used_tc"
   ]
  },
  {
   "cell_type": "code",
   "execution_count": 50,
   "metadata": {},
   "outputs": [
    {
     "name": "stdout",
     "output_type": "stream",
     "text": [
      "dut: 5, mi: 1, config 2, test case: 35, name: compare-p-and-e-cores-on-pcmark-with-boost-update, number: 3 \n",
      "Y - pc-mark-10.exe.win32nt.workstationtwo.[4, 3, 2, 1].unkown.ipg.100.36\n",
      "dut: 5, mi: 1, config 2, test case: 35, name: compare-p-and-e-cores-on-pcmark-with-boost-update, number: 3 \n",
      "Y - pc-mark-10.exe.win32nt.workstationtwo.[8, 7, 6, 9].unkown.ipg.100.36\n",
      "dut: 5, mi: 1, config 2, test case: 35, name: compare-p-and-e-cores-on-pcmark-with-boost-update, number: 3 \n",
      "Y - pc-mark-10.exe.win32nt.workstationtwo.[8, 7, 4, 3].unkown.ipg.100.36\n"
     ]
    }
   ],
   "source": [
    "cpu_energy_results = {}\n",
    "dram_energy_results = {}\n",
    "gpu_energy_results = {}\n",
    "duration_results = {}\n",
    "\n",
    "idle_cpu_consumption_results = {}\n",
    "\n",
    "cpu_dynamic_energy_watt_consumption = {}\n",
    "\n",
    "cpu_dynamic_energy_consumption = {}\n",
    "gpu_dynamic_energy_consumption = {}\n",
    "dram_dynamic_energy_consumption = {}\n",
    "\n",
    "temperature_begin = {}\n",
    "temperature_end = {}\n",
    "\n",
    "if get_measurements:\n",
    "    m_util.get_measurements(\n",
    "        windows,\n",
    "        windows_mi,\n",
    "        linux,\n",
    "        linux_mi,\n",
    "        used_configs,\n",
    "        used_dut,\n",
    "        used_mi,\n",
    "        used_tc,\n",
    "        used_idle_case,\n",
    "        db,\n",
    "        experiment_name,\n",
    "        experiment_number,\n",
    "        # energy_per_time,\n",
    "        scaphandre,\n",
    "        cpu_energy_results,\n",
    "        dram_energy_results,\n",
    "        gpu_energy_results,\n",
    "        duration_results,\n",
    "        temperature_begin,\n",
    "        temperature_end,\n",
    "        cpu_dynamic_energy_consumption,\n",
    "        gpu_dynamic_energy_consumption,\n",
    "        dram_dynamic_energy_consumption,\n",
    "        idle_cpu_consumption_results,\n",
    "        used_test_case_name,\n",
    "        cpu_dynamic_energy_watt_consumption,\n",
    "        idle_case_config = idle_case_config\n",
    "    )"
   ]
  },
  {
   "cell_type": "code",
   "execution_count": 51,
   "metadata": {},
   "outputs": [],
   "source": [
    "if get_measurements:\n",
    "    df_util.trim_dataframes(\n",
    "        measurements_used,\n",
    "        dram_energy_results,\n",
    "        cpu_energy_results,\n",
    "        gpu_energy_results,\n",
    "        duration_results,\n",
    "        cpu_dynamic_energy_consumption,\n",
    "        gpu_dynamic_energy_consumption,\n",
    "        dram_dynamic_energy_consumption,\n",
    "        idle_cpu_consumption_results,\n",
    "        temperature_end,\n",
    "        temperature_begin,\n",
    "        cpu_dynamic_energy_watt_consumption\n",
    "    )"
   ]
  },
  {
   "cell_type": "code",
   "execution_count": 52,
   "metadata": {},
   "outputs": [],
   "source": [
    "def convert_to_series(df):\n",
    "    for key in df.keys():\n",
    "        df[key] = pd.Series(df[key])\n",
    "    return df"
   ]
  },
  {
   "cell_type": "code",
   "execution_count": 53,
   "metadata": {},
   "outputs": [],
   "source": [
    "if get_measurements:\n",
    "    ## Energy consumption for the entire test case\n",
    "    dram_energy_results = convert_to_series(dram_energy_results)\n",
    "    dram_df = pd.DataFrame(dram_energy_results)\n",
    "    dram_df =dram_df.reindex(columns=sorted(dram_df.columns))\n",
    "\n",
    "    cpu_energy_results = convert_to_series(cpu_energy_results)\n",
    "    cpu_df = pd.DataFrame(cpu_energy_results)\n",
    "    cpu_df = cpu_df.reindex(columns=sorted(cpu_df.columns))\n",
    "\n",
    "    gpu_energy_results = convert_to_series(gpu_energy_results)\n",
    "    gpu_df = pd.DataFrame(gpu_energy_results)\n",
    "    gpu_df = gpu_df.reindex(columns=sorted(gpu_df.columns))\n",
    "\n",
    "    duration_results = convert_to_series(duration_results)\n",
    "    duration_df = pd.DataFrame(duration_results)\n",
    "    duration_df = duration_df.reindex(columns=sorted(duration_df.columns))\n",
    "\n",
    "    ## Dynamic energy data frames\n",
    "    dram_dynamic_energy_consumption = convert_to_series(dram_dynamic_energy_consumption)\n",
    "    dram_dynamic_df = pd.DataFrame(dram_dynamic_energy_consumption)\n",
    "    dram_dynamic_df = dram_dynamic_df.reindex(columns=sorted(duration_df.columns))\n",
    "\n",
    "    cpu_dynamic_energy_consumption = convert_to_series(cpu_dynamic_energy_consumption)\n",
    "    cpu_dynamic_df = pd.DataFrame(cpu_dynamic_energy_consumption)\n",
    "    cpu_dynamic_df = cpu_dynamic_df.reindex(columns=sorted(cpu_dynamic_df.columns))\n",
    "    \n",
    "    cpu_dynamic_energy_watt_consumption = convert_to_series(cpu_dynamic_energy_watt_consumption)\n",
    "    cpu_dynamic_watt_df = pd.DataFrame(cpu_dynamic_energy_watt_consumption)\n",
    "    cpu_dynamic_watt_df = cpu_dynamic_watt_df.reindex(columns=sorted(cpu_dynamic_watt_df.columns))\n",
    "\n",
    "    gpu_dynamic_energy_consumption = convert_to_series(gpu_dynamic_energy_consumption)\n",
    "    gpu_dynamic_df = pd.DataFrame(gpu_dynamic_energy_consumption)\n",
    "    gpu_dynamic_df = gpu_dynamic_df.reindex(columns=sorted(gpu_dynamic_df.columns))\n",
    "\n",
    "    idle_cpu_consumption_results = convert_to_series(idle_cpu_consumption_results)\n",
    "    idle_cpu_df = pd.DataFrame(idle_cpu_consumption_results)\n",
    "    idle_cpu_df = idle_cpu_df.reindex(columns=sorted(idle_cpu_df.columns))\n",
    "\n",
    "    temperature_begin = convert_to_series(temperature_begin)\n",
    "    temperature_begin_df = pd.DataFrame(temperature_begin)\n",
    "    temperature_begin_df = temperature_begin_df.reindex(columns=sorted(temperature_begin_df.columns))\n",
    "\n",
    "    temperature_end = convert_to_series(temperature_end)\n",
    "    temperature_end_df = pd.DataFrame(temperature_end)\n",
    "    temperature_end_df = temperature_end_df.reindex(columns=sorted(temperature_end_df.columns))\n",
    "\n",
    "\n"
   ]
  },
  {
   "cell_type": "code",
   "execution_count": 54,
   "metadata": {},
   "outputs": [],
   "source": [
    "if get_measurements:\n",
    "    for column in duration_df.columns:\n",
    "        duration_df[column] = duration_df[column] / 1000"
   ]
  },
  {
   "cell_type": "code",
   "execution_count": 55,
   "metadata": {},
   "outputs": [
    {
     "data": {
      "image/png": "[encoded data removed]",
      "text/plain": [
       "<Figure size 1500x100 with 1 Axes>"
      ]
     },
     "metadata": {},
     "output_type": "display_data"
    },
    {
     "name": "stdout",
     "output_type": "stream",
     "text": [
      "Combined CPU Energy Consumption in Joules\n"
     ]
    },
    {
     "data": {
      "image/png": "[encoded data removed]",
      "text/plain": [
       "<Figure size 1500x500 with 1 Axes>"
      ]
     },
     "metadata": {},
     "output_type": "display_data"
    },
    {
     "name": "stdout",
     "output_type": "stream",
     "text": [
      "Duration of Test Case\n"
     ]
    },
    {
     "data": {
      "image/png": "[encoded data removed]",
      "text/plain": [
       "<Figure size 1500x500 with 1 Axes>"
      ]
     },
     "metadata": {},
     "output_type": "display_data"
    }
   ],
   "source": [
    "if get_measurements and show_plots:\n",
    "    test_boxplot = dram_df.boxplot(figsize=(15,1), rot=75, column=[dram_df.columns[0]])\n",
    "    test_boxplot.plot()\n",
    "    plot.ylim(0, 40)\n",
    "    plot.show()\n",
    "    \n",
    "    \n",
    "    # print(\"Combined DRAM Energy Consumption in Joules\")\n",
    "    # dram_boxplot = dram_df.boxplot(figsize=(15,5), rot=85)\n",
    "    # # dram_boxplot = dram_df.boxplot(figsize=(15,5), rot=75, column=['fannkuch-redux.exe.ipg.workstationtwo.all.intel-one-api.win32nt'])\n",
    "    # dram_boxplot.plot()\n",
    "    # plot.ylim(0, 40)\n",
    "    # plot.show()\n",
    "\n",
    "    print(\"Combined CPU Energy Consumption in Joules\")\n",
    "    cpu_boxplot = cpu_df.boxplot(figsize=(15,5), rot=85)\n",
    "    cpu_boxplot.plot()\n",
    "    cpu_boxplot\n",
    "    # plot.ylim(0,max(list(cpu_df.max())) + 200)\n",
    "    plot.show()\n",
    "\n",
    "    # print(\"Combined GPU Energy Consumption in Joules\")\n",
    "    # gpu_boxplot = gpu_df.boxplot(figsize=(15,5), rot=85)\n",
    "    # gpu_boxplot.plot()\n",
    "    # plot.ylim(0,50)\n",
    "    # plot.show()\n",
    "\n",
    "    print(\"Duration of Test Case\")\n",
    "    duration_boxplot = duration_df.boxplot(figsize=(15,5), rot=85)\n",
    "    duration_boxplot.plot()\n",
    "    # plot.ylim(60,80)\n",
    "    plot.show()"
   ]
  },
  {
   "cell_type": "code",
   "execution_count": 56,
   "metadata": {},
   "outputs": [
    {
     "name": "stdout",
     "output_type": "stream",
     "text": [
      "Dynamic CPU Energy Consumption in Joiles\n"
     ]
    },
    {
     "data": {
      "image/png": "[encoded data removed]",
      "text/plain": [
       "<Figure size 1500x500 with 1 Axes>"
      ]
     },
     "metadata": {},
     "output_type": "display_data"
    },
    {
     "name": "stdout",
     "output_type": "stream",
     "text": [
      "Dynamic CPU Energy Consumption in Watts\n"
     ]
    },
    {
     "data": {
      "image/png": "[encoded data removed]",
      "text/plain": [
       "<Figure size 1500x500 with 1 Axes>"
      ]
     },
     "metadata": {},
     "output_type": "display_data"
    }
   ],
   "source": [
    "if get_measurements and show_plots:\n",
    "    # print(\"Dynamic DRAM Energy Consumption in Watts\")\n",
    "    # dynamic_dram_boxplot = dram_dynamic_df.boxplot(figsize=(15,5), rot=75)\n",
    "    # dynamic_dram_boxplot.plot()\n",
    "    # plot.ylim(-0.1, 0.25)\n",
    "    # plot.show()\n",
    "\n",
    "    print(\"Dynamic CPU Energy Consumption in Joiles\")\n",
    "    dynamic_cpu_boxplot = cpu_dynamic_df.boxplot(figsize=(15,5), rot=85)\n",
    "    dynamic_cpu_boxplot.plot()\n",
    "    # plot.ylim(6750, 7000)\n",
    "    plot.show()\n",
    "    \n",
    "    print(\"Dynamic CPU Energy Consumption in Watts\")\n",
    "    dynamic_watt_cpu_boxplot = cpu_dynamic_watt_df.boxplot(figsize=(15,5), rot=85)\n",
    "    dynamic_watt_cpu_boxplot.plot()\n",
    "    plot.ylim(0,50)\n",
    "    plot.show()\n",
    "    \n",
    "    \n",
    "\n",
    "    # print(\"Dynamic GPU Energy Consumption in Watts\")\n",
    "    # dynamic_gpu_boxplot = gpu_dynamic_df.boxplot(figsize=(15,5), rot=75)\n",
    "    # dynamic_gpu_boxplot.plot()\n",
    "    # plot.ylim(-0.1, 0.25)\n",
    "    # plot.show()\n"
   ]
  },
  {
   "cell_type": "code",
   "execution_count": 57,
   "metadata": {},
   "outputs": [],
   "source": [
    "def list_to_label(lst, mapper):\n",
    "    if len(lst) == 1:\n",
    "        return mapper[lst[0]]\n",
    "    elif len(lst) == 2:\n",
    "        return f\"{mapper[lst[0]]} and {mapper[lst[1]]}\"\n",
    "    else:\n",
    "        return \", \".join([mapper[x] for x in lst[:-1]]) + f\" and {mapper[lst[-1]]}\"\n",
    "\n",
    "def get_caption(data_type, name, c_measuring_instrument, c_duts, c_test_cases, c_compiler):\n",
    "    caption = f\"{name} measurements\"\n",
    "\n",
    "    if not ',' in c_measuring_instrument:\n",
    "        caption += f\" by {c_measuring_instrument}\"\n",
    "\n",
    "    if not ',' in c_duts:\n",
    "        caption += f\" on {c_duts}\"\n",
    "        \n",
    "    if not ',' in c_test_cases:\n",
    "        caption += f\" for test case(s) {c_test_cases}\"\n",
    "        \n",
    "    if not ',' in c_compiler:\n",
    "        caption += f\" compiled on {c_compiler}\"\n",
    "\n",
    "    return caption"
   ]
  },
  {
   "cell_type": "code",
   "execution_count": 58,
   "metadata": {},
   "outputs": [],
   "source": [
    "dut_name_mapper = {\n",
    "    \"workstationone\" : \"DUT 1\",\n",
    "    \"workstationtwo\" : \"DUT 2\"\n",
    "}\n",
    "\n",
    "compiler_mapper = {\n",
    "    \"clang\" : \"Clang\",\n",
    "    \"min-gw\" : \"MinGW\",\n",
    "    \"intel-one-api\" : \"oneAPI\",\n",
    "    \"msvc\" : \"MSVC\",\n",
    "    \"unkown\" : \"\"\n",
    "}\n",
    "\n",
    "test_case_mapper = {\n",
    "    \"fannkuch-redux.exe\" : \"FR\",\n",
    "    \"3d-mark.exe\" : \"3DM\",\n",
    "    \"pc-mark-10.exe\" : \"PCM\",\n",
    "    \"mandelbrot.exe\" : \"MB\",\n",
    "    \"nbody.exe\" : \"NB\",\n",
    "    \"spectral-norm.exe\" : \"SN\"\n",
    "}\n",
    "\n",
    "mi_mapper = {\n",
    "    \"ipg\" : \"IPG\",\n",
    "    \"lhm\" : \"LHM\",\n",
    "    \"clamp\" : \"Clamp\",\n",
    "    \"plug\" : \"Plug\",\n",
    "    \"scaphandre\" : \"SCAP\",\n",
    "    \"scaphandre_isolated\" : \"SCAPI\",\n",
    "    \"rapl\" : \"RAPL\"\n",
    "}\n",
    "\n",
    "os_mapper = {\n",
    "    \"unix\" : 'LIN',\n",
    "    \"win32nt\" : \"WIN\"\n",
    "}"
   ]
  },
  {
   "cell_type": "code",
   "execution_count": 59,
   "metadata": {},
   "outputs": [],
   "source": [
    "box_plot_raw_data = [\n",
    "    {\n",
    "        \"data\" : cpu_df,\n",
    "        \"name\" : \"CPU\",\n",
    "        \"data_type\" : \"energy consumption\",\n",
    "        \"width\" : 0.9,\n",
    "        \"xmin\" : 0,\n",
    "        \"xmax\" : 2000,\n",
    "        \"xlabel\" : \"Average Energy Consumption (Joules)\"\n",
    "    },\n",
    "    {\n",
    "        \"data\" : cpu_dynamic_df,\n",
    "        \"name\" : \"CPU\",\n",
    "        \"data_type\" : \"DEC\",\n",
    "        \"width\" : 0.9,\n",
    "        \"xmin\" : 0,\n",
    "        \"xmax\" : 1000,\n",
    "        \"xlabel\" : \"Average DEC (Joules)\"\n",
    "    },\n",
    "    {\n",
    "        \"data\" : cpu_dynamic_watt_df,\n",
    "        \"name\" : \"CPU\",\n",
    "        \"data_type\" : \"DEC per second\",\n",
    "        \"width\" : 0.9,\n",
    "        \"xmin\" : 0,\n",
    "        \"xmax\" : 40,\n",
    "        \"xlabel\" : \"Average DEC (Watts)\"\n",
    "    },\n",
    "    # {\n",
    "    #     \"data\" : dram_dynamic_df,\n",
    "    #     \"name\" : \"DRAM\",\n",
    "    #     \"data_type\" : \"dynamic energy consumption\",\n",
    "    #     \"width\" : 0.9,\n",
    "    #     \"xmin\" : -0.1,\n",
    "    #     \"xmax\" : 0.1,\n",
    "    #     \"xlabel\" : \"Average Energy Consumption (Watt)\"\n",
    "    # },\n",
    "    # {\n",
    "    #     \"data\" : dram_df,\n",
    "    #     \"name\" : \"DRAM\",\n",
    "    #     \"data_type\" : \"energy consumption\",\n",
    "    #     \"width\" : 0.9,\n",
    "    #     \"xmin\" : 0,\n",
    "    #     \"xmax\" : 40,\n",
    "    #     \"xlabel\" : \"Total Energy Consumption (Joules)\"\n",
    "    # },\n",
    "    # {\n",
    "    #     \"data\" : gpu_dynamic_df,\n",
    "    #     \"name\" : \"GPU\",\n",
    "    #     \"data_type\" : \"dynamic energy consumption\",\n",
    "    #     \"width\" : 0.9,\n",
    "    #     \"xmin\" : -0.1,\n",
    "    #     \"xmax\" : 0.1,\n",
    "    #     \"xlabel\" : \"Average Energy Consumption (Watt)\"\n",
    "    # },\n",
    "    # {\n",
    "    #     \"data\" : gpu_df,\n",
    "    #     \"name\" : \"GPU\",\n",
    "    #     \"data_type\" : \"energy consumption\",\n",
    "    #     \"width\" : 0.9,\n",
    "    #     \"xmin\" : 0,\n",
    "    #     \"xmax\" : 50,\n",
    "    #     \"xlabel\" : \"Total Energy Consumption (Watt)\"\n",
    "    # },\n",
    "    {\n",
    "        \"data\" : duration_df,\n",
    "        \"name\" : \"Runtime\",\n",
    "        \"data_type\" : \"duration\",\n",
    "        \"width\" : 0.9,\n",
    "        \"xmin\" : 0,\n",
    "        \"xmax\" : 50,\n",
    "        \"xlabel\" : \"Average Runtime (s)\"\n",
    "    }\n",
    "]"
   ]
  },
  {
   "cell_type": "code",
   "execution_count": 60,
   "metadata": {},
   "outputs": [
    {
     "name": "stdout",
     "output_type": "stream",
     "text": [
      "generating plots is disabled\n"
     ]
    }
   ],
   "source": [
    "if generate_graphs and get_measurements:\n",
    "    for plot_data in box_plot_raw_data:\n",
    "        print(\"start\")\n",
    "        data = plot_data[\"data\"]\n",
    "        name = plot_data[\"name\"]\n",
    "        data_type = plot_data[\"data_type\"]\n",
    "        width = plot_data[\"width\"]\n",
    "        height = 0.1 + (len(data.columns) * 0.02)\n",
    "        xmin = plot_data[\"xmin\"]\n",
    "        xmax = plot_data[\"xmax\"]\n",
    "        xlabel = plot_data[\"xlabel\"]\n",
    "        \n",
    "        latex_boxes = tex.get_boxes(data)\n",
    "        plot.clf()\n",
    "        # latex_boxes = tex.get_boxes(pd.DataFrame(data['fannkuch-redux.exe.ipg.workstationone.all.intel-one-api.win32nt']))\n",
    "        \n",
    "        if name == 'Runtime':\n",
    "            title = f\"The average duration\"\n",
    "        else:\n",
    "            title = f\"The {data_type} of the {name}\"\n",
    "        \n",
    "        \n",
    "        ytick = str(list(range(1, len(list(data.columns))+1))).replace('[', '').replace(']', '')\n",
    "        \n",
    "        yticklables = tex.get_ytick_labels(\n",
    "            data, \n",
    "            used_test_case_names, \n",
    "            used_mi_names, \n",
    "            used_dut_name, \n",
    "            used_allocated_cores, \n",
    "            used_compiler_str, \n",
    "            used_os_names,\n",
    "            dut_name_mapper,\n",
    "            compiler_mapper,\n",
    "            test_case_mapper,\n",
    "            mi_mapper,\n",
    "            os_mapper\n",
    "            )\n",
    "        \n",
    "        labels = f\"{experiment_number}-{experiment_name}-{'-'.join(used_mi_names)}-{'-'.join(used_test_case_names)}-{'-'.join(used_compilers)}-{'-'.join(used_dut_name)}-{name.replace(' ', '_')}-{data_type.replace(' ', '_')}\".lower()\n",
    "        \n",
    "        c_test_cases = list_to_label(used_test_case_names, test_case_mapper)\n",
    "        c_compiler = list_to_label(used_compilers, compiler_mapper)\n",
    "        c_duts = list_to_label(used_dut_name, dut_name_mapper)\n",
    "        c_measuring_instrument = list_to_label(used_mi_names, mi_mapper)\n",
    "        \n",
    "        c_test_cases = c_test_cases.replace(\".exe\", \"\")\n",
    "        \n",
    "        caption = get_caption(data_type, name, c_measuring_instrument, c_duts, c_test_cases, c_compiler)\n",
    "        \n",
    "        latex_box_plot = tex.get_boxplot_template(width, height, xlabel, title, ytick, yticklables, xmin, xmax, latex_boxes, caption, labels)\n",
    "\n",
    "        box_plot_path = f\"{experiment_name}/{'-'.join(used_mi_names)}/{'-'.join(used_test_case_names)}/{'-'.join(used_dut_name)}/{'-'.join(used_compilers)}\"\n",
    "        box_plot_file_name = f\"{name}_{data_type.replace(' ', '_')}.tex\"\n",
    "        print(f\"generating {box_plot_file_name}\")\n",
    "        # print(data)\n",
    "        path_util.write_to_path(box_plot_path.replace('.exe', ''), box_plot_file_name, latex_box_plot)\n",
    "else:\n",
    "    print(\"generating plots is disabled\")"
   ]
  },
  {
   "attachments": {},
   "cell_type": "markdown",
   "metadata": {},
   "source": [
    "```latex\n",
    "\\begin{figure}\n",
    "    \\centering\n",
    "    \\begin{tikzpicture}[]\n",
    "        \\pgfplotsset{\n",
    "            width=WIDTH\\textwidth,\n",
    "            height=WIDHT\\textheight\n",
    "        }\n",
    "        \\begin{axis}[\n",
    "            xlabel={XLABEL}, \n",
    "            title={TITLE}, \n",
    "            ytick={YTICK},\n",
    "        yticklabels={\n",
    "            LABELS\n",
    "            },\n",
    "            xmin=XMIN,xmax=XMAX,\n",
    "            ]\n",
    "        \n",
    "        \\addplot+ [boxplot prepared={\n",
    "        lower whisker=LOW_WHISKER,\n",
    "        lower quartile=LOW_QUANTILE,\n",
    "        median=MEDIAN,\n",
    "        upper quartile=UPPER_QUANTILE,\n",
    "        upper whisker=UPPER_WHISKER\n",
    "        }, color = red\n",
    "        ] coordinates{COORDINATES};\n",
    "        \n",
    "        \\end{axis}\n",
    "    \\end{tikzpicture}\n",
    "\\caption{CAPTION} \\label{fig:LABEL}\n",
    "\\end{figure}\n",
    "```"
   ]
  },
  {
   "cell_type": "code",
   "execution_count": 61,
   "metadata": {},
   "outputs": [],
   "source": [
    "# \\addplot[mark=none, blue] coordinates {(1000,0) (1000,5)};"
   ]
  },
  {
   "cell_type": "code",
   "execution_count": null,
   "metadata": {},
   "outputs": [],
   "source": [
    "\n"
   ]
  },
  {
   "cell_type": "code",
   "execution_count": 62,
   "metadata": {},
   "outputs": [],
   "source": [
    "def remove_n_percent(df, column, percent):\n",
    "    data_to_order = df[column]\n",
    "\n",
    "    list(data_to_order).sort()\n",
    "    data_to_order = [x for x in data_to_order if str(x) != 'nan']\n",
    "    data_to_order\n",
    "    percent = 20\n",
    "\n",
    "    n = len(data_to_order)\n",
    "    outliers = int(n*percent/100) #may want some rounding logic if n is small\n",
    "    trimmed_data = data_to_order[outliers: n-outliers]\n",
    "    \n",
    "    return trimmed_data\n",
    "\n",
    "def remove_n_first(df, column, n):\n",
    "    data_to_order = df[column]\n",
    "\n",
    "    data_to_order = [x for x in data_to_order if str(x) != 'nan']\n",
    "    data_to_order\n",
    "    trimmed_data = data_to_order[n:]\n",
    "    \n",
    "    return trimmed_data"
   ]
  },
  {
   "cell_type": "code",
   "execution_count": 63,
   "metadata": {},
   "outputs": [],
   "source": [
    "# percent = 20\n",
    "# n = len(used_df['spectral-norm.exe.win32nt.workstationtwo.[2].intel-one-api.ipg'])\n",
    "# outliers = n*percent/100 #may want some rounding logic if n is small\n",
    "# trimmed_data = sorted_data[outliers: n-outliers]"
   ]
  },
  {
   "cell_type": "code",
   "execution_count": 64,
   "metadata": {},
   "outputs": [],
   "source": [
    "def  remove_outliers_z_score(df, column, limit):\n",
    "    df['z_score'] = np.abs((df[column] - df[column].mean()) / df[column].std())\n",
    "\n",
    "    # identify outliers as data points with z-score > 3\n",
    "    outliers = df[column][df['z_score'] > limit]\n",
    "    \n",
    "    return [\n",
    "        x for x in list(df[column]) if x not in list(outliers)\n",
    "    ]"
   ]
  },
  {
   "cell_type": "code",
   "execution_count": 67,
   "metadata": {},
   "outputs": [
    {
     "data": {
      "image/png": "[encoded data removed]",
      "text/plain": [
       "<Figure size 640x480 with 1 Axes>"
      ]
     },
     "metadata": {},
     "output_type": "display_data"
    }
   ],
   "source": [
    "used_df = cpu_dynamic_watt_df\n",
    "\n",
    "used_df.boxplot(column=list(used_df.columns)[0])\n",
    "plot.show()\n",
    "# used_df.boxplot()"
   ]
  },
  {
   "cell_type": "code",
   "execution_count": 68,
   "metadata": {},
   "outputs": [
    {
     "data": {
      "text/html": [
       "<div>\n",
       "<style scoped>\n",
       "    .dataframe tbody tr th:only-of-type {\n",
       "        vertical-align: middle;\n",
       "    }\n",
       "\n",
       "    .dataframe tbody tr th {\n",
       "        vertical-align: top;\n",
       "    }\n",
       "\n",
       "    .dataframe thead th {\n",
       "        text-align: right;\n",
       "    }\n",
       "</style>\n",
       "<table border=\"1\" class=\"dataframe\">\n",
       "  <thead>\n",
       "    <tr style=\"text-align: right;\">\n",
       "      <th></th>\n",
       "      <th>0</th>\n",
       "      <th>1</th>\n",
       "      <th>2</th>\n",
       "      <th>3</th>\n",
       "      <th>4</th>\n",
       "    </tr>\n",
       "  </thead>\n",
       "  <tbody>\n",
       "    <tr>\n",
       "      <th></th>\n",
       "      <td>with</td>\n",
       "      <td>without</td>\n",
       "      <td>z</td>\n",
       "      <td>percent</td>\n",
       "      <td>count</td>\n",
       "    </tr>\n",
       "    <tr>\n",
       "      <th>pc-mark-10.exe.win32nt.workstationtwo.[4, 3, 2, 1].unkown.ipg</th>\n",
       "      <td>345.5</td>\n",
       "      <td>345.5</td>\n",
       "      <td>249.4</td>\n",
       "      <td>218.5</td>\n",
       "      <td>24.0</td>\n",
       "    </tr>\n",
       "    <tr>\n",
       "      <th>pc-mark-10.exe.win32nt.workstationtwo.[8, 7, 4, 3].unkown.ipg</th>\n",
       "      <td>473.1</td>\n",
       "      <td>473.1</td>\n",
       "      <td>398.6</td>\n",
       "      <td>293.0</td>\n",
       "      <td>24.0</td>\n",
       "    </tr>\n",
       "    <tr>\n",
       "      <th>pc-mark-10.exe.win32nt.workstationtwo.[8, 7, 6, 9].unkown.ipg</th>\n",
       "      <td>271.4</td>\n",
       "      <td>271.4</td>\n",
       "      <td>171.4</td>\n",
       "      <td>150.1</td>\n",
       "      <td>24.0</td>\n",
       "    </tr>\n",
       "    <tr>\n",
       "      <th>z_score</th>\n",
       "      <td>1770.1</td>\n",
       "      <td>603.7</td>\n",
       "      <td>529.1</td>\n",
       "      <td>372.3</td>\n",
       "      <td>24.0</td>\n",
       "    </tr>\n",
       "  </tbody>\n",
       "</table>\n",
       "</div>"
      ],
      "text/plain": [
       "                                                         0        1      2  \\\n",
       "                                                      with  without      z   \n",
       "pc-mark-10.exe.win32nt.workstationtwo.[4, 3, 2,...   345.5    345.5  249.4   \n",
       "pc-mark-10.exe.win32nt.workstationtwo.[8, 7, 4,...   473.1    473.1  398.6   \n",
       "pc-mark-10.exe.win32nt.workstationtwo.[8, 7, 6,...   271.4    271.4  171.4   \n",
       "z_score                                             1770.1    603.7  529.1   \n",
       "\n",
       "                                                          3      4  \n",
       "                                                    percent  count  \n",
       "pc-mark-10.exe.win32nt.workstationtwo.[4, 3, 2,...    218.5   24.0  \n",
       "pc-mark-10.exe.win32nt.workstationtwo.[8, 7, 4,...    293.0   24.0  \n",
       "pc-mark-10.exe.win32nt.workstationtwo.[8, 7, 6,...    150.1   24.0  \n",
       "z_score                                               372.3   24.0  "
      ]
     },
     "execution_count": 68,
     "metadata": {},
     "output_type": "execute_result"
    }
   ],
   "source": [
    "cochrans_data = {\n",
    "    \"\" : [\"with\", \"without\", 'z', \"percent\", \"count\"]\n",
    "}\n",
    "\n",
    "plot.clf()\n",
    "\n",
    "if get_measurements:\n",
    "    Z = 1.96\n",
    "    E = 0.03\n",
    "\n",
    "    # Z = 2.58\n",
    "    # E = 0.01\n",
    "\n",
    "    include_outliers = False\n",
    "\n",
    "    for column in used_df.columns:\n",
    "        used_df_without_outlisers = math_util.exclude_outliers(used_df, column)\n",
    "        used_df_without_n_percent = remove_n_percent(used_df, column, 20)\n",
    "        used_df_without_z_score_outliers = remove_outliers_z_score(used_df, column, 1.5)\n",
    "        \n",
    "        \n",
    "        \n",
    "        \n",
    "        # used_df_remove_n = remove_n_first(used_df, column, 1000)\n",
    "        # pd_removed = pd.DataFrame({column : used_df_remove_n})\n",
    "        # used_df_remove_n = math_util.exclude_outliers(pd_removed, column)\n",
    "        \n",
    "        \n",
    "        current_count = used_df[column].count()\n",
    "        \n",
    "        values = used_df_without_outlisers\n",
    "        n_zero_without = math_util.get_cochran(values, Z, E)\n",
    "        \n",
    "        values = used_df_without_z_score_outliers\n",
    "        n_zero_without_z_outliers = math_util.get_cochran(values, Z, E)\n",
    "        \n",
    "        # values = used_df_remove_n\n",
    "        # n_zero_removed = math_util.get_cochran(values, Z, E)\n",
    "        # print(n_zero_removed)\n",
    "        \n",
    "        values = used_df_without_n_percent\n",
    "        n_zero_percent = math_util.get_cochran(values, Z, E)\n",
    "        \n",
    "        values = list(used_df[column])\n",
    "        n_zero = math_util.get_cochran(values, Z, E)\n",
    "        \n",
    "        cochrans_data[column] = [round(n_zero, 1), round(n_zero_without, 1), round(n_zero_without_z_outliers, 1), round(n_zero_percent, 1), current_count]\n",
    "\n",
    "pd.DataFrame(cochrans_data).T"
   ]
  },
  {
   "cell_type": "code",
   "execution_count": null,
   "metadata": {},
   "outputs": [
    {
     "ename": "KeyError",
     "evalue": "'fannkuch-redux.exe.unix.workstationtwo.all.intel-one-api.rapl'",
     "output_type": "error",
     "traceback": [
      "\u001b[1;31m---------------------------------------------------------------------------\u001b[0m",
      "\u001b[1;31mKeyError\u001b[0m                                  Traceback (most recent call last)",
      "File \u001b[1;32mc:\\Users\\Mads Kusk\\git\\BDEnergy\\analytics\\env\\lib\\site-packages\\pandas\\core\\indexes\\base.py:3802\u001b[0m, in \u001b[0;36mIndex.get_loc\u001b[1;34m(self, key, method, tolerance)\u001b[0m\n\u001b[0;32m   3801\u001b[0m \u001b[39mtry\u001b[39;00m:\n\u001b[1;32m-> 3802\u001b[0m     \u001b[39mreturn\u001b[39;00m \u001b[39mself\u001b[39;49m\u001b[39m.\u001b[39;49m_engine\u001b[39m.\u001b[39;49mget_loc(casted_key)\n\u001b[0;32m   3803\u001b[0m \u001b[39mexcept\u001b[39;00m \u001b[39mKeyError\u001b[39;00m \u001b[39mas\u001b[39;00m err:\n",
      "File \u001b[1;32mc:\\Users\\Mads Kusk\\git\\BDEnergy\\analytics\\env\\lib\\site-packages\\pandas\\_libs\\index.pyx:138\u001b[0m, in \u001b[0;36mpandas._libs.index.IndexEngine.get_loc\u001b[1;34m()\u001b[0m\n",
      "File \u001b[1;32mc:\\Users\\Mads Kusk\\git\\BDEnergy\\analytics\\env\\lib\\site-packages\\pandas\\_libs\\index.pyx:165\u001b[0m, in \u001b[0;36mpandas._libs.index.IndexEngine.get_loc\u001b[1;34m()\u001b[0m\n",
      "File \u001b[1;32mpandas\\_libs\\hashtable_class_helper.pxi:5745\u001b[0m, in \u001b[0;36mpandas._libs.hashtable.PyObjectHashTable.get_item\u001b[1;34m()\u001b[0m\n",
      "File \u001b[1;32mpandas\\_libs\\hashtable_class_helper.pxi:5753\u001b[0m, in \u001b[0;36mpandas._libs.hashtable.PyObjectHashTable.get_item\u001b[1;34m()\u001b[0m\n",
      "\u001b[1;31mKeyError\u001b[0m: 'fannkuch-redux.exe.unix.workstationtwo.all.intel-one-api.rapl'",
      "\nThe above exception was the direct cause of the following exception:\n",
      "\u001b[1;31mKeyError\u001b[0m                                  Traceback (most recent call last)",
      "Cell \u001b[1;32mIn[728], line 1\u001b[0m\n\u001b[1;32m----> 1\u001b[0m clamp_mandelbrot \u001b[39m=\u001b[39m [x \u001b[39mfor\u001b[39;00m x \u001b[39min\u001b[39;00m used_df[\u001b[39m'\u001b[39;49m\u001b[39mfannkuch-redux.exe.unix.workstationtwo.all.intel-one-api.rapl\u001b[39;49m\u001b[39m'\u001b[39;49m] \u001b[39mif\u001b[39;00m \u001b[39mnot\u001b[39;00m \u001b[39mstr\u001b[39m(x) \u001b[39m==\u001b[39m \u001b[39m'\u001b[39m\u001b[39mnan\u001b[39m\u001b[39m'\u001b[39m]\n\u001b[0;32m      2\u001b[0m clamp_fann \u001b[39m=\u001b[39m [x \u001b[39mfor\u001b[39;00m x \u001b[39min\u001b[39;00m used_df[\u001b[39m'\u001b[39m\u001b[39mfannkuch-redux.exe.win32nt.workstationone.all.intel-one-api.clamp\u001b[39m\u001b[39m'\u001b[39m] \u001b[39mif\u001b[39;00m \u001b[39mnot\u001b[39;00m \u001b[39mstr\u001b[39m(x) \u001b[39m==\u001b[39m \u001b[39m'\u001b[39m\u001b[39mnan\u001b[39m\u001b[39m'\u001b[39m]\n",
      "File \u001b[1;32mc:\\Users\\Mads Kusk\\git\\BDEnergy\\analytics\\env\\lib\\site-packages\\pandas\\core\\frame.py:3807\u001b[0m, in \u001b[0;36mDataFrame.__getitem__\u001b[1;34m(self, key)\u001b[0m\n\u001b[0;32m   3805\u001b[0m \u001b[39mif\u001b[39;00m \u001b[39mself\u001b[39m\u001b[39m.\u001b[39mcolumns\u001b[39m.\u001b[39mnlevels \u001b[39m>\u001b[39m \u001b[39m1\u001b[39m:\n\u001b[0;32m   3806\u001b[0m     \u001b[39mreturn\u001b[39;00m \u001b[39mself\u001b[39m\u001b[39m.\u001b[39m_getitem_multilevel(key)\n\u001b[1;32m-> 3807\u001b[0m indexer \u001b[39m=\u001b[39m \u001b[39mself\u001b[39;49m\u001b[39m.\u001b[39;49mcolumns\u001b[39m.\u001b[39;49mget_loc(key)\n\u001b[0;32m   3808\u001b[0m \u001b[39mif\u001b[39;00m is_integer(indexer):\n\u001b[0;32m   3809\u001b[0m     indexer \u001b[39m=\u001b[39m [indexer]\n",
      "File \u001b[1;32mc:\\Users\\Mads Kusk\\git\\BDEnergy\\analytics\\env\\lib\\site-packages\\pandas\\core\\indexes\\base.py:3804\u001b[0m, in \u001b[0;36mIndex.get_loc\u001b[1;34m(self, key, method, tolerance)\u001b[0m\n\u001b[0;32m   3802\u001b[0m     \u001b[39mreturn\u001b[39;00m \u001b[39mself\u001b[39m\u001b[39m.\u001b[39m_engine\u001b[39m.\u001b[39mget_loc(casted_key)\n\u001b[0;32m   3803\u001b[0m \u001b[39mexcept\u001b[39;00m \u001b[39mKeyError\u001b[39;00m \u001b[39mas\u001b[39;00m err:\n\u001b[1;32m-> 3804\u001b[0m     \u001b[39mraise\u001b[39;00m \u001b[39mKeyError\u001b[39;00m(key) \u001b[39mfrom\u001b[39;00m \u001b[39merr\u001b[39;00m\n\u001b[0;32m   3805\u001b[0m \u001b[39mexcept\u001b[39;00m \u001b[39mTypeError\u001b[39;00m:\n\u001b[0;32m   3806\u001b[0m     \u001b[39m# If we have a listlike key, _check_indexing_error will raise\u001b[39;00m\n\u001b[0;32m   3807\u001b[0m     \u001b[39m#  InvalidIndexError. Otherwise we fall through and re-raise\u001b[39;00m\n\u001b[0;32m   3808\u001b[0m     \u001b[39m#  the TypeError.\u001b[39;00m\n\u001b[0;32m   3809\u001b[0m     \u001b[39mself\u001b[39m\u001b[39m.\u001b[39m_check_indexing_error(key)\n",
      "\u001b[1;31mKeyError\u001b[0m: 'fannkuch-redux.exe.unix.workstationtwo.all.intel-one-api.rapl'"
     ]
    }
   ],
   "source": [
    "clamp_mandelbrot = [x for x in used_df['fannkuch-redux.exe.unix.workstationtwo.all.intel-one-api.rapl'] if not str(x) == 'nan']\n",
    "clamp_fann = [x for x in used_df['fannkuch-redux.exe.win32nt.workstationone.all.intel-one-api.clamp'] if not str(x) == 'nan']"
   ]
  },
  {
   "cell_type": "code",
   "execution_count": null,
   "metadata": {},
   "outputs": [
    {
     "data": {
      "text/plain": [
       "(24.315725096811228, 18.447549029122236)"
      ]
     },
     "execution_count": 2886,
     "metadata": {},
     "output_type": "execute_result"
    }
   ],
   "source": [
    "clamp_mandelbrot_mean = sum(clamp_mandelbrot) / len(clamp_mandelbrot)\n",
    "clamp_fann_mean = sum(clamp_fann) / len(clamp_fann)\n",
    "\n",
    "clamp_mandelbrot_mean, clamp_fann_mean"
   ]
  },
  {
   "cell_type": "code",
   "execution_count": null,
   "metadata": {},
   "outputs": [
    {
     "data": {
      "text/plain": [
       "(2.035663821569478, 13.018304279191112)"
      ]
     },
     "execution_count": 2887,
     "metadata": {},
     "output_type": "execute_result"
    }
   ],
   "source": [
    "clamp_mandelbrot_std = sum([(x - clamp_mandelbrot_mean) ** 2 for x in clamp_mandelbrot]) / len(clamp_mandelbrot)\n",
    "clamp_fann_std = sum([(x - clamp_fann_mean) ** 2 for x in clamp_fann]) / len(clamp_fann)\n",
    "\n",
    "clamp_mandelbrot_std, clamp_fann_std"
   ]
  },
  {
   "cell_type": "code",
   "execution_count": null,
   "metadata": {},
   "outputs": [
    {
     "data": {
      "text/plain": [
       "(0.01348121736138727, 0.019144565116457516)"
      ]
     },
     "execution_count": 2888,
     "metadata": {},
     "output_type": "execute_result"
    }
   ],
   "source": [
    "clamp_mandelbrot_standard_error = clamp_mandelbrot_std / len(clamp_mandelbrot)\n",
    "clamp_fann_standard_error = clamp_fann_std / len(clamp_fann)\n",
    "\n",
    "clamp_mandelbrot_standard_error, clamp_fann_standard_error"
   ]
  },
  {
   "cell_type": "code",
   "execution_count": null,
   "metadata": {},
   "outputs": [],
   "source": [
    "margin_of_error = 0.03\n",
    "confidence_level = 0.95"
   ]
  },
  {
   "cell_type": "code",
   "execution_count": null,
   "metadata": {},
   "outputs": [],
   "source": [
    "clamp_mandelbrot_confidence_level_upper = clamp_mandelbrot_mean + confidence_level * (clamp_mandelbrot_std / len(clamp_mandelbrot))\n",
    "clamp_mandelbrot_confidence_level_lower = clamp_mandelbrot_mean - confidence_level * (clamp_mandelbrot_std / len(clamp_mandelbrot))\n",
    "clamp_fann_confidence_level_upper = clamp_fann_mean + confidence_level * (clamp_fann_std / len(clamp_fann))\n",
    "clamp_fann_confidence_level_lower = clamp_fann_mean - confidence_level * (clamp_fann_std / len(clamp_fann))"
   ]
  },
  {
   "cell_type": "code",
   "execution_count": null,
   "metadata": {},
   "outputs": [
    {
     "data": {
      "text/plain": [
       "(24.30291794031791, 24.328532253304544)"
      ]
     },
     "execution_count": 2891,
     "metadata": {},
     "output_type": "execute_result"
    }
   ],
   "source": [
    "clamp_mandelbrot_confidence_level_lower, clamp_mandelbrot_confidence_level_upper"
   ]
  },
  {
   "cell_type": "code",
   "execution_count": null,
   "metadata": {},
   "outputs": [
    {
     "data": {
      "text/plain": [
       "(18.4293616922616, 18.46573636598287)"
      ]
     },
     "execution_count": 2892,
     "metadata": {},
     "output_type": "execute_result"
    }
   ],
   "source": [
    "clamp_fann_confidence_level_lower, clamp_fann_confidence_level_upper"
   ]
  },
  {
   "cell_type": "code",
   "execution_count": null,
   "metadata": {},
   "outputs": [
    {
     "data": {
      "text/plain": [
       "(2.2253183222106943, 1.5670243652706777)"
      ]
     },
     "execution_count": 2893,
     "metadata": {},
     "output_type": "execute_result"
    }
   ],
   "source": [
    "margin_of_error * (len(clamp_mandelbrot) / clamp_mandelbrot_std), margin_of_error * (len(clamp_fann) / clamp_fann_std)"
   ]
  },
  {
   "cell_type": "code",
   "execution_count": null,
   "metadata": {},
   "outputs": [
    {
     "data": {
      "text/plain": [
       "2.035663821569478"
      ]
     },
     "execution_count": 2894,
     "metadata": {},
     "output_type": "execute_result"
    }
   ],
   "source": [
    "clamp_mandelbrot_std"
   ]
  },
  {
   "cell_type": "code",
   "execution_count": null,
   "metadata": {},
   "outputs": [
    {
     "data": {
      "text/plain": [
       "1801.9"
      ]
     },
     "execution_count": 1229,
     "metadata": {},
     "output_type": "execute_result"
    },
    {
     "data": {
      "image/png": "[encoded data removed]",
      "text/plain": [
       "<Figure size 640x480 with 1 Axes>"
      ]
     },
     "metadata": {},
     "output_type": "display_data"
    }
   ],
   "source": [
    "E = 0.05\n",
    "\n",
    "# Z = 1.15988\n",
    "# column = 'mandelbrot.exe.win32nt.workstationone.all.intel-one-api.clamp'\n",
    "\n",
    "Z =  1.96\n",
    "column = 'nbody.exe.win32nt.workstationone.[5].intel-one-api.ipg'\n",
    "\n",
    "used_df_without_outlisers = math_util.exclude_outliers(cpu_dynamic_watt_df, column)\n",
    "values = used_df_without_outlisers\n",
    "n_zero_without = math_util.get_cochran(values, Z, E)\n",
    "\n",
    "round(n_zero_without, 1)"
   ]
  }
 ],
 "metadata": {
  "kernelspec": {
   "display_name": "env",
   "language": "python",
   "name": "python3"
  },
  "language_info": {
   "codemirror_mode": {
    "name": "ipython",
    "version": 3
   },
   "file_extension": ".py",
   "mimetype": "text/x-python",
   "name": "python",
   "nbconvert_exporter": "python",
   "pygments_lexer": "ipython3",
   "version": "3.10.7"
  },
  "orig_nbformat": 4
 },
 "nbformat": 4,
 "nbformat_minor": 2
}
