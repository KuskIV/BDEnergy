{
 "cells": [
  {
   "cell_type": "code",
   "execution_count": 130,
   "metadata": {},
   "outputs": [],
   "source": [
    "from utils.database_connection import DatabaseConnection\n",
    "import utils.results_repository as rep\n",
    "import pandas as pd\n",
    "import numpy as np\n",
    "from utils.column_name_utils import *\n",
    "import utils.query_utils as query\n",
    "import matplotlib.pyplot as plot\n",
    "import utils.dataframe_utils as df_util\n",
    "import utils.path_utils as path_util\n",
    "import utils.math_utils as math_util\n",
    "import math\n",
    "import utils.latex_utils as tex\n",
    "from scipy import stats\n",
    "import utils.time_series_utils as ts_util\n",
    "import json\n",
    "import utils.measurement_utils as m_util"
   ]
  },
  {
   "cell_type": "code",
   "execution_count": 131,
   "metadata": {},
   "outputs": [
    {
     "name": "stdout",
     "output_type": "stream",
     "text": [
      "Connected to MySQL Server version  8.0.32-24\n"
     ]
    }
   ],
   "source": [
    "db = DatabaseConnection()"
   ]
  },
  {
   "cell_type": "code",
   "execution_count": 132,
   "metadata": {},
   "outputs": [],
   "source": [
    "used_dut_name = [\n",
    "    'workstationtwo',\n",
    "    # 'workstationone',\n",
    "]\n",
    "\n",
    "used_dut_name.sort()\n",
    "\n",
    "used_dut_env = 'prod'\n",
    "\n",
    "windows = \"win32nt\"\n",
    "linux = \"unix\"\n",
    "\n",
    "used_os_names = [\n",
    "    windows, \n",
    "    linux\n",
    "]\n",
    "\n",
    "used_test_case_names = [\n",
    "    'fannkuch-redux.exe',\n",
    "    # 'mandelbrot.exe',\n",
    "    # 'idle-case.exe'\n",
    "]\n",
    "\n",
    "used_test_case_names.sort()\n",
    "\n",
    "used_thread = [\n",
    "    'multi-threaded'\n",
    "]\n",
    "\n",
    "used_thread.sort()\n",
    "\n",
    "used_test_case_name = 'idle-case.exe'\n",
    "\n",
    "ipg = \"ipg\"\n",
    "lhm = \"lhm\"\n",
    "rapl = \"rapl\"\n",
    "clamp = \"clamp\"\n",
    "plug = \"plug\"\n",
    "scaphandre = \"scaphandre\"\n",
    "\n",
    "windows_mi = [\n",
    "    ipg, lhm, clamp, plug, scaphandre\n",
    "]\n",
    "\n",
    "linux_mi = [\n",
    "    rapl, clamp, plug\n",
    "]\n",
    "\n",
    "used_mi_names = [\n",
    "    ipg ##ipg, lhm, ipg, clamp, plug #, scaphandre, # plug, rapl\n",
    "]\n",
    "\n",
    "ipg_sample_rate = 100\n",
    "lhm_sample_rate = 100\n",
    "rapl_sample_rate = 100\n",
    "clamp_sample_rate = 100\n",
    "plug_sample_rate = 200\n",
    "scaphandre_sample_rate = 100\n",
    "\n",
    "used_min_temp = 0\n",
    "used_max_temp = 200\n",
    "used_burn_in = 1\n",
    "used_allocated_cores = [\n",
    "    []\n",
    "]\n",
    "used_compilers = [\n",
    "    'intel-one-api'\n",
    "]\n",
    "\n",
    "test_case_parameters = [\"\", \"12\", \"16000\"]\n",
    "\n",
    "experiment_name = \"same-one-api-compiler-different-measuring-instruments-post-update-and-watt\"\n",
    "experiment_number = 2\n",
    "\n",
    "used_allocated_cores.sort()\n",
    "used_mi_names.sort()\n",
    "used_compilers.sort()"
   ]
  },
  {
   "cell_type": "code",
   "execution_count": 133,
   "metadata": {},
   "outputs": [
    {
     "data": {
      "text/plain": [
       "(7, 4)"
      ]
     },
     "execution_count": 133,
     "metadata": {},
     "output_type": "execute_result"
    }
   ],
   "source": [
    "used_dut_name_str = \"','\".join(used_dut_name)\n",
    "used_os_name_str = \"','\".join(used_os_names)\n",
    "dut = rep.get_devices_under_test(db)\n",
    "dut.shape"
   ]
  },
  {
   "cell_type": "code",
   "execution_count": 134,
   "metadata": {},
   "outputs": [
    {
     "data": {
      "text/plain": [
       "(1, 4)"
      ]
     },
     "execution_count": 134,
     "metadata": {},
     "output_type": "execute_result"
    }
   ],
   "source": [
    "used_dut = dut.query(f\"{ENV} == '{used_dut_env}' and {NAME} in ('{used_dut_name_str}') and Os in ('{used_os_name_str}')\")\n",
    "used_dut.shape"
   ]
  },
  {
   "cell_type": "code",
   "execution_count": 135,
   "metadata": {},
   "outputs": [
    {
     "data": {
      "text/plain": [
       "(30, 8)"
      ]
     },
     "execution_count": 135,
     "metadata": {},
     "output_type": "execute_result"
    }
   ],
   "source": [
    "tc = rep.get_test_cases(db)\n",
    "tc.shape"
   ]
  },
  {
   "cell_type": "code",
   "execution_count": 136,
   "metadata": {},
   "outputs": [],
   "source": [
    "used_test_case_name_str = \"','\".join(used_test_case_names)\n",
    "used_compiler_str = \"','\".join(used_compilers)\n",
    "used_thread_str = \"','\".join(used_thread)\n",
    "used_test_case_parameters = \"','\".join(test_case_parameters)\n",
    "\n",
    "used_tc = tc.query(f\"{COMPILER} in ('{used_compiler_str}') and {NAME} in ('{used_test_case_name_str}') and {THREADS} in ('{used_thread_str}') and Parameter in ('{used_test_case_parameters}')\")"
   ]
  },
  {
   "cell_type": "code",
   "execution_count": 137,
   "metadata": {},
   "outputs": [],
   "source": [
    "used_idle_case = tc.query(f\"{COMPILER} in ('{used_compiler_str}') and {NAME} == '{used_test_case_name}' and {THREADS} in ('{used_thread_str}')\")"
   ]
  },
  {
   "cell_type": "code",
   "execution_count": 138,
   "metadata": {},
   "outputs": [
    {
     "data": {
      "text/plain": [
       "(15, 3)"
      ]
     },
     "execution_count": 138,
     "metadata": {},
     "output_type": "execute_result"
    }
   ],
   "source": [
    "mi = rep.get_measuring_instruments(db)\n",
    "\n",
    "mi.shape"
   ]
  },
  {
   "cell_type": "code",
   "execution_count": 139,
   "metadata": {},
   "outputs": [],
   "source": [
    "used_mi_query_list =  query.get_mi_query(\n",
    "    used_mi_names,\n",
    "    ipg,\n",
    "    lhm,\n",
    "    rapl,\n",
    "    plug,\n",
    "    clamp,\n",
    "    scaphandre,\n",
    "    ipg_sample_rate,\n",
    "    lhm_sample_rate,\n",
    "    rapl_sample_rate,\n",
    "    plug_sample_rate,\n",
    "    clamp_sample_rate,\n",
    "    scaphandre_sample_rate,\n",
    ")\n",
    "\n",
    "used_mi = mi.query(\" or \".join(used_mi_query_list))"
   ]
  },
  {
   "cell_type": "code",
   "execution_count": 140,
   "metadata": {},
   "outputs": [],
   "source": [
    "used_allocated_cores_str = \",\".join([str(x) for x in used_allocated_cores])\n",
    "used_allocated_cores_str = used_allocated_cores_str.replace(\"'\", '')\n",
    "used_allocated_cores_str = used_allocated_cores_str.replace(\"[\", \"'[\")\n",
    "used_allocated_cores_str = used_allocated_cores_str.replace(\"]\", \"]'\")"
   ]
  },
  {
   "cell_type": "code",
   "execution_count": 141,
   "metadata": {},
   "outputs": [
    {
     "data": {
      "text/plain": [
       "(15, 5)"
      ]
     },
     "execution_count": 141,
     "metadata": {},
     "output_type": "execute_result"
    }
   ],
   "source": [
    "config = rep.get_configurations(db)\n",
    "\n",
    "config.shape"
   ]
  },
  {
   "cell_type": "code",
   "execution_count": 142,
   "metadata": {},
   "outputs": [
    {
     "data": {
      "text/plain": [
       "(15, 5)"
      ]
     },
     "execution_count": 142,
     "metadata": {},
     "output_type": "execute_result"
    }
   ],
   "source": [
    "config.shape"
   ]
  },
  {
   "cell_type": "code",
   "execution_count": 143,
   "metadata": {},
   "outputs": [
    {
     "data": {
      "text/html": [
       "<div>\n",
       "<style scoped>\n",
       "    .dataframe tbody tr th:only-of-type {\n",
       "        vertical-align: middle;\n",
       "    }\n",
       "\n",
       "    .dataframe tbody tr th {\n",
       "        vertical-align: top;\n",
       "    }\n",
       "\n",
       "    .dataframe thead th {\n",
       "        text-align: right;\n",
       "    }\n",
       "</style>\n",
       "<table border=\"1\" class=\"dataframe\">\n",
       "  <thead>\n",
       "    <tr style=\"text-align: right;\">\n",
       "      <th></th>\n",
       "      <th>Id</th>\n",
       "      <th>MinTemp</th>\n",
       "      <th>MaxTemp</th>\n",
       "      <th>Burnin</th>\n",
       "      <th>AllocatedCores</th>\n",
       "    </tr>\n",
       "  </thead>\n",
       "  <tbody>\n",
       "    <tr>\n",
       "      <th>0</th>\n",
       "      <td>1</td>\n",
       "      <td>0</td>\n",
       "      <td>200</td>\n",
       "      <td>1</td>\n",
       "      <td>[]</td>\n",
       "    </tr>\n",
       "  </tbody>\n",
       "</table>\n",
       "</div>"
      ],
      "text/plain": [
       "   Id  MinTemp  MaxTemp  Burnin AllocatedCores\n",
       "0   1        0      200       1             []"
      ]
     },
     "execution_count": 143,
     "metadata": {},
     "output_type": "execute_result"
    }
   ],
   "source": [
    "used_configs = config.query(f\"{MIN_TEMP} == {used_min_temp} and \" +\n",
    "                            f\"{MAX_TEMP} == {used_max_temp} and \" +\n",
    "                            f\"{BURN_IN} == {used_burn_in} and \" +\n",
    "                            f\"{ALLOCATED_CORES} in ({used_allocated_cores_str})\")\n",
    "used_configs"
   ]
  },
  {
   "cell_type": "code",
   "execution_count": 144,
   "metadata": {},
   "outputs": [
    {
     "data": {
      "text/plain": [
       "(7, 2)"
      ]
     },
     "execution_count": 144,
     "metadata": {},
     "output_type": "execute_result"
    }
   ],
   "source": [
    "exp = rep.get_distinct_experiments(db)\n",
    "\n",
    "exp.shape"
   ]
  },
  {
   "cell_type": "code",
   "execution_count": 145,
   "metadata": {},
   "outputs": [
    {
     "name": "stdout",
     "output_type": "stream",
     "text": [
      "0\n",
      "100\n",
      "200\n",
      "300\n",
      "400\n",
      "500\n",
      "600\n",
      "700\n",
      "800\n",
      "900\n",
      "1000\n"
     ]
    }
   ],
   "source": [
    "for i in range(0, 1001, 100):\n",
    "    print(i)"
   ]
  },
  {
   "cell_type": "code",
   "execution_count": 146,
   "metadata": {},
   "outputs": [
    {
     "name": "stdout",
     "output_type": "stream",
     "text": [
      "Y - fannkuch-redux.exe.win32nt.workstationtwo.all.intel-one-api.ipg.100.4\n",
      "Y - fannkuch-redux.exe.win32nt.workstationtwo.all.intel-one-api.ipg.100.4\n",
      "Y - fannkuch-redux.exe.win32nt.workstationtwo.all.intel-one-api.ipg.100.4\n",
      "Y - fannkuch-redux.exe.win32nt.workstationtwo.all.intel-one-api.ipg.100.4\n",
      "Y - fannkuch-redux.exe.win32nt.workstationtwo.all.intel-one-api.ipg.100.4\n",
      "Y - fannkuch-redux.exe.win32nt.workstationtwo.all.intel-one-api.ipg.100.4\n",
      "Y - fannkuch-redux.exe.win32nt.workstationtwo.all.intel-one-api.ipg.100.4\n"
     ]
    }
   ],
   "source": [
    "data_to_plot = {}\n",
    "\n",
    "for i in range(100, 701, 100):\n",
    "    cpu_energy_results = {}\n",
    "    dram_energy_results = {}\n",
    "    gpu_energy_results = {}\n",
    "    duration_results = {}\n",
    "\n",
    "    idle_cpu_consumption_results = {}\n",
    "\n",
    "    cpu_dynamic_energy_watt_consumption = {}\n",
    "\n",
    "    cpu_dynamic_energy_consumption = {}\n",
    "    gpu_dynamic_energy_consumption = {}\n",
    "    dram_dynamic_energy_consumption = {}\n",
    "\n",
    "    temperature_begin = {}\n",
    "    temperature_end = {}\n",
    "\n",
    "    m_util.get_measurements(\n",
    "        windows,\n",
    "        windows_mi,\n",
    "        linux,\n",
    "        linux_mi,\n",
    "        used_configs,\n",
    "        used_dut,\n",
    "        used_mi,\n",
    "        used_tc,\n",
    "        used_idle_case,\n",
    "        db,\n",
    "        experiment_name,\n",
    "        experiment_number,\n",
    "        # energy_per_time,\n",
    "        scaphandre,\n",
    "        cpu_energy_results,\n",
    "        dram_energy_results,\n",
    "        gpu_energy_results,\n",
    "        duration_results,\n",
    "        temperature_begin,\n",
    "        temperature_end,\n",
    "        cpu_dynamic_energy_consumption,\n",
    "        gpu_dynamic_energy_consumption,\n",
    "        dram_dynamic_energy_consumption,\n",
    "        idle_cpu_consumption_results,\n",
    "        used_test_case_name,\n",
    "        cpu_dynamic_energy_watt_consumption\n",
    "    )\n",
    "    \n",
    "    for key, value in cpu_dynamic_energy_consumption.items():\n",
    "        cpu_dynamic_energy_consumption[key] = value[:i]\n",
    "    \n",
    "    for k in cpu_dynamic_energy_consumption.keys():\n",
    "        data_to_plot[k + \".\" +str(i)] = cpu_dynamic_energy_consumption[k]"
   ]
  },
  {
   "cell_type": "code",
   "execution_count": 147,
   "metadata": {},
   "outputs": [],
   "source": [
    "def convert_to_series(df):\n",
    "    for key in df.keys():\n",
    "        df[key] = pd.Series(df[key])\n",
    "    return df"
   ]
  },
  {
   "cell_type": "code",
   "execution_count": 148,
   "metadata": {},
   "outputs": [],
   "source": [
    "data_to_plot = convert_to_series(data_to_plot)\n",
    "data_df = pd.DataFrame(data_to_plot)\n",
    "data_df = data_df.reindex(columns=sorted(data_df.columns))"
   ]
  },
  {
   "cell_type": "code",
   "execution_count": 149,
   "metadata": {},
   "outputs": [
    {
     "name": "stdout",
     "output_type": "stream",
     "text": [
      "Duration of Test Case\n"
     ]
    },
    {
     "data": {
      "image/png": "[encoded data removed]",
      "text/plain": [
       "<Figure size 1500x500 with 1 Axes>"
      ]
     },
     "metadata": {},
     "output_type": "display_data"
    }
   ],
   "source": [
    "print(\"Duration of Test Case\")\n",
    "boxplot = data_df.boxplot(figsize=(15,5), rot=85)\n",
    "boxplot.plot()\n",
    "# plot.ylim(0,40)\n",
    "plot.show()"
   ]
  }
 ],
 "metadata": {
  "kernelspec": {
   "display_name": "env",
   "language": "python",
   "name": "python3"
  },
  "language_info": {
   "codemirror_mode": {
    "name": "ipython",
    "version": 3
   },
   "file_extension": ".py",
   "mimetype": "text/x-python",
   "name": "python",
   "nbconvert_exporter": "python",
   "pygments_lexer": "ipython3",
   "version": "3.10.7"
  },
  "orig_nbformat": 4
 },
 "nbformat": 4,
 "nbformat_minor": 2
}
