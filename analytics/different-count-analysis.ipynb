{
 "cells": [
  {
   "cell_type": "code",
   "execution_count": 302,
   "metadata": {},
   "outputs": [],
   "source": [
    "from utils.database_connection import DatabaseConnection\n",
    "import utils.results_repository as rep\n",
    "import pandas as pd\n",
    "import numpy as np\n",
    "from utils.column_name_utils import *\n",
    "import utils.query_utils as query\n",
    "import matplotlib.pyplot as plot\n",
    "import utils.dataframe_utils as df_util\n",
    "import utils.path_utils as path_util\n",
    "import utils.math_utils as math_util\n",
    "import math\n",
    "import utils.latex_utils as tex\n",
    "from scipy import stats\n",
    "import utils.time_series_utils as ts_util\n",
    "import json\n",
    "import utils.measurement_utils as m_util"
   ]
  },
  {
   "cell_type": "code",
   "execution_count": 303,
   "metadata": {},
   "outputs": [
    {
     "name": "stdout",
     "output_type": "stream",
     "text": [
      "Connected to MySQL Server version  8.0.32-24\n"
     ]
    }
   ],
   "source": [
    "db = DatabaseConnection()"
   ]
  },
  {
   "cell_type": "code",
   "execution_count": 304,
   "metadata": {},
   "outputs": [],
   "source": [
    "used_dut_name = [\n",
    "    'workstationtwo',\n",
    "    # 'workstationone',\n",
    "]\n",
    "\n",
    "used_dut_name.sort()\n",
    "\n",
    "used_dut_env = 'prod'\n",
    "\n",
    "windows = \"win32nt\"\n",
    "linux = \"unix\"\n",
    "\n",
    "used_os_names = [\n",
    "    windows, \n",
    "    # linux\n",
    "]\n",
    "\n",
    "used_test_case_names = [\n",
    "    # 'fannkuch-redux.exe',\n",
    "    'mandelbrot.exe',\n",
    "    # 'idle-case.exe'\n",
    "]\n",
    "\n",
    "used_test_case_names.sort()\n",
    "\n",
    "used_thread = [\n",
    "    'multi-threaded'\n",
    "]\n",
    "\n",
    "used_thread.sort()\n",
    "\n",
    "used_test_case_name = 'idle-case.exe'\n",
    "\n",
    "ipg = \"ipg\"\n",
    "lhm = \"lhm\"\n",
    "rapl = \"rapl\"\n",
    "clamp = \"clamp\"\n",
    "plug = \"plug\"\n",
    "scaphandre = \"scaphandre\"\n",
    "\n",
    "windows_mi = [\n",
    "    ipg, lhm, clamp, plug, scaphandre\n",
    "]\n",
    "\n",
    "linux_mi = [\n",
    "    rapl, clamp, plug\n",
    "]\n",
    "\n",
    "used_mi_names = [\n",
    "    clamp ##ipg, lhm, ipg, clamp, plug #, scaphandre, # plug, rapl\n",
    "]\n",
    "\n",
    "ipg_sample_rate = 100\n",
    "lhm_sample_rate = 100\n",
    "rapl_sample_rate = 100\n",
    "clamp_sample_rate = 100\n",
    "plug_sample_rate = 200\n",
    "scaphandre_sample_rate = 100\n",
    "\n",
    "used_min_temp = 0\n",
    "used_max_temp = 200\n",
    "used_burn_in = 1\n",
    "used_allocated_cores = [\n",
    "    []\n",
    "]\n",
    "used_compilers = [\n",
    "    'intel-one-api'\n",
    "]\n",
    "\n",
    "test_case_parameters = [\"\", \"12\", \"16000\", \"64000\"]\n",
    "\n",
    "experiment_name = \"same-one-api-compiler-different-measuring-instruments-post-update-and-watt\"\n",
    "experiment_number = 2\n",
    "\n",
    "used_allocated_cores.sort()\n",
    "used_mi_names.sort()\n",
    "used_compilers.sort()"
   ]
  },
  {
   "cell_type": "code",
   "execution_count": 305,
   "metadata": {},
   "outputs": [
    {
     "data": {
      "text/plain": [
       "(7, 4)"
      ]
     },
     "execution_count": 305,
     "metadata": {},
     "output_type": "execute_result"
    }
   ],
   "source": [
    "used_dut_name_str = \"','\".join(used_dut_name)\n",
    "used_os_name_str = \"','\".join(used_os_names)\n",
    "dut = rep.get_devices_under_test(db)\n",
    "dut.shape"
   ]
  },
  {
   "cell_type": "code",
   "execution_count": 306,
   "metadata": {},
   "outputs": [
    {
     "data": {
      "text/plain": [
       "(1, 4)"
      ]
     },
     "execution_count": 306,
     "metadata": {},
     "output_type": "execute_result"
    }
   ],
   "source": [
    "used_dut = dut.query(f\"{ENV} == '{used_dut_env}' and {NAME} in ('{used_dut_name_str}') and Os in ('{used_os_name_str}')\")\n",
    "used_dut.shape"
   ]
  },
  {
   "cell_type": "code",
   "execution_count": 307,
   "metadata": {},
   "outputs": [
    {
     "data": {
      "text/plain": [
       "(30, 8)"
      ]
     },
     "execution_count": 307,
     "metadata": {},
     "output_type": "execute_result"
    }
   ],
   "source": [
    "tc = rep.get_test_cases(db)\n",
    "tc.shape"
   ]
  },
  {
   "cell_type": "code",
   "execution_count": 308,
   "metadata": {},
   "outputs": [],
   "source": [
    "used_test_case_name_str = \"','\".join(used_test_case_names)\n",
    "used_compiler_str = \"','\".join(used_compilers)\n",
    "used_thread_str = \"','\".join(used_thread)\n",
    "used_test_case_parameters = \"','\".join(test_case_parameters)\n",
    "\n",
    "used_tc = tc.query(f\"{COMPILER} in ('{used_compiler_str}') and {NAME} in ('{used_test_case_name_str}') and {THREADS} in ('{used_thread_str}') and Parameter in ('{used_test_case_parameters}')\")"
   ]
  },
  {
   "cell_type": "code",
   "execution_count": 309,
   "metadata": {},
   "outputs": [],
   "source": [
    "used_idle_case = tc.query(f\"{COMPILER} in ('{used_compiler_str}') and {NAME} == '{used_test_case_name}' and {THREADS} in ('{used_thread_str}')\")"
   ]
  },
  {
   "cell_type": "code",
   "execution_count": 310,
   "metadata": {},
   "outputs": [
    {
     "data": {
      "text/plain": [
       "(15, 3)"
      ]
     },
     "execution_count": 310,
     "metadata": {},
     "output_type": "execute_result"
    }
   ],
   "source": [
    "mi = rep.get_measuring_instruments(db)\n",
    "\n",
    "mi.shape"
   ]
  },
  {
   "cell_type": "code",
   "execution_count": 311,
   "metadata": {},
   "outputs": [],
   "source": [
    "used_mi_query_list =  query.get_mi_query(\n",
    "    used_mi_names,\n",
    "    ipg,\n",
    "    lhm,\n",
    "    rapl,\n",
    "    plug,\n",
    "    clamp,\n",
    "    scaphandre,\n",
    "    ipg_sample_rate,\n",
    "    lhm_sample_rate,\n",
    "    rapl_sample_rate,\n",
    "    plug_sample_rate,\n",
    "    clamp_sample_rate,\n",
    "    scaphandre_sample_rate,\n",
    ")\n",
    "\n",
    "used_mi = mi.query(\" or \".join(used_mi_query_list))"
   ]
  },
  {
   "cell_type": "code",
   "execution_count": 312,
   "metadata": {},
   "outputs": [],
   "source": [
    "used_allocated_cores_str = \",\".join([str(x) for x in used_allocated_cores])\n",
    "used_allocated_cores_str = used_allocated_cores_str.replace(\"'\", '')\n",
    "used_allocated_cores_str = used_allocated_cores_str.replace(\"[\", \"'[\")\n",
    "used_allocated_cores_str = used_allocated_cores_str.replace(\"]\", \"]'\")"
   ]
  },
  {
   "cell_type": "code",
   "execution_count": 313,
   "metadata": {},
   "outputs": [
    {
     "data": {
      "text/plain": [
       "(15, 5)"
      ]
     },
     "execution_count": 313,
     "metadata": {},
     "output_type": "execute_result"
    }
   ],
   "source": [
    "config = rep.get_configurations(db)\n",
    "\n",
    "config.shape"
   ]
  },
  {
   "cell_type": "code",
   "execution_count": 314,
   "metadata": {},
   "outputs": [
    {
     "data": {
      "text/plain": [
       "(15, 5)"
      ]
     },
     "execution_count": 314,
     "metadata": {},
     "output_type": "execute_result"
    }
   ],
   "source": [
    "config.shape"
   ]
  },
  {
   "cell_type": "code",
   "execution_count": 315,
   "metadata": {},
   "outputs": [
    {
     "data": {
      "text/html": [
       "<div>\n",
       "<style scoped>\n",
       "    .dataframe tbody tr th:only-of-type {\n",
       "        vertical-align: middle;\n",
       "    }\n",
       "\n",
       "    .dataframe tbody tr th {\n",
       "        vertical-align: top;\n",
       "    }\n",
       "\n",
       "    .dataframe thead th {\n",
       "        text-align: right;\n",
       "    }\n",
       "</style>\n",
       "<table border=\"1\" class=\"dataframe\">\n",
       "  <thead>\n",
       "    <tr style=\"text-align: right;\">\n",
       "      <th></th>\n",
       "      <th>Id</th>\n",
       "      <th>MinTemp</th>\n",
       "      <th>MaxTemp</th>\n",
       "      <th>Burnin</th>\n",
       "      <th>AllocatedCores</th>\n",
       "    </tr>\n",
       "  </thead>\n",
       "  <tbody>\n",
       "    <tr>\n",
       "      <th>0</th>\n",
       "      <td>1</td>\n",
       "      <td>0</td>\n",
       "      <td>200</td>\n",
       "      <td>1</td>\n",
       "      <td>[]</td>\n",
       "    </tr>\n",
       "  </tbody>\n",
       "</table>\n",
       "</div>"
      ],
      "text/plain": [
       "   Id  MinTemp  MaxTemp  Burnin AllocatedCores\n",
       "0   1        0      200       1             []"
      ]
     },
     "execution_count": 315,
     "metadata": {},
     "output_type": "execute_result"
    }
   ],
   "source": [
    "used_configs = config.query(f\"{MIN_TEMP} == {used_min_temp} and \" +\n",
    "                            f\"{MAX_TEMP} == {used_max_temp} and \" +\n",
    "                            f\"{BURN_IN} == {used_burn_in} and \" +\n",
    "                            f\"{ALLOCATED_CORES} in ({used_allocated_cores_str})\")\n",
    "used_configs"
   ]
  },
  {
   "cell_type": "code",
   "execution_count": 316,
   "metadata": {},
   "outputs": [
    {
     "data": {
      "text/plain": [
       "(7, 2)"
      ]
     },
     "execution_count": 316,
     "metadata": {},
     "output_type": "execute_result"
    }
   ],
   "source": [
    "exp = rep.get_distinct_experiments(db)\n",
    "\n",
    "exp.shape"
   ]
  },
  {
   "cell_type": "code",
   "execution_count": 317,
   "metadata": {},
   "outputs": [
    {
     "name": "stdout",
     "output_type": "stream",
     "text": [
      "0\n",
      "100\n",
      "200\n",
      "300\n",
      "400\n",
      "500\n",
      "600\n",
      "700\n",
      "800\n",
      "900\n",
      "1000\n"
     ]
    }
   ],
   "source": [
    "for i in range(0, 1001, 100):\n",
    "    print(i)"
   ]
  },
  {
   "cell_type": "code",
   "execution_count": 318,
   "metadata": {},
   "outputs": [
    {
     "name": "stdout",
     "output_type": "stream",
     "text": [
      "100\n",
      "N - mandelbrot.exe.win32nt.workstationtwo.all.intel-one-api.clamp.100.5\n",
      "Y - mandelbrot.exe.win32nt.workstationtwo.all.intel-one-api.clamp.100.22\n",
      "200\n",
      "N - mandelbrot.exe.win32nt.workstationtwo.all.intel-one-api.clamp.100.5\n",
      "Y - mandelbrot.exe.win32nt.workstationtwo.all.intel-one-api.clamp.100.22\n",
      "300\n",
      "N - mandelbrot.exe.win32nt.workstationtwo.all.intel-one-api.clamp.100.5\n",
      "Y - mandelbrot.exe.win32nt.workstationtwo.all.intel-one-api.clamp.100.22\n",
      "400\n",
      "N - mandelbrot.exe.win32nt.workstationtwo.all.intel-one-api.clamp.100.5\n",
      "Y - mandelbrot.exe.win32nt.workstationtwo.all.intel-one-api.clamp.100.22\n",
      "500\n",
      "N - mandelbrot.exe.win32nt.workstationtwo.all.intel-one-api.clamp.100.5\n",
      "Y - mandelbrot.exe.win32nt.workstationtwo.all.intel-one-api.clamp.100.22\n",
      "600\n",
      "N - mandelbrot.exe.win32nt.workstationtwo.all.intel-one-api.clamp.100.5\n",
      "Y - mandelbrot.exe.win32nt.workstationtwo.all.intel-one-api.clamp.100.22\n",
      "700\n",
      "N - mandelbrot.exe.win32nt.workstationtwo.all.intel-one-api.clamp.100.5\n",
      "Y - mandelbrot.exe.win32nt.workstationtwo.all.intel-one-api.clamp.100.22\n",
      "800\n",
      "N - mandelbrot.exe.win32nt.workstationtwo.all.intel-one-api.clamp.100.5\n",
      "Y - mandelbrot.exe.win32nt.workstationtwo.all.intel-one-api.clamp.100.22\n",
      "900\n",
      "N - mandelbrot.exe.win32nt.workstationtwo.all.intel-one-api.clamp.100.5\n",
      "Y - mandelbrot.exe.win32nt.workstationtwo.all.intel-one-api.clamp.100.22\n",
      "1000\n",
      "N - mandelbrot.exe.win32nt.workstationtwo.all.intel-one-api.clamp.100.5\n",
      "Y - mandelbrot.exe.win32nt.workstationtwo.all.intel-one-api.clamp.100.22\n"
     ]
    }
   ],
   "source": [
    "data_to_plot = {}\n",
    "\n",
    "for i in range(100, 1001, 100):\n",
    "    print(i)\n",
    "    cpu_energy_results = {}\n",
    "    dram_energy_results = {}\n",
    "    gpu_energy_results = {}\n",
    "    duration_results = {}\n",
    "\n",
    "    idle_cpu_consumption_results = {}\n",
    "\n",
    "    cpu_dynamic_energy_watt_consumption = {}\n",
    "\n",
    "    cpu_dynamic_energy_consumption = {}\n",
    "    gpu_dynamic_energy_consumption = {}\n",
    "    dram_dynamic_energy_consumption = {}\n",
    "\n",
    "    temperature_begin = {}\n",
    "    temperature_end = {}\n",
    "\n",
    "    m_util.get_measurements(\n",
    "        windows,\n",
    "        windows_mi,\n",
    "        linux,\n",
    "        linux_mi,\n",
    "        used_configs,\n",
    "        used_dut,\n",
    "        used_mi,\n",
    "        used_tc,\n",
    "        used_idle_case,\n",
    "        db,\n",
    "        experiment_name,\n",
    "        experiment_number,\n",
    "        # energy_per_time,\n",
    "        scaphandre,\n",
    "        cpu_energy_results,\n",
    "        dram_energy_results,\n",
    "        gpu_energy_results,\n",
    "        duration_results,\n",
    "        temperature_begin,\n",
    "        temperature_end,\n",
    "        cpu_dynamic_energy_consumption,\n",
    "        gpu_dynamic_energy_consumption,\n",
    "        dram_dynamic_energy_consumption,\n",
    "        idle_cpu_consumption_results,\n",
    "        used_test_case_name,\n",
    "        cpu_dynamic_energy_watt_consumption\n",
    "    )\n",
    "    \n",
    "    for key, value in cpu_dynamic_energy_consumption.items():\n",
    "        cpu_dynamic_energy_consumption[key] = value[:i]\n",
    "    \n",
    "    for k in cpu_dynamic_energy_consumption.keys():\n",
    "        data_to_plot[k + \".\" +str(i).rjust(5, '0')] = cpu_dynamic_energy_consumption[k]"
   ]
  },
  {
   "cell_type": "code",
   "execution_count": 319,
   "metadata": {},
   "outputs": [],
   "source": [
    "def convert_to_series(df):\n",
    "    for key in df.keys():\n",
    "        df[key] = pd.Series(df[key])\n",
    "    return df"
   ]
  },
  {
   "cell_type": "code",
   "execution_count": 320,
   "metadata": {},
   "outputs": [],
   "source": [
    "data_to_plot = convert_to_series(data_to_plot)\n",
    "data_df = pd.DataFrame(data_to_plot)\n",
    "data_df = data_df.reindex(columns=sorted(data_df.columns))"
   ]
  },
  {
   "cell_type": "code",
   "execution_count": 326,
   "metadata": {},
   "outputs": [
    {
     "name": "stdout",
     "output_type": "stream",
     "text": [
      "Duration of Test Case\n"
     ]
    },
    {
     "data": {
      "image/png": "[encoded data removed]",
      "text/plain": [
       "<Figure size 1500x500 with 1 Axes>"
      ]
     },
     "metadata": {},
     "output_type": "display_data"
    }
   ],
   "source": [
    "print(\"Duration of Test Case\")\n",
    "boxplot = data_df.boxplot(figsize=(15,5), rot=85)\n",
    "boxplot.plot()\n",
    "# plot.ylim(0,1300)\n",
    "plot.show()"
   ]
  },
  {
   "cell_type": "code",
   "execution_count": 322,
   "metadata": {},
   "outputs": [
    {
     "data": {
      "text/html": [
       "<div>\n",
       "<style scoped>\n",
       "    .dataframe tbody tr th:only-of-type {\n",
       "        vertical-align: middle;\n",
       "    }\n",
       "\n",
       "    .dataframe tbody tr th {\n",
       "        vertical-align: top;\n",
       "    }\n",
       "\n",
       "    .dataframe thead th {\n",
       "        text-align: right;\n",
       "    }\n",
       "</style>\n",
       "<table border=\"1\" class=\"dataframe\">\n",
       "  <thead>\n",
       "    <tr style=\"text-align: right;\">\n",
       "      <th></th>\n",
       "      <th>mandelbrot.exe.win32nt.workstationtwo.all.intel-one-api.clamp.00100</th>\n",
       "      <th>mandelbrot.exe.win32nt.workstationtwo.all.intel-one-api.clamp.00200</th>\n",
       "      <th>mandelbrot.exe.win32nt.workstationtwo.all.intel-one-api.clamp.00300</th>\n",
       "      <th>mandelbrot.exe.win32nt.workstationtwo.all.intel-one-api.clamp.00400</th>\n",
       "      <th>mandelbrot.exe.win32nt.workstationtwo.all.intel-one-api.clamp.00500</th>\n",
       "      <th>mandelbrot.exe.win32nt.workstationtwo.all.intel-one-api.clamp.00600</th>\n",
       "      <th>mandelbrot.exe.win32nt.workstationtwo.all.intel-one-api.clamp.00700</th>\n",
       "      <th>mandelbrot.exe.win32nt.workstationtwo.all.intel-one-api.clamp.00800</th>\n",
       "      <th>mandelbrot.exe.win32nt.workstationtwo.all.intel-one-api.clamp.00900</th>\n",
       "      <th>mandelbrot.exe.win32nt.workstationtwo.all.intel-one-api.clamp.01000</th>\n",
       "    </tr>\n",
       "  </thead>\n",
       "  <tbody>\n",
       "    <tr>\n",
       "      <th>0</th>\n",
       "      <td>768.902404</td>\n",
       "      <td>768.902404</td>\n",
       "      <td>768.902404</td>\n",
       "      <td>768.902404</td>\n",
       "      <td>768.902404</td>\n",
       "      <td>768.902404</td>\n",
       "      <td>768.902404</td>\n",
       "      <td>768.902404</td>\n",
       "      <td>768.902404</td>\n",
       "      <td>768.902404</td>\n",
       "    </tr>\n",
       "    <tr>\n",
       "      <th>1</th>\n",
       "      <td>764.666816</td>\n",
       "      <td>764.666816</td>\n",
       "      <td>764.666816</td>\n",
       "      <td>764.666816</td>\n",
       "      <td>764.666816</td>\n",
       "      <td>764.666816</td>\n",
       "      <td>764.666816</td>\n",
       "      <td>764.666816</td>\n",
       "      <td>764.666816</td>\n",
       "      <td>764.666816</td>\n",
       "    </tr>\n",
       "    <tr>\n",
       "      <th>2</th>\n",
       "      <td>731.823786</td>\n",
       "      <td>731.823786</td>\n",
       "      <td>731.823786</td>\n",
       "      <td>731.823786</td>\n",
       "      <td>731.823786</td>\n",
       "      <td>731.823786</td>\n",
       "      <td>731.823786</td>\n",
       "      <td>731.823786</td>\n",
       "      <td>731.823786</td>\n",
       "      <td>731.823786</td>\n",
       "    </tr>\n",
       "    <tr>\n",
       "      <th>3</th>\n",
       "      <td>748.364808</td>\n",
       "      <td>748.364808</td>\n",
       "      <td>748.364808</td>\n",
       "      <td>748.364808</td>\n",
       "      <td>748.364808</td>\n",
       "      <td>748.364808</td>\n",
       "      <td>748.364808</td>\n",
       "      <td>748.364808</td>\n",
       "      <td>748.364808</td>\n",
       "      <td>748.364808</td>\n",
       "    </tr>\n",
       "    <tr>\n",
       "      <th>4</th>\n",
       "      <td>745.860801</td>\n",
       "      <td>745.860801</td>\n",
       "      <td>745.860801</td>\n",
       "      <td>745.860801</td>\n",
       "      <td>745.860801</td>\n",
       "      <td>745.860801</td>\n",
       "      <td>745.860801</td>\n",
       "      <td>745.860801</td>\n",
       "      <td>745.860801</td>\n",
       "      <td>745.860801</td>\n",
       "    </tr>\n",
       "    <tr>\n",
       "      <th>...</th>\n",
       "      <td>...</td>\n",
       "      <td>...</td>\n",
       "      <td>...</td>\n",
       "      <td>...</td>\n",
       "      <td>...</td>\n",
       "      <td>...</td>\n",
       "      <td>...</td>\n",
       "      <td>...</td>\n",
       "      <td>...</td>\n",
       "      <td>...</td>\n",
       "    </tr>\n",
       "    <tr>\n",
       "      <th>995</th>\n",
       "      <td>NaN</td>\n",
       "      <td>NaN</td>\n",
       "      <td>NaN</td>\n",
       "      <td>NaN</td>\n",
       "      <td>NaN</td>\n",
       "      <td>NaN</td>\n",
       "      <td>NaN</td>\n",
       "      <td>NaN</td>\n",
       "      <td>NaN</td>\n",
       "      <td>741.353338</td>\n",
       "    </tr>\n",
       "    <tr>\n",
       "      <th>996</th>\n",
       "      <td>NaN</td>\n",
       "      <td>NaN</td>\n",
       "      <td>NaN</td>\n",
       "      <td>NaN</td>\n",
       "      <td>NaN</td>\n",
       "      <td>NaN</td>\n",
       "      <td>NaN</td>\n",
       "      <td>NaN</td>\n",
       "      <td>NaN</td>\n",
       "      <td>603.755788</td>\n",
       "    </tr>\n",
       "    <tr>\n",
       "      <th>997</th>\n",
       "      <td>NaN</td>\n",
       "      <td>NaN</td>\n",
       "      <td>NaN</td>\n",
       "      <td>NaN</td>\n",
       "      <td>NaN</td>\n",
       "      <td>NaN</td>\n",
       "      <td>NaN</td>\n",
       "      <td>NaN</td>\n",
       "      <td>NaN</td>\n",
       "      <td>768.661757</td>\n",
       "    </tr>\n",
       "    <tr>\n",
       "      <th>998</th>\n",
       "      <td>NaN</td>\n",
       "      <td>NaN</td>\n",
       "      <td>NaN</td>\n",
       "      <td>NaN</td>\n",
       "      <td>NaN</td>\n",
       "      <td>NaN</td>\n",
       "      <td>NaN</td>\n",
       "      <td>NaN</td>\n",
       "      <td>NaN</td>\n",
       "      <td>616.989145</td>\n",
       "    </tr>\n",
       "    <tr>\n",
       "      <th>999</th>\n",
       "      <td>NaN</td>\n",
       "      <td>NaN</td>\n",
       "      <td>NaN</td>\n",
       "      <td>NaN</td>\n",
       "      <td>NaN</td>\n",
       "      <td>NaN</td>\n",
       "      <td>NaN</td>\n",
       "      <td>NaN</td>\n",
       "      <td>NaN</td>\n",
       "      <td>751.881440</td>\n",
       "    </tr>\n",
       "  </tbody>\n",
       "</table>\n",
       "<p>1000 rows × 10 columns</p>\n",
       "</div>"
      ],
      "text/plain": [
       "     mandelbrot.exe.win32nt.workstationtwo.all.intel-one-api.clamp.00100  \\\n",
       "0                                           768.902404                     \n",
       "1                                           764.666816                     \n",
       "2                                           731.823786                     \n",
       "3                                           748.364808                     \n",
       "4                                           745.860801                     \n",
       "..                                                 ...                     \n",
       "995                                                NaN                     \n",
       "996                                                NaN                     \n",
       "997                                                NaN                     \n",
       "998                                                NaN                     \n",
       "999                                                NaN                     \n",
       "\n",
       "     mandelbrot.exe.win32nt.workstationtwo.all.intel-one-api.clamp.00200  \\\n",
       "0                                           768.902404                     \n",
       "1                                           764.666816                     \n",
       "2                                           731.823786                     \n",
       "3                                           748.364808                     \n",
       "4                                           745.860801                     \n",
       "..                                                 ...                     \n",
       "995                                                NaN                     \n",
       "996                                                NaN                     \n",
       "997                                                NaN                     \n",
       "998                                                NaN                     \n",
       "999                                                NaN                     \n",
       "\n",
       "     mandelbrot.exe.win32nt.workstationtwo.all.intel-one-api.clamp.00300  \\\n",
       "0                                           768.902404                     \n",
       "1                                           764.666816                     \n",
       "2                                           731.823786                     \n",
       "3                                           748.364808                     \n",
       "4                                           745.860801                     \n",
       "..                                                 ...                     \n",
       "995                                                NaN                     \n",
       "996                                                NaN                     \n",
       "997                                                NaN                     \n",
       "998                                                NaN                     \n",
       "999                                                NaN                     \n",
       "\n",
       "     mandelbrot.exe.win32nt.workstationtwo.all.intel-one-api.clamp.00400  \\\n",
       "0                                           768.902404                     \n",
       "1                                           764.666816                     \n",
       "2                                           731.823786                     \n",
       "3                                           748.364808                     \n",
       "4                                           745.860801                     \n",
       "..                                                 ...                     \n",
       "995                                                NaN                     \n",
       "996                                                NaN                     \n",
       "997                                                NaN                     \n",
       "998                                                NaN                     \n",
       "999                                                NaN                     \n",
       "\n",
       "     mandelbrot.exe.win32nt.workstationtwo.all.intel-one-api.clamp.00500  \\\n",
       "0                                           768.902404                     \n",
       "1                                           764.666816                     \n",
       "2                                           731.823786                     \n",
       "3                                           748.364808                     \n",
       "4                                           745.860801                     \n",
       "..                                                 ...                     \n",
       "995                                                NaN                     \n",
       "996                                                NaN                     \n",
       "997                                                NaN                     \n",
       "998                                                NaN                     \n",
       "999                                                NaN                     \n",
       "\n",
       "     mandelbrot.exe.win32nt.workstationtwo.all.intel-one-api.clamp.00600  \\\n",
       "0                                           768.902404                     \n",
       "1                                           764.666816                     \n",
       "2                                           731.823786                     \n",
       "3                                           748.364808                     \n",
       "4                                           745.860801                     \n",
       "..                                                 ...                     \n",
       "995                                                NaN                     \n",
       "996                                                NaN                     \n",
       "997                                                NaN                     \n",
       "998                                                NaN                     \n",
       "999                                                NaN                     \n",
       "\n",
       "     mandelbrot.exe.win32nt.workstationtwo.all.intel-one-api.clamp.00700  \\\n",
       "0                                           768.902404                     \n",
       "1                                           764.666816                     \n",
       "2                                           731.823786                     \n",
       "3                                           748.364808                     \n",
       "4                                           745.860801                     \n",
       "..                                                 ...                     \n",
       "995                                                NaN                     \n",
       "996                                                NaN                     \n",
       "997                                                NaN                     \n",
       "998                                                NaN                     \n",
       "999                                                NaN                     \n",
       "\n",
       "     mandelbrot.exe.win32nt.workstationtwo.all.intel-one-api.clamp.00800  \\\n",
       "0                                           768.902404                     \n",
       "1                                           764.666816                     \n",
       "2                                           731.823786                     \n",
       "3                                           748.364808                     \n",
       "4                                           745.860801                     \n",
       "..                                                 ...                     \n",
       "995                                                NaN                     \n",
       "996                                                NaN                     \n",
       "997                                                NaN                     \n",
       "998                                                NaN                     \n",
       "999                                                NaN                     \n",
       "\n",
       "     mandelbrot.exe.win32nt.workstationtwo.all.intel-one-api.clamp.00900  \\\n",
       "0                                           768.902404                     \n",
       "1                                           764.666816                     \n",
       "2                                           731.823786                     \n",
       "3                                           748.364808                     \n",
       "4                                           745.860801                     \n",
       "..                                                 ...                     \n",
       "995                                                NaN                     \n",
       "996                                                NaN                     \n",
       "997                                                NaN                     \n",
       "998                                                NaN                     \n",
       "999                                                NaN                     \n",
       "\n",
       "     mandelbrot.exe.win32nt.workstationtwo.all.intel-one-api.clamp.01000  \n",
       "0                                           768.902404                    \n",
       "1                                           764.666816                    \n",
       "2                                           731.823786                    \n",
       "3                                           748.364808                    \n",
       "4                                           745.860801                    \n",
       "..                                                 ...                    \n",
       "995                                         741.353338                    \n",
       "996                                         603.755788                    \n",
       "997                                         768.661757                    \n",
       "998                                         616.989145                    \n",
       "999                                         751.881440                    \n",
       "\n",
       "[1000 rows x 10 columns]"
      ]
     },
     "execution_count": 322,
     "metadata": {},
     "output_type": "execute_result"
    }
   ],
   "source": [
    "data_df"
   ]
  },
  {
   "cell_type": "code",
   "execution_count": 323,
   "metadata": {},
   "outputs": [],
   "source": [
    "\n",
    "_, box_plot_data = data_df.boxplot(return_type=\"both\")\n",
    "medians = [median.get_ydata() for median in box_plot_data[\"medians\"]]"
   ]
  },
  {
   "cell_type": "code",
   "execution_count": 324,
   "metadata": {},
   "outputs": [
    {
     "data": {
      "text/plain": [
       "[array([725.69093226, 725.69093226]),\n",
       " array([722.85832471, 722.85832471]),\n",
       " array([720.94837105, 720.94837105]),\n",
       " array([721.31561951, 721.31561951]),\n",
       " array([721.0005528, 721.0005528]),\n",
       " array([721.0005528, 721.0005528]),\n",
       " array([720.85131745, 720.85131745]),\n",
       " array([713.32472107, 713.32472107]),\n",
       " array([708.70596667, 708.70596667]),\n",
       " array([701.50533364, 701.50533364])]"
      ]
     },
     "execution_count": 324,
     "metadata": {},
     "output_type": "execute_result"
    }
   ],
   "source": [
    "medians"
   ]
  },
  {
   "cell_type": "code",
   "execution_count": 333,
   "metadata": {},
   "outputs": [],
   "source": [
    "first_median = medians[0][0]\n",
    "second_last_median = medians[-2][0]\n",
    "last_median = medians[-1][0]"
   ]
  },
  {
   "cell_type": "code",
   "execution_count": 334,
   "metadata": {},
   "outputs": [
    {
     "data": {
      "text/plain": [
       "(725.6909322637096, 701.5053336410954, 708.7059666664006)"
      ]
     },
     "execution_count": 334,
     "metadata": {},
     "output_type": "execute_result"
    }
   ],
   "source": [
    "first_median, last_median, second_last_median"
   ]
  },
  {
   "cell_type": "code",
   "execution_count": 337,
   "metadata": {},
   "outputs": [
    {
     "data": {
      "text/plain": [
       "96.66723152414623"
      ]
     },
     "execution_count": 337,
     "metadata": {},
     "output_type": "execute_result"
    }
   ],
   "source": [
    "(last_median / first_median) * 100"
   ]
  },
  {
   "cell_type": "code",
   "execution_count": 327,
   "metadata": {},
   "outputs": [],
   "source": [
    "box_plot_raw_data = [\n",
    "    {\n",
    "        \"data\" : data_df,\n",
    "        \"name\" : \"CPU\",\n",
    "        \"data_type\" : \"energy consumption\",\n",
    "        \"width\" : 0.9,\n",
    "        \"xmin\" : 0,\n",
    "        \"xmax\" : 900,\n",
    "        \"xlabel\" : \"Total Energy Consumption (Joules)\"\n",
    "    }\n",
    "]"
   ]
  },
  {
   "cell_type": "code",
   "execution_count": 329,
   "metadata": {},
   "outputs": [
    {
     "name": "stdout",
     "output_type": "stream",
     "text": [
      "start\n",
      "generating evolution.tex\n"
     ]
    }
   ],
   "source": [
    "for plot_data in box_plot_raw_data:\n",
    "    print(\"start\")\n",
    "    data = plot_data[\"data\"]\n",
    "    width = plot_data[\"width\"]\n",
    "    height = 0.1 + (len(data.columns) * 0.02)\n",
    "    xmin = plot_data[\"xmin\"]\n",
    "    xmax = plot_data[\"xmax\"]\n",
    "    xlabel = plot_data[\"xlabel\"]\n",
    "    \n",
    "    latex_boxes = tex.get_boxes(data)\n",
    "    plot.clf()\n",
    "    # latex_boxes = tex.get_boxes(pd.DataFrame(data['fannkuch-redux.exe.ipg.workstationone.all.intel-one-api.win32nt']))\n",
    "    \n",
    "    title = f\"The evolution of energy consumption\"\n",
    "    \n",
    "    \n",
    "    ytick = str(list(range(1, len(list(data.columns))+1))).replace('[', '').replace(']', '')\n",
    "    \n",
    "    yticklables = [\n",
    "        '100',\n",
    "        '200',\n",
    "        '300',\n",
    "        '400',\n",
    "        '500',\n",
    "        '600',\n",
    "        '700',\n",
    "        '800',\n",
    "        '900',\n",
    "        '1000'\n",
    "    ]\n",
    "    \n",
    "    labels = f\"evolution_of_medians\".lower()\n",
    "    \n",
    "    caption = \"A visual representation of how the energy measurements evolve as more measurements are made by clamp on DUT 2 for test case MB\"\n",
    "    \n",
    "    latex_box_plot = tex.get_boxplot_template(width, height, xlabel, title, ytick, yticklables, xmin, xmax, latex_boxes, caption, labels)\n",
    "\n",
    "    box_plot_path = f\"evolution\"\n",
    "    box_plot_file_name = f\"evolution.tex\"\n",
    "    print(f\"generating {box_plot_file_name}\")\n",
    "    # print(data)\n",
    "    path_util.write_to_path(box_plot_path.replace('.exe', ''), box_plot_file_name, latex_box_plot)"
   ]
  }
 ],
 "metadata": {
  "kernelspec": {
   "display_name": "env",
   "language": "python",
   "name": "python3"
  },
  "language_info": {
   "codemirror_mode": {
    "name": "ipython",
    "version": 3
   },
   "file_extension": ".py",
   "mimetype": "text/x-python",
   "name": "python",
   "nbconvert_exporter": "python",
   "pygments_lexer": "ipython3",
   "version": "3.10.7"
  },
  "orig_nbformat": 4
 },
 "nbformat": 4,
 "nbformat_minor": 2
}
