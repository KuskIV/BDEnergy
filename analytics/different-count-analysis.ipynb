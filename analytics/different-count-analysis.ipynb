{
 "cells": [
  {
   "cell_type": "code",
   "execution_count": 25,
   "metadata": {},
   "outputs": [],
   "source": [
    "from utils.database_connection import DatabaseConnection\n",
    "import utils.results_repository as rep\n",
    "import pandas as pd\n",
    "import numpy as np\n",
    "from utils.column_name_utils import *\n",
    "import utils.query_utils as query\n",
    "import matplotlib.pyplot as plot\n",
    "import utils.dataframe_utils as df_util\n",
    "import utils.path_utils as path_util\n",
    "import utils.math_utils as math_util\n",
    "import math\n",
    "import utils.latex_utils as tex\n",
    "from scipy import stats\n",
    "import utils.time_series_utils as ts_util\n",
    "import json\n",
    "import utils.measurement_utils as m_util"
   ]
  },
  {
   "cell_type": "code",
   "execution_count": 26,
   "metadata": {},
   "outputs": [
    {
     "name": "stdout",
     "output_type": "stream",
     "text": [
      "Connected to MySQL Server version  8.0.32-24\n"
     ]
    }
   ],
   "source": [
    "db = DatabaseConnection()"
   ]
  },
  {
   "cell_type": "code",
   "execution_count": 27,
   "metadata": {},
   "outputs": [],
   "source": [
    "# exp_name = 'clang'\n",
    "# exp_name = 'run_many_clamp'\n",
    "exp_name = 'app'"
   ]
  },
  {
   "cell_type": "code",
   "execution_count": null,
   "metadata": {},
   "outputs": [],
   "source": []
  },
  {
   "cell_type": "code",
   "execution_count": 28,
   "metadata": {},
   "outputs": [],
   "source": [
    "used_dut_name = [\n",
    "    'workstationtwo',\n",
    "    # 'workstationone',\n",
    "]\n",
    "\n",
    "used_dut_name.sort()\n",
    "\n",
    "used_dut_env = 'prod'\n",
    "\n",
    "windows = \"win32nt\"\n",
    "linux = \"unix\"\n",
    "\n",
    "used_os_names = [\n",
    "    windows, \n",
    "    # linux\n",
    "]\n",
    "\n",
    "used_test_case_names = [\n",
    "    # 'fannkuch-redux.exe',\n",
    "    'mandelbrot.exe',\n",
    "    # 'idle-case.exe'\n",
    "]\n",
    "\n",
    "used_test_case_names.sort()\n",
    "\n",
    "used_thread = [\n",
    "    'multi-threaded'\n",
    "]\n",
    "\n",
    "used_thread.sort()\n",
    "\n",
    "used_test_case_name = 'idle-case.exe'\n",
    "\n",
    "ipg = \"ipg\"\n",
    "lhm = \"lhm\"\n",
    "rapl = \"rapl\"\n",
    "clamp = \"clamp\"\n",
    "plug = \"plug\"\n",
    "scaphandre = \"scaphandre\"\n",
    "\n",
    "windows_mi = [\n",
    "    ipg, lhm, clamp, plug, scaphandre\n",
    "]\n",
    "\n",
    "linux_mi = [\n",
    "    rapl, clamp, plug\n",
    "]\n",
    "\n",
    "used_mi_names = [\n",
    "    clamp ##ipg, lhm, ipg, clamp, plug #, scaphandre, # plug, rapl\n",
    "    # clamp ##ipg, lhm, ipg, clamp, plug #, scaphandre, # plug, rapl\n",
    "]\n",
    "\n",
    "ipg_sample_rate = 100\n",
    "lhm_sample_rate = 100\n",
    "rapl_sample_rate = 100\n",
    "clamp_sample_rate = 100\n",
    "plug_sample_rate = 200\n",
    "scaphandre_sample_rate = 100\n",
    "\n",
    "used_min_temp = 0\n",
    "used_max_temp = 200\n",
    "used_burn_in = 1\n",
    "used_allocated_cores = [\n",
    "    []\n",
    "]\n",
    "used_compilers = [\n",
    "    'clang'\n",
    "    # 'intel-one-api'\n",
    "]\n",
    "\n",
    "test_case_parameters = [\"\", \"12\", \"16000\", \"64000\"]\n",
    "\n",
    "experiment_name = \"run-clamp-many-times-exp\"\n",
    "# experiment_name = \"same-one-api-compiler-different-measuring-instruments-post-update-and-watt\"\n",
    "# experiment_name = \"same-cpp-multi-core-micro-benchmark-different-compiler\"\n",
    "experiment_number = 2\n",
    "# experiment_number = 2\n",
    "\n",
    "used_allocated_cores.sort()\n",
    "used_mi_names.sort()\n",
    "used_compilers.sort()"
   ]
  },
  {
   "cell_type": "code",
   "execution_count": 29,
   "metadata": {},
   "outputs": [],
   "source": [
    "if exp_name == 'clang':\n",
    "    experiment_name = \"same-cpp-multi-core-micro-benchmark-different-compiler\"\n",
    "    experiment_number = 1\n",
    "    used_compilers = [\n",
    "        'clang'\n",
    "    ]\n",
    "    used_mi_names = [\n",
    "        ipg\n",
    "    ]\n",
    "    used_os_names = [\n",
    "        windows, \n",
    "    ]\n",
    "\n",
    "    used_test_case_names = [\n",
    "        'fannkuch-redux.exe',\n",
    "    ]\n",
    "    used_dut_name = [\n",
    "        'workstationone',\n",
    "    ]"
   ]
  },
  {
   "cell_type": "code",
   "execution_count": 30,
   "metadata": {},
   "outputs": [],
   "source": [
    "if exp_name == 'run_many_clamp':\n",
    "    # experiment_name = \"same-one-api-compiler-different-measuring-instruments-post-update-and-watt\"\n",
    "    experiment_name = \"run-clamp-many-times-exp\"\n",
    "    experiment_number = 2\n",
    "    used_compilers = [\n",
    "        'intel-one-api'\n",
    "    ]\n",
    "    used_mi_names = [\n",
    "        # lhm\n",
    "        # plug\n",
    "        clamp\n",
    "    ]\n",
    "    used_os_names = [\n",
    "        windows, \n",
    "    ]\n",
    "\n",
    "    used_test_case_names = [\n",
    "        'mandelbrot.exe',\n",
    "    ]\n",
    "    used_dut_name = [\n",
    "        'workstationtwo',\n",
    "    ]"
   ]
  },
  {
   "cell_type": "code",
   "execution_count": 31,
   "metadata": {},
   "outputs": [],
   "source": [
    "if exp_name == 'app':\n",
    "    experiment_name = \"same-mi-different-application-post-config-update\"\n",
    "    experiment_number = 3\n",
    "    used_burn_in = 0\n",
    "    \n",
    "    used_test_case_name = 'idle.exe'\n",
    "    \n",
    "    used_os_names = [\n",
    "        windows, \n",
    "    ]\n",
    "    \n",
    "    used_mi_names = [\n",
    "        ipg, clamp\n",
    "    ]\n",
    "    \n",
    "    used_compilers = [\n",
    "        'unkown'\n",
    "    ]\n",
    "    \n",
    "    used_test_case_names = [\n",
    "        '3d-mark.exe',\n",
    "        # 'idle.exe'\n",
    "    ]\n",
    "    \n",
    "    used_thread = [\n",
    "        'multi-threaded'\n",
    "    ]\n",
    "    \n",
    "    used_allocated_cores = [\n",
    "        # ['4'],\n",
    "        # ['4', '3'],\n",
    "        # ['4', '3', '2'],\n",
    "        # ['4', '3', '2', '1'],\n",
    "        # ['4', '3', '2', '1', '5'],\n",
    "        # ['4', '3', '2', '1', '5', '0'],\n",
    "        # ['4', '3', '2', '1', '5', '0', '8'],\n",
    "        # ['4', '3', '2', '1', '5', '0', '8', '7'],\n",
    "        # ['4', '3', '2', '1', '5', '0', '8', '7', '6'],\n",
    "        # ['4', '3', '2', '1', '5', '0', '8', '7', '6', '9'],\n",
    "        \n",
    "        # ['0']\n",
    "        # ['0', '5']\n",
    "        # ['0', '5', '6']\n",
    "        # ['0', '5', '6', '2']\n",
    "        # ['0', '5', '6', '2', '4']\n",
    "        # ['0', '5', '6', '2', '4', '3']\n",
    "        ['0', '5', '6', '2', '4', '3', '1']\n",
    "        # ['0', '5', '6', '2', '4', '3', '1', '7']\n",
    "    ]\n",
    "    \n",
    "    idle_case_config = 2\n",
    "    \n",
    "    used_os_names = [\n",
    "        windows\n",
    "    ]   \n",
    "    \n",
    "    test_case_parameters = [\"\"]"
   ]
  },
  {
   "cell_type": "code",
   "execution_count": 32,
   "metadata": {},
   "outputs": [
    {
     "data": {
      "text/plain": [
       "(9, 4)"
      ]
     },
     "execution_count": 32,
     "metadata": {},
     "output_type": "execute_result"
    }
   ],
   "source": [
    "used_dut_name_str = \"','\".join(used_dut_name)\n",
    "used_os_name_str = \"','\".join(used_os_names)\n",
    "dut = rep.get_devices_under_test(db)\n",
    "dut.shape"
   ]
  },
  {
   "cell_type": "code",
   "execution_count": 33,
   "metadata": {},
   "outputs": [
    {
     "data": {
      "text/plain": [
       "(1, 4)"
      ]
     },
     "execution_count": 33,
     "metadata": {},
     "output_type": "execute_result"
    }
   ],
   "source": [
    "used_dut = dut.query(f\"{ENV} == '{used_dut_env}' and {NAME} in ('{used_dut_name_str}') and Os in ('{used_os_name_str}')\")\n",
    "used_dut.shape"
   ]
  },
  {
   "cell_type": "code",
   "execution_count": 34,
   "metadata": {},
   "outputs": [
    {
     "data": {
      "text/plain": [
       "(36, 8)"
      ]
     },
     "execution_count": 34,
     "metadata": {},
     "output_type": "execute_result"
    }
   ],
   "source": [
    "tc = rep.get_test_cases(db)\n",
    "tc.shape"
   ]
  },
  {
   "cell_type": "code",
   "execution_count": 35,
   "metadata": {},
   "outputs": [],
   "source": [
    "used_test_case_name_str = \"','\".join(used_test_case_names)\n",
    "used_compiler_str = \"','\".join(used_compilers)\n",
    "used_thread_str = \"','\".join(used_thread)\n",
    "used_test_case_parameters = \"','\".join(test_case_parameters)\n",
    "\n",
    "used_tc = tc.query(f\"{COMPILER} in ('{used_compiler_str}') and {NAME} in ('{used_test_case_name_str}') and {THREADS} in ('{used_thread_str}') and Parameter in ('{used_test_case_parameters}')\")"
   ]
  },
  {
   "cell_type": "code",
   "execution_count": 36,
   "metadata": {},
   "outputs": [],
   "source": [
    "used_idle_case = tc.query(f\"{COMPILER} in ('{used_compiler_str}') and {NAME} == '{used_test_case_name}' and {THREADS} in ('{used_thread_str}')\")"
   ]
  },
  {
   "cell_type": "code",
   "execution_count": 37,
   "metadata": {},
   "outputs": [
    {
     "data": {
      "text/plain": [
       "(15, 3)"
      ]
     },
     "execution_count": 37,
     "metadata": {},
     "output_type": "execute_result"
    }
   ],
   "source": [
    "mi = rep.get_measuring_instruments(db)\n",
    "\n",
    "mi.shape"
   ]
  },
  {
   "cell_type": "code",
   "execution_count": 38,
   "metadata": {},
   "outputs": [],
   "source": [
    "used_mi_query_list =  query.get_mi_query(\n",
    "    used_mi_names,\n",
    "    ipg,\n",
    "    lhm,\n",
    "    rapl,\n",
    "    plug,\n",
    "    clamp,\n",
    "    scaphandre,\n",
    "    ipg_sample_rate,\n",
    "    lhm_sample_rate,\n",
    "    rapl_sample_rate,\n",
    "    plug_sample_rate,\n",
    "    clamp_sample_rate,\n",
    "    scaphandre_sample_rate,\n",
    ")\n",
    "\n",
    "used_mi = mi.query(\" or \".join(used_mi_query_list))"
   ]
  },
  {
   "cell_type": "code",
   "execution_count": 39,
   "metadata": {},
   "outputs": [],
   "source": [
    "used_allocated_cores_str = \",\".join([str(x) for x in used_allocated_cores])\n",
    "used_allocated_cores_str = used_allocated_cores_str.replace(\"'\", '')\n",
    "used_allocated_cores_str = used_allocated_cores_str.replace(\"[\", \"'[\")\n",
    "used_allocated_cores_str = used_allocated_cores_str.replace(\"]\", \"]'\")"
   ]
  },
  {
   "cell_type": "code",
   "execution_count": 40,
   "metadata": {},
   "outputs": [
    {
     "data": {
      "text/plain": [
       "(34, 5)"
      ]
     },
     "execution_count": 40,
     "metadata": {},
     "output_type": "execute_result"
    }
   ],
   "source": [
    "config = rep.get_configurations(db)\n",
    "\n",
    "config.shape"
   ]
  },
  {
   "cell_type": "code",
   "execution_count": 41,
   "metadata": {},
   "outputs": [
    {
     "data": {
      "text/plain": [
       "(34, 5)"
      ]
     },
     "execution_count": 41,
     "metadata": {},
     "output_type": "execute_result"
    }
   ],
   "source": [
    "config.shape"
   ]
  },
  {
   "cell_type": "code",
   "execution_count": 42,
   "metadata": {},
   "outputs": [
    {
     "data": {
      "text/html": [
       "<div>\n",
       "<style scoped>\n",
       "    .dataframe tbody tr th:only-of-type {\n",
       "        vertical-align: middle;\n",
       "    }\n",
       "\n",
       "    .dataframe tbody tr th {\n",
       "        vertical-align: top;\n",
       "    }\n",
       "\n",
       "    .dataframe thead th {\n",
       "        text-align: right;\n",
       "    }\n",
       "</style>\n",
       "<table border=\"1\" class=\"dataframe\">\n",
       "  <thead>\n",
       "    <tr style=\"text-align: right;\">\n",
       "      <th></th>\n",
       "      <th>Id</th>\n",
       "      <th>MinTemp</th>\n",
       "      <th>MaxTemp</th>\n",
       "      <th>Burnin</th>\n",
       "      <th>AllocatedCores</th>\n",
       "    </tr>\n",
       "  </thead>\n",
       "  <tbody>\n",
       "    <tr>\n",
       "      <th>31</th>\n",
       "      <td>32</td>\n",
       "      <td>0</td>\n",
       "      <td>200</td>\n",
       "      <td>0</td>\n",
       "      <td>[0, 5, 6, 2, 4, 3, 1]</td>\n",
       "    </tr>\n",
       "  </tbody>\n",
       "</table>\n",
       "</div>"
      ],
      "text/plain": [
       "    Id  MinTemp  MaxTemp  Burnin         AllocatedCores\n",
       "31  32        0      200       0  [0, 5, 6, 2, 4, 3, 1]"
      ]
     },
     "execution_count": 42,
     "metadata": {},
     "output_type": "execute_result"
    }
   ],
   "source": [
    "used_configs = config.query(f\"{MIN_TEMP} == {used_min_temp} and \" +\n",
    "                            f\"{MAX_TEMP} == {used_max_temp} and \" +\n",
    "                            f\"{BURN_IN} == {used_burn_in} and \" +\n",
    "                            f\"{ALLOCATED_CORES} in ({used_allocated_cores_str})\")\n",
    "used_configs"
   ]
  },
  {
   "cell_type": "code",
   "execution_count": 43,
   "metadata": {},
   "outputs": [
    {
     "data": {
      "text/plain": [
       "(13, 2)"
      ]
     },
     "execution_count": 43,
     "metadata": {},
     "output_type": "execute_result"
    }
   ],
   "source": [
    "exp = rep.get_distinct_experiments(db)\n",
    "\n",
    "exp.shape"
   ]
  },
  {
   "cell_type": "code",
   "execution_count": 44,
   "metadata": {},
   "outputs": [
    {
     "name": "stdout",
     "output_type": "stream",
     "text": [
      "5\n",
      "dut: 5, mi: 1, config 2, test case: 35, name: same-mi-different-application-post-config-update, number: 3 \n",
      "N - 3d-mark.exe.win32nt.workstationtwo.[0, 5, 6, 2, 4, 3, 1].unkown.ipg.100.34\n",
      "dut: 5, mi: 19, config 2, test case: 35, name: same-mi-different-application-post-config-update, number: 3 \n",
      "N - 3d-mark.exe.win32nt.workstationtwo.[0, 5, 6, 2, 4, 3, 1].unkown.clamp.100.34\n",
      "10\n",
      "dut: 5, mi: 1, config 2, test case: 35, name: same-mi-different-application-post-config-update, number: 3 \n",
      "N - 3d-mark.exe.win32nt.workstationtwo.[0, 5, 6, 2, 4, 3, 1].unkown.ipg.100.34\n",
      "dut: 5, mi: 19, config 2, test case: 35, name: same-mi-different-application-post-config-update, number: 3 \n",
      "N - 3d-mark.exe.win32nt.workstationtwo.[0, 5, 6, 2, 4, 3, 1].unkown.clamp.100.34\n",
      "15\n",
      "dut: 5, mi: 1, config 2, test case: 35, name: same-mi-different-application-post-config-update, number: 3 \n",
      "N - 3d-mark.exe.win32nt.workstationtwo.[0, 5, 6, 2, 4, 3, 1].unkown.ipg.100.34\n",
      "dut: 5, mi: 19, config 2, test case: 35, name: same-mi-different-application-post-config-update, number: 3 \n",
      "N - 3d-mark.exe.win32nt.workstationtwo.[0, 5, 6, 2, 4, 3, 1].unkown.clamp.100.34\n",
      "20\n",
      "dut: 5, mi: 1, config 2, test case: 35, name: same-mi-different-application-post-config-update, number: 3 \n",
      "N - 3d-mark.exe.win32nt.workstationtwo.[0, 5, 6, 2, 4, 3, 1].unkown.ipg.100.34\n",
      "dut: 5, mi: 19, config 2, test case: 35, name: same-mi-different-application-post-config-update, number: 3 \n",
      "N - 3d-mark.exe.win32nt.workstationtwo.[0, 5, 6, 2, 4, 3, 1].unkown.clamp.100.34\n",
      "25\n",
      "dut: 5, mi: 1, config 2, test case: 35, name: same-mi-different-application-post-config-update, number: 3 \n",
      "N - 3d-mark.exe.win32nt.workstationtwo.[0, 5, 6, 2, 4, 3, 1].unkown.ipg.100.34\n",
      "dut: 5, mi: 19, config 2, test case: 35, name: same-mi-different-application-post-config-update, number: 3 \n",
      "N - 3d-mark.exe.win32nt.workstationtwo.[0, 5, 6, 2, 4, 3, 1].unkown.clamp.100.34\n",
      "30\n",
      "dut: 5, mi: 1, config 2, test case: 35, name: same-mi-different-application-post-config-update, number: 3 \n",
      "N - 3d-mark.exe.win32nt.workstationtwo.[0, 5, 6, 2, 4, 3, 1].unkown.ipg.100.34\n",
      "dut: 5, mi: 19, config 2, test case: 35, name: same-mi-different-application-post-config-update, number: 3 \n",
      "N - 3d-mark.exe.win32nt.workstationtwo.[0, 5, 6, 2, 4, 3, 1].unkown.clamp.100.34\n",
      "35\n",
      "dut: 5, mi: 1, config 2, test case: 35, name: same-mi-different-application-post-config-update, number: 3 \n",
      "N - 3d-mark.exe.win32nt.workstationtwo.[0, 5, 6, 2, 4, 3, 1].unkown.ipg.100.34\n",
      "dut: 5, mi: 19, config 2, test case: 35, name: same-mi-different-application-post-config-update, number: 3 \n",
      "N - 3d-mark.exe.win32nt.workstationtwo.[0, 5, 6, 2, 4, 3, 1].unkown.clamp.100.34\n",
      "40\n",
      "dut: 5, mi: 1, config 2, test case: 35, name: same-mi-different-application-post-config-update, number: 3 \n",
      "N - 3d-mark.exe.win32nt.workstationtwo.[0, 5, 6, 2, 4, 3, 1].unkown.ipg.100.34\n",
      "dut: 5, mi: 19, config 2, test case: 35, name: same-mi-different-application-post-config-update, number: 3 \n",
      "N - 3d-mark.exe.win32nt.workstationtwo.[0, 5, 6, 2, 4, 3, 1].unkown.clamp.100.34\n",
      "45\n",
      "dut: 5, mi: 1, config 2, test case: 35, name: same-mi-different-application-post-config-update, number: 3 \n",
      "N - 3d-mark.exe.win32nt.workstationtwo.[0, 5, 6, 2, 4, 3, 1].unkown.ipg.100.34\n",
      "dut: 5, mi: 19, config 2, test case: 35, name: same-mi-different-application-post-config-update, number: 3 \n",
      "N - 3d-mark.exe.win32nt.workstationtwo.[0, 5, 6, 2, 4, 3, 1].unkown.clamp.100.34\n",
      "50\n",
      "dut: 5, mi: 1, config 2, test case: 35, name: same-mi-different-application-post-config-update, number: 3 \n",
      "N - 3d-mark.exe.win32nt.workstationtwo.[0, 5, 6, 2, 4, 3, 1].unkown.ipg.100.34\n",
      "dut: 5, mi: 19, config 2, test case: 35, name: same-mi-different-application-post-config-update, number: 3 \n",
      "N - 3d-mark.exe.win32nt.workstationtwo.[0, 5, 6, 2, 4, 3, 1].unkown.clamp.100.34\n"
     ]
    }
   ],
   "source": [
    "data_to_plot = {}\n",
    "data_to_plot_watt = {}\n",
    "data_to_plot_total = {}\n",
    "\n",
    "for i in range(5, 51, 5):\n",
    "    print(i)\n",
    "    cpu_energy_results = {}\n",
    "    dram_energy_results = {}\n",
    "    gpu_energy_results = {}\n",
    "    duration_results = {}\n",
    "\n",
    "    idle_cpu_consumption_results = {}\n",
    "\n",
    "    cpu_dynamic_energy_watt_consumption = {}\n",
    "\n",
    "    cpu_dynamic_energy_consumption = {}\n",
    "    gpu_dynamic_energy_consumption = {}\n",
    "    dram_dynamic_energy_consumption = {}\n",
    "\n",
    "    temperature_begin = {}\n",
    "    temperature_end = {}\n",
    "\n",
    "    m_util.get_measurements(\n",
    "        windows,\n",
    "        windows_mi,\n",
    "        linux,\n",
    "        linux_mi,\n",
    "        used_configs,\n",
    "        used_dut,\n",
    "        used_mi,\n",
    "        used_tc,\n",
    "        used_idle_case,\n",
    "        db,\n",
    "        experiment_name,\n",
    "        experiment_number,\n",
    "        # energy_per_time,\n",
    "        scaphandre,\n",
    "        cpu_energy_results,\n",
    "        dram_energy_results,\n",
    "        gpu_energy_results,\n",
    "        duration_results,\n",
    "        temperature_begin,\n",
    "        temperature_end,\n",
    "        cpu_dynamic_energy_consumption,\n",
    "        gpu_dynamic_energy_consumption,\n",
    "        dram_dynamic_energy_consumption,\n",
    "        idle_cpu_consumption_results,\n",
    "        used_test_case_name,\n",
    "        cpu_dynamic_energy_watt_consumption,\n",
    "        idle_case_config=idle_case_config\n",
    "    )\n",
    "    \n",
    "    for key, value in cpu_dynamic_energy_consumption.items():\n",
    "        cpu_dynamic_energy_consumption[key] = value[:i]\n",
    "    \n",
    "    for k in cpu_dynamic_energy_consumption.keys():\n",
    "        data_to_plot[k + \".\" +str(i).rjust(5, '0')] = cpu_dynamic_energy_consumption[k]\n",
    "    \n",
    "    for key, value in cpu_energy_results.items():\n",
    "        cpu_energy_results[key] = value[:i]\n",
    "    \n",
    "    for k in cpu_energy_results.keys():\n",
    "        data_to_plot_total[k + \".\" +str(i).rjust(5, '0')] = cpu_energy_results[k]\n",
    "    \n",
    "    for key, value in cpu_dynamic_energy_watt_consumption.items():\n",
    "        cpu_dynamic_energy_watt_consumption[key] = value[:i]\n",
    "    \n",
    "    for k in cpu_dynamic_energy_watt_consumption.keys():\n",
    "        data_to_plot_watt[k + \".\" +str(i).rjust(5, '0')] = cpu_dynamic_energy_watt_consumption[k]"
   ]
  },
  {
   "cell_type": "code",
   "execution_count": 45,
   "metadata": {},
   "outputs": [],
   "source": [
    "def convert_to_series(df):\n",
    "    for key in df.keys():\n",
    "        df[key] = pd.Series(df[key])\n",
    "    return df"
   ]
  },
  {
   "cell_type": "code",
   "execution_count": 46,
   "metadata": {},
   "outputs": [],
   "source": [
    "data_to_plot = convert_to_series(data_to_plot)\n",
    "data_df = pd.DataFrame(data_to_plot)\n",
    "data_df = data_df.reindex(columns=sorted(data_df.columns))\n",
    "\n",
    "data_to_plot_watt = convert_to_series(data_to_plot_watt)\n",
    "data_df_watt = pd.DataFrame(data_to_plot_watt)\n",
    "data_df_watt = data_df_watt.reindex(columns=sorted(data_df_watt.columns))\n",
    "\n",
    "data_to_plot_total = convert_to_series(data_to_plot_total)\n",
    "data_df_total = pd.DataFrame(data_to_plot_total)\n",
    "data_df_total = data_df_total.reindex(columns=sorted(data_df_total.columns))\n"
   ]
  },
  {
   "cell_type": "code",
   "execution_count": 47,
   "metadata": {},
   "outputs": [
    {
     "data": {
      "text/plain": [
       "(0, 0)"
      ]
     },
     "execution_count": 47,
     "metadata": {},
     "output_type": "execute_result"
    }
   ],
   "source": [
    "data_df_total.shape"
   ]
  },
  {
   "cell_type": "code",
   "execution_count": 48,
   "metadata": {},
   "outputs": [
    {
     "name": "stdout",
     "output_type": "stream",
     "text": [
      "Watt of Test Case\n"
     ]
    },
    {
     "ename": "ValueError",
     "evalue": "boxplot method requires numerical columns, nothing to plot.",
     "output_type": "error",
     "traceback": [
      "\u001b[1;31m---------------------------------------------------------------------------\u001b[0m",
      "\u001b[1;31mValueError\u001b[0m                                Traceback (most recent call last)",
      "Cell \u001b[1;32mIn[48], line 6\u001b[0m\n\u001b[0;32m      1\u001b[0m plot\u001b[39m.\u001b[39mclf()\n\u001b[0;32m      5\u001b[0m \u001b[39mprint\u001b[39m(\u001b[39m\"\u001b[39m\u001b[39mWatt of Test Case\u001b[39m\u001b[39m\"\u001b[39m)\n\u001b[1;32m----> 6\u001b[0m boxplot_watt \u001b[39m=\u001b[39m data_df_watt\u001b[39m.\u001b[39;49mboxplot(figsize\u001b[39m=\u001b[39;49m(\u001b[39m15\u001b[39;49m,\u001b[39m5\u001b[39;49m), rot\u001b[39m=\u001b[39;49m\u001b[39m85\u001b[39;49m)\n\u001b[0;32m      7\u001b[0m boxplot_watt\u001b[39m.\u001b[39mplot()\n\u001b[0;32m      8\u001b[0m \u001b[39m# plot.ylim(0,1300)\u001b[39;00m\n",
      "File \u001b[1;32mc:\\Users\\Mads Kusk\\git\\BDEnergy\\analytics\\env\\lib\\site-packages\\pandas\\plotting\\_core.py:516\u001b[0m, in \u001b[0;36mboxplot_frame\u001b[1;34m(self, column, by, ax, fontsize, rot, grid, figsize, layout, return_type, backend, **kwargs)\u001b[0m\n\u001b[0;32m    499\u001b[0m \u001b[39m@Substitution\u001b[39m(backend\u001b[39m=\u001b[39m_backend_doc)\n\u001b[0;32m    500\u001b[0m \u001b[39m@Appender\u001b[39m(_boxplot_doc)\n\u001b[0;32m    501\u001b[0m \u001b[39mdef\u001b[39;00m \u001b[39mboxplot_frame\u001b[39m(\n\u001b[1;32m   (...)\u001b[0m\n\u001b[0;32m    513\u001b[0m     \u001b[39m*\u001b[39m\u001b[39m*\u001b[39mkwargs,\n\u001b[0;32m    514\u001b[0m ):\n\u001b[0;32m    515\u001b[0m     plot_backend \u001b[39m=\u001b[39m _get_plot_backend(backend)\n\u001b[1;32m--> 516\u001b[0m     \u001b[39mreturn\u001b[39;00m plot_backend\u001b[39m.\u001b[39mboxplot_frame(\n\u001b[0;32m    517\u001b[0m         \u001b[39mself\u001b[39m,\n\u001b[0;32m    518\u001b[0m         column\u001b[39m=\u001b[39mcolumn,\n\u001b[0;32m    519\u001b[0m         by\u001b[39m=\u001b[39mby,\n\u001b[0;32m    520\u001b[0m         ax\u001b[39m=\u001b[39max,\n\u001b[0;32m    521\u001b[0m         fontsize\u001b[39m=\u001b[39mfontsize,\n\u001b[0;32m    522\u001b[0m         rot\u001b[39m=\u001b[39mrot,\n\u001b[0;32m    523\u001b[0m         grid\u001b[39m=\u001b[39mgrid,\n\u001b[0;32m    524\u001b[0m         figsize\u001b[39m=\u001b[39mfigsize,\n\u001b[0;32m    525\u001b[0m         layout\u001b[39m=\u001b[39mlayout,\n\u001b[0;32m    526\u001b[0m         return_type\u001b[39m=\u001b[39mreturn_type,\n\u001b[0;32m    527\u001b[0m         \u001b[39m*\u001b[39m\u001b[39m*\u001b[39mkwargs,\n\u001b[0;32m    528\u001b[0m     )\n",
      "File \u001b[1;32mc:\\Users\\Mads Kusk\\git\\BDEnergy\\analytics\\env\\lib\\site-packages\\pandas\\plotting\\_matplotlib\\boxplot.py:458\u001b[0m, in \u001b[0;36mboxplot_frame\u001b[1;34m(self, column, by, ax, fontsize, rot, grid, figsize, layout, return_type, **kwds)\u001b[0m\n\u001b[0;32m    443\u001b[0m \u001b[39mdef\u001b[39;00m \u001b[39mboxplot_frame\u001b[39m(\n\u001b[0;32m    444\u001b[0m     \u001b[39mself\u001b[39m,\n\u001b[0;32m    445\u001b[0m     column\u001b[39m=\u001b[39m\u001b[39mNone\u001b[39;00m,\n\u001b[1;32m   (...)\u001b[0m\n\u001b[0;32m    454\u001b[0m     \u001b[39m*\u001b[39m\u001b[39m*\u001b[39mkwds,\n\u001b[0;32m    455\u001b[0m ):\n\u001b[0;32m    456\u001b[0m     \u001b[39mimport\u001b[39;00m \u001b[39mmatplotlib\u001b[39;00m\u001b[39m.\u001b[39;00m\u001b[39mpyplot\u001b[39;00m \u001b[39mas\u001b[39;00m \u001b[39mplt\u001b[39;00m\n\u001b[1;32m--> 458\u001b[0m     ax \u001b[39m=\u001b[39m boxplot(\n\u001b[0;32m    459\u001b[0m         \u001b[39mself\u001b[39m,\n\u001b[0;32m    460\u001b[0m         column\u001b[39m=\u001b[39mcolumn,\n\u001b[0;32m    461\u001b[0m         by\u001b[39m=\u001b[39mby,\n\u001b[0;32m    462\u001b[0m         ax\u001b[39m=\u001b[39max,\n\u001b[0;32m    463\u001b[0m         fontsize\u001b[39m=\u001b[39mfontsize,\n\u001b[0;32m    464\u001b[0m         grid\u001b[39m=\u001b[39mgrid,\n\u001b[0;32m    465\u001b[0m         rot\u001b[39m=\u001b[39mrot,\n\u001b[0;32m    466\u001b[0m         figsize\u001b[39m=\u001b[39mfigsize,\n\u001b[0;32m    467\u001b[0m         layout\u001b[39m=\u001b[39mlayout,\n\u001b[0;32m    468\u001b[0m         return_type\u001b[39m=\u001b[39mreturn_type,\n\u001b[0;32m    469\u001b[0m         \u001b[39m*\u001b[39m\u001b[39m*\u001b[39mkwds,\n\u001b[0;32m    470\u001b[0m     )\n\u001b[0;32m    471\u001b[0m     plt\u001b[39m.\u001b[39mdraw_if_interactive()\n\u001b[0;32m    472\u001b[0m     \u001b[39mreturn\u001b[39;00m ax\n",
      "File \u001b[1;32mc:\\Users\\Mads Kusk\\git\\BDEnergy\\analytics\\env\\lib\\site-packages\\pandas\\plotting\\_matplotlib\\boxplot.py:429\u001b[0m, in \u001b[0;36mboxplot\u001b[1;34m(data, column, by, ax, fontsize, rot, grid, figsize, layout, return_type, **kwds)\u001b[0m\n\u001b[0;32m    427\u001b[0m naxes \u001b[39m=\u001b[39m \u001b[39mlen\u001b[39m(data\u001b[39m.\u001b[39mcolumns)\n\u001b[0;32m    428\u001b[0m \u001b[39mif\u001b[39;00m naxes \u001b[39m==\u001b[39m \u001b[39m0\u001b[39m:\n\u001b[1;32m--> 429\u001b[0m     \u001b[39mraise\u001b[39;00m \u001b[39mValueError\u001b[39;00m(\n\u001b[0;32m    430\u001b[0m         \u001b[39m\"\u001b[39m\u001b[39mboxplot method requires numerical columns, nothing to plot.\u001b[39m\u001b[39m\"\u001b[39m\n\u001b[0;32m    431\u001b[0m     )\n\u001b[0;32m    432\u001b[0m \u001b[39mif\u001b[39;00m columns \u001b[39mis\u001b[39;00m \u001b[39mNone\u001b[39;00m:\n\u001b[0;32m    433\u001b[0m     columns \u001b[39m=\u001b[39m data\u001b[39m.\u001b[39mcolumns\n",
      "\u001b[1;31mValueError\u001b[0m: boxplot method requires numerical columns, nothing to plot."
     ]
    },
    {
     "data": {
      "image/png": "[encoded data removed]",
      "text/plain": [
       "<Figure size 640x480 with 1 Axes>"
      ]
     },
     "metadata": {},
     "output_type": "display_data"
    }
   ],
   "source": [
    "plot.clf()\n",
    "\n",
    "\n",
    "\n",
    "print(\"Watt of Test Case\")\n",
    "boxplot_watt = data_df_watt.boxplot(figsize=(15,5), rot=85)\n",
    "boxplot_watt.plot()\n",
    "# plot.ylim(0,1300)\n",
    "plot.show()\n",
    "\n",
    "print(\"Joules of Test Case\")\n",
    "boxplot = data_df.boxplot(figsize=(15,5), rot=85)\n",
    "boxplot.plot()\n",
    "# plot.ylim(0,1000)\n",
    "plot.show()\n",
    "\n",
    "print(\"Joules of Test Case\")\n",
    "boxplot = data_df_total.boxplot(figsize=(15,5), rot=85)\n",
    "boxplot.plot()\n",
    "# plot.ylim(0,1000)\n",
    "plot.show()"
   ]
  },
  {
   "cell_type": "code",
   "execution_count": null,
   "metadata": {},
   "outputs": [],
   "source": [
    "def  remove_outliers_z_score(df, column, limit):\n",
    "    z_score = pd.Series(np.abs((df[column] - df[column].mean()) / df[column].std()))\n",
    "\n",
    "    # identify outliers as data points with z-score > 3\n",
    "    outliers = df[column][z_score > limit]\n",
    "    # df = df.drop('z_score', axis=1)\n",
    "    \n",
    "    return [\n",
    "        x for x in list(df[column]) if x not in list(outliers)\n",
    "    ]\n",
    "\n",
    "def remove_n_percent(df, column, percent):\n",
    "    data_to_order = df[column]\n",
    "\n",
    "    list(data_to_order).sort()\n",
    "    data_to_order = [x for x in data_to_order if str(x) != 'nan']\n",
    "    data_to_order\n",
    "    percent = 20\n",
    "\n",
    "    n = len(data_to_order)\n",
    "    outliers = int(n*percent/100) #may want some rounding logic if n is small\n",
    "    trimmed_data = data_to_order[outliers: n-outliers]\n",
    "    \n",
    "    return trimmed_data"
   ]
  },
  {
   "cell_type": "code",
   "execution_count": null,
   "metadata": {},
   "outputs": [],
   "source": [
    "# last_k_df = pd.DataFrame({\"data\" : list(data_df_watt['mandelbrot.exe.win32nt.workstationtwo.all.intel-one-api.clamp.03000'])[2500:]})"
   ]
  },
  {
   "cell_type": "code",
   "execution_count": null,
   "metadata": {},
   "outputs": [
    {
     "data": {
      "text/html": [
       "<div>\n",
       "<style scoped>\n",
       "    .dataframe tbody tr th:only-of-type {\n",
       "        vertical-align: middle;\n",
       "    }\n",
       "\n",
       "    .dataframe tbody tr th {\n",
       "        vertical-align: top;\n",
       "    }\n",
       "\n",
       "    .dataframe thead th {\n",
       "        text-align: right;\n",
       "    }\n",
       "</style>\n",
       "<table border=\"1\" class=\"dataframe\">\n",
       "  <thead>\n",
       "    <tr style=\"text-align: right;\">\n",
       "      <th></th>\n",
       "      <th>0</th>\n",
       "      <th>1</th>\n",
       "      <th>2</th>\n",
       "      <th>3</th>\n",
       "      <th>4</th>\n",
       "    </tr>\n",
       "  </thead>\n",
       "  <tbody>\n",
       "    <tr>\n",
       "      <th></th>\n",
       "      <td>with</td>\n",
       "      <td>without</td>\n",
       "      <td>z</td>\n",
       "      <td>z - n</td>\n",
       "      <td>count</td>\n",
       "    </tr>\n",
       "    <tr>\n",
       "      <th>3d-mark.exe.win32nt.workstationone.[0, 5, 6, 2, 4, 3, 1].unkown.clamp.00005</th>\n",
       "      <td>480.5</td>\n",
       "      <td>480.5</td>\n",
       "      <td>217.5</td>\n",
       "      <td>9.0</td>\n",
       "      <td>5.0</td>\n",
       "    </tr>\n",
       "    <tr>\n",
       "      <th>3d-mark.exe.win32nt.workstationone.[0, 5, 6, 2, 4, 3, 1].unkown.clamp.00010</th>\n",
       "      <td>1466.1</td>\n",
       "      <td>423.8</td>\n",
       "      <td>221.7</td>\n",
       "      <td>12.8</td>\n",
       "      <td>10.0</td>\n",
       "    </tr>\n",
       "    <tr>\n",
       "      <th>3d-mark.exe.win32nt.workstationone.[0, 5, 6, 2, 4, 3, 1].unkown.clamp.00015</th>\n",
       "      <td>4103.6</td>\n",
       "      <td>4103.6</td>\n",
       "      <td>1425.1</td>\n",
       "      <td>224.0</td>\n",
       "      <td>15.0</td>\n",
       "    </tr>\n",
       "    <tr>\n",
       "      <th>3d-mark.exe.win32nt.workstationone.[0, 5, 6, 2, 4, 3, 1].unkown.clamp.00020</th>\n",
       "      <td>4066.9</td>\n",
       "      <td>4066.9</td>\n",
       "      <td>835.3</td>\n",
       "      <td>1953.2</td>\n",
       "      <td>20.0</td>\n",
       "    </tr>\n",
       "    <tr>\n",
       "      <th>3d-mark.exe.win32nt.workstationone.[0, 5, 6, 2, 4, 3, 1].unkown.clamp.00025</th>\n",
       "      <td>4531.6</td>\n",
       "      <td>3855.9</td>\n",
       "      <td>1062.6</td>\n",
       "      <td>1081.3</td>\n",
       "      <td>25.0</td>\n",
       "    </tr>\n",
       "    <tr>\n",
       "      <th>3d-mark.exe.win32nt.workstationone.[0, 5, 6, 2, 4, 3, 1].unkown.clamp.00030</th>\n",
       "      <td>4460.5</td>\n",
       "      <td>4460.5</td>\n",
       "      <td>946.7</td>\n",
       "      <td>976.3</td>\n",
       "      <td>27.0</td>\n",
       "    </tr>\n",
       "    <tr>\n",
       "      <th>3d-mark.exe.win32nt.workstationone.[0, 5, 6, 2, 4, 3, 1].unkown.clamp.00035</th>\n",
       "      <td>4460.5</td>\n",
       "      <td>4460.5</td>\n",
       "      <td>946.7</td>\n",
       "      <td>976.3</td>\n",
       "      <td>27.0</td>\n",
       "    </tr>\n",
       "    <tr>\n",
       "      <th>3d-mark.exe.win32nt.workstationone.[0, 5, 6, 2, 4, 3, 1].unkown.clamp.00040</th>\n",
       "      <td>4460.5</td>\n",
       "      <td>4460.5</td>\n",
       "      <td>946.7</td>\n",
       "      <td>976.3</td>\n",
       "      <td>27.0</td>\n",
       "    </tr>\n",
       "    <tr>\n",
       "      <th>3d-mark.exe.win32nt.workstationone.[0, 5, 6, 2, 4, 3, 1].unkown.clamp.00045</th>\n",
       "      <td>4460.5</td>\n",
       "      <td>4460.5</td>\n",
       "      <td>946.7</td>\n",
       "      <td>976.3</td>\n",
       "      <td>27.0</td>\n",
       "    </tr>\n",
       "    <tr>\n",
       "      <th>3d-mark.exe.win32nt.workstationone.[0, 5, 6, 2, 4, 3, 1].unkown.clamp.00050</th>\n",
       "      <td>4460.5</td>\n",
       "      <td>4460.5</td>\n",
       "      <td>946.7</td>\n",
       "      <td>976.3</td>\n",
       "      <td>27.0</td>\n",
       "    </tr>\n",
       "    <tr>\n",
       "      <th>3d-mark.exe.win32nt.workstationone.[0, 5, 6, 2, 4, 3, 1].unkown.ipg.00005</th>\n",
       "      <td>23.8</td>\n",
       "      <td>23.8</td>\n",
       "      <td>12.5</td>\n",
       "      <td>1.7</td>\n",
       "      <td>5.0</td>\n",
       "    </tr>\n",
       "    <tr>\n",
       "      <th>3d-mark.exe.win32nt.workstationone.[0, 5, 6, 2, 4, 3, 1].unkown.ipg.00010</th>\n",
       "      <td>119.2</td>\n",
       "      <td>119.2</td>\n",
       "      <td>64.4</td>\n",
       "      <td>74.4</td>\n",
       "      <td>10.0</td>\n",
       "    </tr>\n",
       "    <tr>\n",
       "      <th>3d-mark.exe.win32nt.workstationone.[0, 5, 6, 2, 4, 3, 1].unkown.ipg.00015</th>\n",
       "      <td>931.5</td>\n",
       "      <td>209.4</td>\n",
       "      <td>209.4</td>\n",
       "      <td>67.2</td>\n",
       "      <td>15.0</td>\n",
       "    </tr>\n",
       "    <tr>\n",
       "      <th>3d-mark.exe.win32nt.workstationone.[0, 5, 6, 2, 4, 3, 1].unkown.ipg.00020</th>\n",
       "      <td>1264.2</td>\n",
       "      <td>1264.2</td>\n",
       "      <td>365.9</td>\n",
       "      <td>236.6</td>\n",
       "      <td>20.0</td>\n",
       "    </tr>\n",
       "    <tr>\n",
       "      <th>3d-mark.exe.win32nt.workstationone.[0, 5, 6, 2, 4, 3, 1].unkown.ipg.00025</th>\n",
       "      <td>1648.2</td>\n",
       "      <td>1648.2</td>\n",
       "      <td>573.9</td>\n",
       "      <td>357.8</td>\n",
       "      <td>25.0</td>\n",
       "    </tr>\n",
       "    <tr>\n",
       "      <th>3d-mark.exe.win32nt.workstationone.[0, 5, 6, 2, 4, 3, 1].unkown.ipg.00030</th>\n",
       "      <td>1717.6</td>\n",
       "      <td>1717.6</td>\n",
       "      <td>796.5</td>\n",
       "      <td>312.8</td>\n",
       "      <td>27.0</td>\n",
       "    </tr>\n",
       "    <tr>\n",
       "      <th>3d-mark.exe.win32nt.workstationone.[0, 5, 6, 2, 4, 3, 1].unkown.ipg.00035</th>\n",
       "      <td>1717.6</td>\n",
       "      <td>1717.6</td>\n",
       "      <td>796.5</td>\n",
       "      <td>312.8</td>\n",
       "      <td>27.0</td>\n",
       "    </tr>\n",
       "    <tr>\n",
       "      <th>3d-mark.exe.win32nt.workstationone.[0, 5, 6, 2, 4, 3, 1].unkown.ipg.00040</th>\n",
       "      <td>1717.6</td>\n",
       "      <td>1717.6</td>\n",
       "      <td>796.5</td>\n",
       "      <td>312.8</td>\n",
       "      <td>27.0</td>\n",
       "    </tr>\n",
       "    <tr>\n",
       "      <th>3d-mark.exe.win32nt.workstationone.[0, 5, 6, 2, 4, 3, 1].unkown.ipg.00045</th>\n",
       "      <td>1717.6</td>\n",
       "      <td>1717.6</td>\n",
       "      <td>796.5</td>\n",
       "      <td>312.8</td>\n",
       "      <td>27.0</td>\n",
       "    </tr>\n",
       "    <tr>\n",
       "      <th>3d-mark.exe.win32nt.workstationone.[0, 5, 6, 2, 4, 3, 1].unkown.ipg.00050</th>\n",
       "      <td>1717.6</td>\n",
       "      <td>1717.6</td>\n",
       "      <td>796.5</td>\n",
       "      <td>312.8</td>\n",
       "      <td>27.0</td>\n",
       "    </tr>\n",
       "  </tbody>\n",
       "</table>\n",
       "</div>"
      ],
      "text/plain": [
       "                                                         0        1       2  \\\n",
       "                                                      with  without       z   \n",
       "3d-mark.exe.win32nt.workstationone.[0, 5, 6, 2,...   480.5    480.5   217.5   \n",
       "3d-mark.exe.win32nt.workstationone.[0, 5, 6, 2,...  1466.1    423.8   221.7   \n",
       "3d-mark.exe.win32nt.workstationone.[0, 5, 6, 2,...  4103.6   4103.6  1425.1   \n",
       "3d-mark.exe.win32nt.workstationone.[0, 5, 6, 2,...  4066.9   4066.9   835.3   \n",
       "3d-mark.exe.win32nt.workstationone.[0, 5, 6, 2,...  4531.6   3855.9  1062.6   \n",
       "3d-mark.exe.win32nt.workstationone.[0, 5, 6, 2,...  4460.5   4460.5   946.7   \n",
       "3d-mark.exe.win32nt.workstationone.[0, 5, 6, 2,...  4460.5   4460.5   946.7   \n",
       "3d-mark.exe.win32nt.workstationone.[0, 5, 6, 2,...  4460.5   4460.5   946.7   \n",
       "3d-mark.exe.win32nt.workstationone.[0, 5, 6, 2,...  4460.5   4460.5   946.7   \n",
       "3d-mark.exe.win32nt.workstationone.[0, 5, 6, 2,...  4460.5   4460.5   946.7   \n",
       "3d-mark.exe.win32nt.workstationone.[0, 5, 6, 2,...    23.8     23.8    12.5   \n",
       "3d-mark.exe.win32nt.workstationone.[0, 5, 6, 2,...   119.2    119.2    64.4   \n",
       "3d-mark.exe.win32nt.workstationone.[0, 5, 6, 2,...   931.5    209.4   209.4   \n",
       "3d-mark.exe.win32nt.workstationone.[0, 5, 6, 2,...  1264.2   1264.2   365.9   \n",
       "3d-mark.exe.win32nt.workstationone.[0, 5, 6, 2,...  1648.2   1648.2   573.9   \n",
       "3d-mark.exe.win32nt.workstationone.[0, 5, 6, 2,...  1717.6   1717.6   796.5   \n",
       "3d-mark.exe.win32nt.workstationone.[0, 5, 6, 2,...  1717.6   1717.6   796.5   \n",
       "3d-mark.exe.win32nt.workstationone.[0, 5, 6, 2,...  1717.6   1717.6   796.5   \n",
       "3d-mark.exe.win32nt.workstationone.[0, 5, 6, 2,...  1717.6   1717.6   796.5   \n",
       "3d-mark.exe.win32nt.workstationone.[0, 5, 6, 2,...  1717.6   1717.6   796.5   \n",
       "\n",
       "                                                         3      4  \n",
       "                                                     z - n  count  \n",
       "3d-mark.exe.win32nt.workstationone.[0, 5, 6, 2,...     9.0    5.0  \n",
       "3d-mark.exe.win32nt.workstationone.[0, 5, 6, 2,...    12.8   10.0  \n",
       "3d-mark.exe.win32nt.workstationone.[0, 5, 6, 2,...   224.0   15.0  \n",
       "3d-mark.exe.win32nt.workstationone.[0, 5, 6, 2,...  1953.2   20.0  \n",
       "3d-mark.exe.win32nt.workstationone.[0, 5, 6, 2,...  1081.3   25.0  \n",
       "3d-mark.exe.win32nt.workstationone.[0, 5, 6, 2,...   976.3   27.0  \n",
       "3d-mark.exe.win32nt.workstationone.[0, 5, 6, 2,...   976.3   27.0  \n",
       "3d-mark.exe.win32nt.workstationone.[0, 5, 6, 2,...   976.3   27.0  \n",
       "3d-mark.exe.win32nt.workstationone.[0, 5, 6, 2,...   976.3   27.0  \n",
       "3d-mark.exe.win32nt.workstationone.[0, 5, 6, 2,...   976.3   27.0  \n",
       "3d-mark.exe.win32nt.workstationone.[0, 5, 6, 2,...     1.7    5.0  \n",
       "3d-mark.exe.win32nt.workstationone.[0, 5, 6, 2,...    74.4   10.0  \n",
       "3d-mark.exe.win32nt.workstationone.[0, 5, 6, 2,...    67.2   15.0  \n",
       "3d-mark.exe.win32nt.workstationone.[0, 5, 6, 2,...   236.6   20.0  \n",
       "3d-mark.exe.win32nt.workstationone.[0, 5, 6, 2,...   357.8   25.0  \n",
       "3d-mark.exe.win32nt.workstationone.[0, 5, 6, 2,...   312.8   27.0  \n",
       "3d-mark.exe.win32nt.workstationone.[0, 5, 6, 2,...   312.8   27.0  \n",
       "3d-mark.exe.win32nt.workstationone.[0, 5, 6, 2,...   312.8   27.0  \n",
       "3d-mark.exe.win32nt.workstationone.[0, 5, 6, 2,...   312.8   27.0  \n",
       "3d-mark.exe.win32nt.workstationone.[0, 5, 6, 2,...   312.8   27.0  "
      ]
     },
     "execution_count": 105,
     "metadata": {},
     "output_type": "execute_result"
    },
    {
     "data": {
      "image/png": "[encoded data removed]",
      "text/plain": [
       "<Figure size 640x480 with 1 Axes>"
      ]
     },
     "metadata": {},
     "output_type": "display_data"
    }
   ],
   "source": [
    "cochrans_data = {\n",
    "    \"\" : [\"with\", \"without\", 'z', 'z - n', \"count\"]\n",
    "}\n",
    "\n",
    "Z = 1.96\n",
    "E = 0.03\n",
    "\n",
    "include_outliers = False\n",
    "\n",
    "# used_df = last_k_df\n",
    "used_df = data_df_watt\n",
    "\n",
    "# for column in last_k_df.columns:\n",
    "for column in used_df.columns:\n",
    "    # print(column)\n",
    "    used_df_without_outlisers = math_util.exclude_outliers(used_df, column)\n",
    "    used_df_without_z_score_outliers = remove_outliers_z_score(used_df, column, 1)\n",
    "    \n",
    "    used_df_without_n_percent = remove_n_percent(used_df, column, 20)\n",
    "    used_df_without_n_percent = pd.DataFrame({column : used_df_without_n_percent})\n",
    "    used_df_without_z_and_n_score_outliers = remove_outliers_z_score(used_df_without_n_percent, column, 1)\n",
    "    \n",
    "    current_count = used_df[column].count()\n",
    "    \n",
    "    values = used_df_without_outlisers\n",
    "    n_zero_without = math_util.get_cochran(values, Z, E)\n",
    "    \n",
    "    values = used_df_without_z_score_outliers\n",
    "    n_zero_without_z_outliers = math_util.get_cochran(values, Z, E)\n",
    "    \n",
    "    values = used_df_without_z_and_n_score_outliers\n",
    "    n_zero_without_z_and_n_outliers = math_util.get_cochran(values, Z, E)\n",
    "    \n",
    "    values = list(used_df[column])\n",
    "    n_zero = math_util.get_cochran(values, Z, E)\n",
    "    \n",
    "    cochrans_data[column] = [round(n_zero, 1), round(n_zero_without, 1),  round(n_zero_without_z_outliers, 1), round(n_zero_without_z_and_n_outliers, 1), current_count]\n",
    "    # cochrans_data[column] = [round(n_zero, 1), round(n_zero_without, 1),  round(n_zero_without_z_outliers, 1), current_count]\n",
    "\n",
    "pd.DataFrame(cochrans_data).T"
   ]
  },
  {
   "cell_type": "code",
   "execution_count": null,
   "metadata": {},
   "outputs": [
    {
     "data": {
      "image/png": "[encoded data removed]",
      "text/plain": [
       "<Figure size 640x480 with 1 Axes>"
      ]
     },
     "metadata": {},
     "output_type": "display_data"
    }
   ],
   "source": [
    "\n",
    "_, box_plot_data = data_df.boxplot(return_type=\"both\")\n",
    "medians = [median.get_ydata() for median in box_plot_data[\"medians\"]]"
   ]
  },
  {
   "cell_type": "code",
   "execution_count": null,
   "metadata": {},
   "outputs": [
    {
     "data": {
      "text/plain": [
       "[array([1247.30926362, 1247.30926362]),\n",
       " array([1261.31665623, 1261.31665623]),\n",
       " array([1276.97959447, 1276.97959447]),\n",
       " array([1277.77005023, 1277.77005023]),\n",
       " array([1276.97959447, 1276.97959447]),\n",
       " array([1276.53005963, 1276.53005963]),\n",
       " array([1276.53005963, 1276.53005963]),\n",
       " array([1276.53005963, 1276.53005963]),\n",
       " array([1276.53005963, 1276.53005963]),\n",
       " array([1276.53005963, 1276.53005963]),\n",
       " array([1022.41563385, 1022.41563385]),\n",
       " array([1028.67789171, 1028.67789171]),\n",
       " array([1039.91779602, 1039.91779602]),\n",
       " array([1050.24821078, 1050.24821078]),\n",
       " array([1062.81004756, 1062.81004756]),\n",
       " array([1076.25236444, 1076.25236444]),\n",
       " array([1076.25236444, 1076.25236444]),\n",
       " array([1076.25236444, 1076.25236444]),\n",
       " array([1076.25236444, 1076.25236444]),\n",
       " array([1076.25236444, 1076.25236444])]"
      ]
     },
     "execution_count": 108,
     "metadata": {},
     "output_type": "execute_result"
    }
   ],
   "source": [
    "medians"
   ]
  },
  {
   "cell_type": "code",
   "execution_count": null,
   "metadata": {},
   "outputs": [],
   "source": [
    "first_median = medians[0][0]\n",
    "second_last_median = medians[-2][0]\n",
    "last_median = medians[-1][0]"
   ]
  },
  {
   "cell_type": "code",
   "execution_count": null,
   "metadata": {},
   "outputs": [
    {
     "data": {
      "text/plain": [
       "(1247.3092636171586, 1076.252364443225, 1076.252364443225)"
      ]
     },
     "execution_count": 110,
     "metadata": {},
     "output_type": "execute_result"
    }
   ],
   "source": [
    "first_median, last_median, second_last_median"
   ]
  },
  {
   "cell_type": "code",
   "execution_count": null,
   "metadata": {},
   "outputs": [
    {
     "data": {
      "text/plain": [
       "86.28592730259422"
      ]
     },
     "execution_count": 111,
     "metadata": {},
     "output_type": "execute_result"
    }
   ],
   "source": [
    "(last_median / first_median) * 100"
   ]
  },
  {
   "cell_type": "code",
   "execution_count": null,
   "metadata": {},
   "outputs": [],
   "source": [
    "box_plot_raw_data = [\n",
    "    {\n",
    "        # \"data\" : data_df,\n",
    "        # \"name\" : \"CPU\",\n",
    "        # \"data_type\" : \"energy consumption\",\n",
    "        # \"width\" : 0.9,\n",
    "        # \"xmin\" : 0,\n",
    "        # \"xmax\" : 900,\n",
    "        # \"xlabel\" : \"Total Energy Consumption (Joules)\"\n",
    "    }\n",
    "]"
   ]
  },
  {
   "cell_type": "code",
   "execution_count": null,
   "metadata": {},
   "outputs": [
    {
     "name": "stdout",
     "output_type": "stream",
     "text": [
      "start\n"
     ]
    },
    {
     "ename": "KeyError",
     "evalue": "'data'",
     "output_type": "error",
     "traceback": [
      "\u001b[1;31m---------------------------------------------------------------------------\u001b[0m",
      "\u001b[1;31mKeyError\u001b[0m                                  Traceback (most recent call last)",
      "Cell \u001b[1;32mIn[113], line 3\u001b[0m\n\u001b[0;32m      1\u001b[0m \u001b[39mfor\u001b[39;00m plot_data \u001b[39min\u001b[39;00m box_plot_raw_data:\n\u001b[0;32m      2\u001b[0m     \u001b[39mprint\u001b[39m(\u001b[39m\"\u001b[39m\u001b[39mstart\u001b[39m\u001b[39m\"\u001b[39m)\n\u001b[1;32m----> 3\u001b[0m     data \u001b[39m=\u001b[39m plot_data[\u001b[39m\"\u001b[39;49m\u001b[39mdata\u001b[39;49m\u001b[39m\"\u001b[39;49m]\n\u001b[0;32m      4\u001b[0m     width \u001b[39m=\u001b[39m plot_data[\u001b[39m\"\u001b[39m\u001b[39mwidth\u001b[39m\u001b[39m\"\u001b[39m]\n\u001b[0;32m      5\u001b[0m     height \u001b[39m=\u001b[39m \u001b[39m0.1\u001b[39m \u001b[39m+\u001b[39m (\u001b[39mlen\u001b[39m(data\u001b[39m.\u001b[39mcolumns) \u001b[39m*\u001b[39m \u001b[39m0.02\u001b[39m)\n",
      "\u001b[1;31mKeyError\u001b[0m: 'data'"
     ]
    }
   ],
   "source": [
    "for plot_data in box_plot_raw_data:\n",
    "    print(\"start\")\n",
    "    data = plot_data[\"data\"]\n",
    "    width = plot_data[\"width\"]\n",
    "    height = 0.1 + (len(data.columns) * 0.02)\n",
    "    xmin = plot_data[\"xmin\"]\n",
    "    xmax = plot_data[\"xmax\"]\n",
    "    xlabel = plot_data[\"xlabel\"]\n",
    "    \n",
    "    latex_boxes = tex.get_boxes(data)\n",
    "    plot.clf()\n",
    "    # latex_boxes = tex.get_boxes(pd.DataFrame(data['fannkuch-redux.exe.ipg.workstationone.all.intel-one-api.win32nt']))\n",
    "    \n",
    "    title = f\"The evolution of energy consumption\"\n",
    "    \n",
    "    \n",
    "    ytick = str(list(range(1, len(list(data.columns))+1))).replace('[', '').replace(']', '')\n",
    "    \n",
    "    yticklables = [\n",
    "        # '100',\n",
    "        # '200',\n",
    "        # '300',\n",
    "        # '400',\n",
    "        # '500',\n",
    "        # '600',\n",
    "        # '700',\n",
    "        # '800',\n",
    "        # '900',\n",
    "        # '1000'\n",
    "        '200, '\n",
    "        '400, '\n",
    "        '600, '\n",
    "        '800, '\n",
    "        '1000, '\n",
    "        '1200, '\n",
    "        '1400, '\n",
    "        '1600, '\n",
    "        '1800, '\n",
    "        '2000, '\n",
    "        '2200, '\n",
    "        '2400, '\n",
    "        '2600, '\n",
    "        '2800, '\n",
    "        '3000, '\n",
    "    ]\n",
    "    \n",
    "    labels = f\"evolution_of_medians\".lower()\n",
    "    \n",
    "    caption = \"A visual representation of how the energy measurements evolve as more measurements are made by clamp on DUT 2 for test case MB\"\n",
    "    \n",
    "    latex_box_plot = tex.get_boxplot_template(width, height, xlabel, title, ytick, yticklables, xmin, xmax, latex_boxes, caption, labels)\n",
    "\n",
    "    box_plot_path = f\"evolution\"\n",
    "    box_plot_file_name = f\"evolution.tex\"\n",
    "    print(f\"generating {box_plot_file_name}\")\n",
    "    # print(data)\n",
    "    path_util.write_to_path(box_plot_path.replace('.exe', ''), box_plot_file_name, latex_box_plot)"
   ]
  }
 ],
 "metadata": {
  "kernelspec": {
   "display_name": "env",
   "language": "python",
   "name": "python3"
  },
  "language_info": {
   "codemirror_mode": {
    "name": "ipython",
    "version": 3
   },
   "file_extension": ".py",
   "mimetype": "text/x-python",
   "name": "python",
   "nbconvert_exporter": "python",
   "pygments_lexer": "ipython3",
   "version": "3.10.7"
  },
  "orig_nbformat": 4
 },
 "nbformat": 4,
 "nbformat_minor": 2
}
